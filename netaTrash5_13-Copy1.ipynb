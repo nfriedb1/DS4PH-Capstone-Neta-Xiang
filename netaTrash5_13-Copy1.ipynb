{
 "cells": [
  {
   "cell_type": "code",
   "execution_count": 2,
   "id": "4561f082-b1cb-4255-98ba-07c536bdc18d",
   "metadata": {},
   "outputs": [],
   "source": [
    "import pandas as pd\n",
    "import numpy as np\n",
    "import matplotlib.pyplot as plt\n",
    "import seaborn as sns\n",
    "from scipy import stats as st\n",
    "sns.set()\n",
    "from sklearn.metrics import accuracy_score, roc_curve, auc\n",
    "import sklearn\n",
    "from sklearn import linear_model\n",
    "import sklearn.linear_model as lm\n",
    "from sklearn.linear_model import LinearRegression\n",
    "import seaborn as sns\n",
    "import sklearn as skl\n",
    "import statsmodels.formula.api as smf\n",
    "import torch"
   ]
  },
  {
   "cell_type": "code",
   "execution_count": 3,
   "id": "d8552634-54da-4556-8fb0-a809d1fe03ea",
   "metadata": {},
   "outputs": [
    {
     "data": {
      "text/html": [
       "<div>\n",
       "<style scoped>\n",
       "    .dataframe tbody tr th:only-of-type {\n",
       "        vertical-align: middle;\n",
       "    }\n",
       "\n",
       "    .dataframe tbody tr th {\n",
       "        vertical-align: top;\n",
       "    }\n",
       "\n",
       "    .dataframe thead th {\n",
       "        text-align: right;\n",
       "    }\n",
       "</style>\n",
       "<table border=\"1\" class=\"dataframe\">\n",
       "  <thead>\n",
       "    <tr style=\"text-align: right;\">\n",
       "      <th></th>\n",
       "      <th>ct</th>\n",
       "      <th>svi_ptile</th>\n",
       "      <th>transit_ptile</th>\n",
       "      <th>asthmavalue</th>\n",
       "      <th>PTRAF_bycensus</th>\n",
       "      <th>No_of_Stops</th>\n",
       "      <th>PTover45m_pct</th>\n",
       "      <th>lungCAvalue</th>\n",
       "      <th>CADvalue</th>\n",
       "      <th>LBWvalue</th>\n",
       "    </tr>\n",
       "  </thead>\n",
       "  <tbody>\n",
       "    <tr>\n",
       "      <th>0</th>\n",
       "      <td>24510010100</td>\n",
       "      <td>0.045690</td>\n",
       "      <td>0.029276</td>\n",
       "      <td>0.087</td>\n",
       "      <td>685.684371</td>\n",
       "      <td>10</td>\n",
       "      <td>24.51</td>\n",
       "      <td>13</td>\n",
       "      <td>0.472</td>\n",
       "      <td>0.131</td>\n",
       "    </tr>\n",
       "    <tr>\n",
       "      <th>3</th>\n",
       "      <td>24510010200</td>\n",
       "      <td>0.015230</td>\n",
       "      <td>0.124807</td>\n",
       "      <td>0.082</td>\n",
       "      <td>686.778083</td>\n",
       "      <td>8</td>\n",
       "      <td>54.24</td>\n",
       "      <td>6</td>\n",
       "      <td>0.443</td>\n",
       "      <td>0.462</td>\n",
       "    </tr>\n",
       "    <tr>\n",
       "      <th>7</th>\n",
       "      <td>24510010300</td>\n",
       "      <td>0.005076</td>\n",
       "      <td>0.036980</td>\n",
       "      <td>0.082</td>\n",
       "      <td>1074.000000</td>\n",
       "      <td>6</td>\n",
       "      <td>15.38</td>\n",
       "      <td>1</td>\n",
       "      <td>0.313</td>\n",
       "      <td>0.106</td>\n",
       "    </tr>\n",
       "    <tr>\n",
       "      <th>9</th>\n",
       "      <td>24510010400</td>\n",
       "      <td>0.076140</td>\n",
       "      <td>0.033898</td>\n",
       "      <td>0.081</td>\n",
       "      <td>1072.952243</td>\n",
       "      <td>15</td>\n",
       "      <td>57.58</td>\n",
       "      <td>7</td>\n",
       "      <td>0.587</td>\n",
       "      <td>0.127</td>\n",
       "    </tr>\n",
       "    <tr>\n",
       "      <th>11</th>\n",
       "      <td>24510010500</td>\n",
       "      <td>0.081220</td>\n",
       "      <td>0.101695</td>\n",
       "      <td>0.083</td>\n",
       "      <td>1487.000000</td>\n",
       "      <td>2</td>\n",
       "      <td>50.77</td>\n",
       "      <td>1</td>\n",
       "      <td>0.384</td>\n",
       "      <td>0.176</td>\n",
       "    </tr>\n",
       "    <tr>\n",
       "      <th>...</th>\n",
       "      <td>...</td>\n",
       "      <td>...</td>\n",
       "      <td>...</td>\n",
       "      <td>...</td>\n",
       "      <td>...</td>\n",
       "      <td>...</td>\n",
       "      <td>...</td>\n",
       "      <td>...</td>\n",
       "      <td>...</td>\n",
       "      <td>...</td>\n",
       "    </tr>\n",
       "    <tr>\n",
       "      <th>635</th>\n",
       "      <td>24510280401</td>\n",
       "      <td>0.208100</td>\n",
       "      <td>0.805855</td>\n",
       "      <td>0.114</td>\n",
       "      <td>1104.810421</td>\n",
       "      <td>8</td>\n",
       "      <td>100.00</td>\n",
       "      <td>19</td>\n",
       "      <td>0.386</td>\n",
       "      <td>0.536</td>\n",
       "    </tr>\n",
       "    <tr>\n",
       "      <th>640</th>\n",
       "      <td>24510280402</td>\n",
       "      <td>0.360400</td>\n",
       "      <td>0.998459</td>\n",
       "      <td>0.119</td>\n",
       "      <td>731.266859</td>\n",
       "      <td>1</td>\n",
       "      <td>73.56</td>\n",
       "      <td>1</td>\n",
       "      <td>0.083</td>\n",
       "      <td>0.825</td>\n",
       "    </tr>\n",
       "    <tr>\n",
       "      <th>642</th>\n",
       "      <td>24510280403</td>\n",
       "      <td>0.213200</td>\n",
       "      <td>0.257319</td>\n",
       "      <td>0.114</td>\n",
       "      <td>649.600265</td>\n",
       "      <td>20</td>\n",
       "      <td>52.26</td>\n",
       "      <td>17</td>\n",
       "      <td>0.590</td>\n",
       "      <td>0.830</td>\n",
       "    </tr>\n",
       "    <tr>\n",
       "      <th>647</th>\n",
       "      <td>24510280404</td>\n",
       "      <td>0.832500</td>\n",
       "      <td>0.445300</td>\n",
       "      <td>0.124</td>\n",
       "      <td>1527.100404</td>\n",
       "      <td>10</td>\n",
       "      <td>52.66</td>\n",
       "      <td>12</td>\n",
       "      <td>0.321</td>\n",
       "      <td>0.853</td>\n",
       "    </tr>\n",
       "    <tr>\n",
       "      <th>649</th>\n",
       "      <td>24510280500</td>\n",
       "      <td>0.979700</td>\n",
       "      <td>0.231125</td>\n",
       "      <td>0.136</td>\n",
       "      <td>3385.685542</td>\n",
       "      <td>25</td>\n",
       "      <td>65.99</td>\n",
       "      <td>24</td>\n",
       "      <td>0.710</td>\n",
       "      <td>0.375</td>\n",
       "    </tr>\n",
       "  </tbody>\n",
       "</table>\n",
       "<p>220 rows × 10 columns</p>\n",
       "</div>"
      ],
      "text/plain": [
       "              ct  svi_ptile  transit_ptile  asthmavalue  PTRAF_bycensus  \\\n",
       "0    24510010100   0.045690       0.029276        0.087      685.684371   \n",
       "3    24510010200   0.015230       0.124807        0.082      686.778083   \n",
       "7    24510010300   0.005076       0.036980        0.082     1074.000000   \n",
       "9    24510010400   0.076140       0.033898        0.081     1072.952243   \n",
       "11   24510010500   0.081220       0.101695        0.083     1487.000000   \n",
       "..           ...        ...            ...          ...             ...   \n",
       "635  24510280401   0.208100       0.805855        0.114     1104.810421   \n",
       "640  24510280402   0.360400       0.998459        0.119      731.266859   \n",
       "642  24510280403   0.213200       0.257319        0.114      649.600265   \n",
       "647  24510280404   0.832500       0.445300        0.124     1527.100404   \n",
       "649  24510280500   0.979700       0.231125        0.136     3385.685542   \n",
       "\n",
       "     No_of_Stops  PTover45m_pct  lungCAvalue  CADvalue  LBWvalue  \n",
       "0             10          24.51           13     0.472     0.131  \n",
       "3              8          54.24            6     0.443     0.462  \n",
       "7              6          15.38            1     0.313     0.106  \n",
       "9             15          57.58            7     0.587     0.127  \n",
       "11             2          50.77            1     0.384     0.176  \n",
       "..           ...            ...          ...       ...       ...  \n",
       "635            8         100.00           19     0.386     0.536  \n",
       "640            1          73.56            1     0.083     0.825  \n",
       "642           20          52.26           17     0.590     0.830  \n",
       "647           10          52.66           12     0.321     0.853  \n",
       "649           25          65.99           24     0.710     0.375  \n",
       "\n",
       "[220 rows x 10 columns]"
      ]
     },
     "execution_count": 3,
     "metadata": {},
     "output_type": "execute_result"
    }
   ],
   "source": [
    "df = pd.read_csv(\"https://raw.githubusercontent.com/nfriedb1/DS4PH-Capstone-Neta-Xiang/main/DSPH_Capstone_Data.csv\")\n",
    "df = df.drop(df.loc[:, 'Unnamed: 12':'Unnamed: 23'].columns, axis = 1)\n",
    "df = df.drop([\"GEOID\", \"PTRAF\"], axis = 1)\n",
    "df = df.drop_duplicates(subset=None, keep='first', inplace=False, ignore_index=False)\n",
    "df = df.drop(labels=[120, 403, 575], axis=0) #deleted rows with NA \n",
    "df"
   ]
  },
  {
   "cell_type": "code",
   "execution_count": 19,
   "id": "02e645cb-a07a-4763-aa07-be89b0875202",
   "metadata": {},
   "outputs": [
    {
     "data": {
      "text/plain": [
       "11.510909090909097"
      ]
     },
     "execution_count": 19,
     "metadata": {},
     "output_type": "execute_result"
    }
   ],
   "source": [
    "lungmean = df['lungCAvalue'].mean()\n",
    "asthmamean = df['asthmavalue'].mean() * 100\n",
    "CADmean = df['CADvalue'].mean() * 100\n",
    "LBWmean = df['LBWvalue'].mean() * 100\n"
   ]
  },
  {
   "cell_type": "code",
   "execution_count": 50,
   "id": "ce47696d-f095-4e7b-bae3-63adb25bfbfd",
   "metadata": {},
   "outputs": [
    {
     "name": "stdout",
     "output_type": "stream",
     "text": [
      "     svi_ptile  transit_ptile\n",
      "0     0.045690       0.029276\n",
      "3     0.015230       0.124807\n",
      "7     0.005076       0.036980\n",
      "9     0.076140       0.033898\n",
      "11    0.081220       0.101695\n",
      "..         ...            ...\n",
      "635   0.208100       0.805855\n",
      "640   0.360400       0.998459\n",
      "642   0.213200       0.257319\n",
      "647   0.832500       0.445300\n",
      "649   0.979700       0.231125\n",
      "\n",
      "[220 rows x 2 columns]\n"
     ]
    }
   ],
   "source": [
    "y = df['asthmavalue']\n",
    "x = df[[\"svi_ptile\", \"transit_ptile\"]]\n",
    "x_withcensus = df[[\"ct\", \"svi_ptile\", \"transit_ptile\"]]\n",
    "df_final = pd.concat([x, y], axis=1)\n",
    "df_final"
   ]
  },
  {
   "cell_type": "code",
   "execution_count": 9,
   "id": "d9ee2915-950b-4966-9e6a-1a2a564f8e96",
   "metadata": {},
   "outputs": [
    {
     "data": {
      "text/plain": [
       "[0.08615421688143489, array([0.04810285, 0.00918508])]"
      ]
     },
     "execution_count": 9,
     "metadata": {},
     "output_type": "execute_result"
    }
   ],
   "source": [
    "fit2 = LinearRegression().fit(x, y)\n",
    "yhat2 = fit2.predict(x)\n",
    "[fit2.intercept_,fit2.coef_]"
   ]
  },
  {
   "cell_type": "code",
   "execution_count": 90,
   "id": "2d1d72b0-eef0-41cc-86a4-de3c24bc5776",
   "metadata": {},
   "outputs": [
    {
     "data": {
      "text/plain": [
       "'8.8621'"
      ]
     },
     "execution_count": 90,
     "metadata": {},
     "output_type": "execute_result"
    }
   ],
   "source": [
    "def getPrediction(ct):\n",
    "    for i in range(len(x_withcensus)):\n",
    "        if str(x_withcensus['ct'].iloc[i]) == ct:\n",
    "            x_svi = x_withcensus['svi_ptile'].iloc[i]\n",
    "            x_transit = x_withcensus['transit_ptile'].iloc[i]\n",
    "            x_pred = pd.DataFrame({'svi_ptile': [x_svi], 'transit_ptile': [x_transit]})\n",
    "            ##print(x_pred)\n",
    "        prediction = fit2.predict(x_pred)\n",
    "    if prediction is not None:\n",
    "        prediction = np.array2string(prediction)[1:-1]\n",
    "        prediction = float(prediction) * 100\n",
    "        prediction = round(prediction, 4)\n",
    "        prediction = str(prediction)\n",
    "        return(prediction)\n",
    "getPrediction(\"24510010100\")"
   ]
  },
  {
   "cell_type": "code",
   "execution_count": 18,
   "id": "ac4685d0-283e-4764-aff6-4667e6541c62",
   "metadata": {},
   "outputs": [
    {
     "data": {
      "text/plain": [
       "24510020100.0"
      ]
     },
     "execution_count": 18,
     "metadata": {},
     "output_type": "execute_result"
    }
   ],
   "source": [
    "x_withcensus.iloc[5][\"ct\"]"
   ]
  },
  {
   "cell_type": "code",
   "execution_count": 22,
   "id": "bddfb5c0-7d6e-4480-bb7c-3307d8293561",
   "metadata": {},
   "outputs": [
    {
     "data": {
      "text/plain": [
       "24510020100"
      ]
     },
     "execution_count": 22,
     "metadata": {},
     "output_type": "execute_result"
    }
   ],
   "source": [
    "x_withcensus['ct'].iloc[5]"
   ]
  },
  {
   "cell_type": "code",
   "execution_count": 33,
   "id": "51e56be7-99d8-4824-baff-f9d82ab495ab",
   "metadata": {},
   "outputs": [
    {
     "name": "stdout",
     "output_type": "stream",
     "text": [
      "24510010100\n",
      "24510010100\n"
     ]
    }
   ],
   "source": [
    "#for i in range(len(x_withcensus)):\n",
    "ct = '24510010100'\n",
    "print(x_withcensus['ct'].iloc[0])\n",
    "print(ct)"
   ]
  },
  {
   "cell_type": "code",
   "execution_count": 40,
   "id": "0b24187b-d1f0-499d-9b2d-923f9ebdb332",
   "metadata": {},
   "outputs": [
    {
     "name": "stdout",
     "output_type": "stream",
     "text": [
      "24510010100\n",
      "24510010100\n"
     ]
    }
   ],
   "source": [
    "\n",
    "ct = '24510010100'\n",
    "if str(x_withcensus['ct'].iloc[0]) == ct:\n",
    "    print(ct)\n",
    "else:\n",
    "    print('no')\n",
    "print(x_withcensus['ct'].iloc[0])"
   ]
  },
  {
   "cell_type": "code",
   "execution_count": null,
   "id": "5bc81fc9-441d-4882-aa54-b66befa6471b",
   "metadata": {},
   "outputs": [],
   "source": []
  }
 ],
 "metadata": {
  "kernelspec": {
   "display_name": "Python 3 (ipykernel)",
   "language": "python",
   "name": "python3"
  },
  "language_info": {
   "codemirror_mode": {
    "name": "ipython",
    "version": 3
   },
   "file_extension": ".py",
   "mimetype": "text/x-python",
   "name": "python",
   "nbconvert_exporter": "python",
   "pygments_lexer": "ipython3",
   "version": "3.9.7"
  }
 },
 "nbformat": 4,
 "nbformat_minor": 5
}
