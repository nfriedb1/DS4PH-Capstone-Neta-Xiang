{
 "cells": [
  {
   "cell_type": "code",
   "execution_count": 1,
   "id": "1722c89a-2aa8-4f30-be66-699834e0833b",
   "metadata": {},
   "outputs": [],
   "source": [
    "import pandas as pd\n",
    "import numpy as np\n",
    "import matplotlib.pyplot as plt\n",
    "import seaborn as sns\n",
    "from scipy import stats as st\n",
    "sns.set()\n",
    "from sklearn.metrics import accuracy_score, roc_curve, auc\n",
    "import sklearn\n",
    "from sklearn import linear_model\n",
    "import sklearn.linear_model as lm\n",
    "from sklearn.linear_model import LinearRegression\n",
    "import seaborn as sns\n",
    "import sklearn as skl\n",
    "import statsmodels.formula.api as smf\n",
    "import torch"
   ]
  },
  {
   "cell_type": "code",
   "execution_count": 2,
   "id": "928c59c8-8148-47fe-90b6-4c78bc8062d9",
   "metadata": {},
   "outputs": [
    {
     "data": {
      "text/html": [
       "<div>\n",
       "<style scoped>\n",
       "    .dataframe tbody tr th:only-of-type {\n",
       "        vertical-align: middle;\n",
       "    }\n",
       "\n",
       "    .dataframe tbody tr th {\n",
       "        vertical-align: top;\n",
       "    }\n",
       "\n",
       "    .dataframe thead th {\n",
       "        text-align: right;\n",
       "    }\n",
       "</style>\n",
       "<table border=\"1\" class=\"dataframe\">\n",
       "  <thead>\n",
       "    <tr style=\"text-align: right;\">\n",
       "      <th></th>\n",
       "      <th>ct</th>\n",
       "      <th>svi_ptile</th>\n",
       "      <th>transit_ptile</th>\n",
       "      <th>asthmavalue</th>\n",
       "      <th>PTRAF_bycensus</th>\n",
       "      <th>No_of_Stops</th>\n",
       "      <th>PTover45m_pct</th>\n",
       "      <th>lungCAvalue</th>\n",
       "      <th>CADvalue</th>\n",
       "      <th>LBWvalue</th>\n",
       "    </tr>\n",
       "  </thead>\n",
       "  <tbody>\n",
       "    <tr>\n",
       "      <th>0</th>\n",
       "      <td>24510010100</td>\n",
       "      <td>0.045690</td>\n",
       "      <td>0.029276</td>\n",
       "      <td>0.087</td>\n",
       "      <td>685.684371</td>\n",
       "      <td>10</td>\n",
       "      <td>24.51</td>\n",
       "      <td>13</td>\n",
       "      <td>0.472</td>\n",
       "      <td>0.131</td>\n",
       "    </tr>\n",
       "    <tr>\n",
       "      <th>3</th>\n",
       "      <td>24510010200</td>\n",
       "      <td>0.015230</td>\n",
       "      <td>0.124807</td>\n",
       "      <td>0.082</td>\n",
       "      <td>686.778083</td>\n",
       "      <td>8</td>\n",
       "      <td>54.24</td>\n",
       "      <td>6</td>\n",
       "      <td>0.443</td>\n",
       "      <td>0.462</td>\n",
       "    </tr>\n",
       "    <tr>\n",
       "      <th>7</th>\n",
       "      <td>24510010300</td>\n",
       "      <td>0.005076</td>\n",
       "      <td>0.036980</td>\n",
       "      <td>0.082</td>\n",
       "      <td>1074.000000</td>\n",
       "      <td>6</td>\n",
       "      <td>15.38</td>\n",
       "      <td>1</td>\n",
       "      <td>0.313</td>\n",
       "      <td>0.106</td>\n",
       "    </tr>\n",
       "    <tr>\n",
       "      <th>9</th>\n",
       "      <td>24510010400</td>\n",
       "      <td>0.076140</td>\n",
       "      <td>0.033898</td>\n",
       "      <td>0.081</td>\n",
       "      <td>1072.952243</td>\n",
       "      <td>15</td>\n",
       "      <td>57.58</td>\n",
       "      <td>7</td>\n",
       "      <td>0.587</td>\n",
       "      <td>0.127</td>\n",
       "    </tr>\n",
       "    <tr>\n",
       "      <th>11</th>\n",
       "      <td>24510010500</td>\n",
       "      <td>0.081220</td>\n",
       "      <td>0.101695</td>\n",
       "      <td>0.083</td>\n",
       "      <td>1487.000000</td>\n",
       "      <td>2</td>\n",
       "      <td>50.77</td>\n",
       "      <td>1</td>\n",
       "      <td>0.384</td>\n",
       "      <td>0.176</td>\n",
       "    </tr>\n",
       "    <tr>\n",
       "      <th>...</th>\n",
       "      <td>...</td>\n",
       "      <td>...</td>\n",
       "      <td>...</td>\n",
       "      <td>...</td>\n",
       "      <td>...</td>\n",
       "      <td>...</td>\n",
       "      <td>...</td>\n",
       "      <td>...</td>\n",
       "      <td>...</td>\n",
       "      <td>...</td>\n",
       "    </tr>\n",
       "    <tr>\n",
       "      <th>635</th>\n",
       "      <td>24510280401</td>\n",
       "      <td>0.208100</td>\n",
       "      <td>0.805855</td>\n",
       "      <td>0.114</td>\n",
       "      <td>1104.810421</td>\n",
       "      <td>8</td>\n",
       "      <td>100.00</td>\n",
       "      <td>19</td>\n",
       "      <td>0.386</td>\n",
       "      <td>0.536</td>\n",
       "    </tr>\n",
       "    <tr>\n",
       "      <th>640</th>\n",
       "      <td>24510280402</td>\n",
       "      <td>0.360400</td>\n",
       "      <td>0.998459</td>\n",
       "      <td>0.119</td>\n",
       "      <td>731.266859</td>\n",
       "      <td>1</td>\n",
       "      <td>73.56</td>\n",
       "      <td>1</td>\n",
       "      <td>0.083</td>\n",
       "      <td>0.825</td>\n",
       "    </tr>\n",
       "    <tr>\n",
       "      <th>642</th>\n",
       "      <td>24510280403</td>\n",
       "      <td>0.213200</td>\n",
       "      <td>0.257319</td>\n",
       "      <td>0.114</td>\n",
       "      <td>649.600265</td>\n",
       "      <td>20</td>\n",
       "      <td>52.26</td>\n",
       "      <td>17</td>\n",
       "      <td>0.590</td>\n",
       "      <td>0.830</td>\n",
       "    </tr>\n",
       "    <tr>\n",
       "      <th>647</th>\n",
       "      <td>24510280404</td>\n",
       "      <td>0.832500</td>\n",
       "      <td>0.445300</td>\n",
       "      <td>0.124</td>\n",
       "      <td>1527.100404</td>\n",
       "      <td>10</td>\n",
       "      <td>52.66</td>\n",
       "      <td>12</td>\n",
       "      <td>0.321</td>\n",
       "      <td>0.853</td>\n",
       "    </tr>\n",
       "    <tr>\n",
       "      <th>649</th>\n",
       "      <td>24510280500</td>\n",
       "      <td>0.979700</td>\n",
       "      <td>0.231125</td>\n",
       "      <td>0.136</td>\n",
       "      <td>3385.685542</td>\n",
       "      <td>25</td>\n",
       "      <td>65.99</td>\n",
       "      <td>24</td>\n",
       "      <td>0.710</td>\n",
       "      <td>0.375</td>\n",
       "    </tr>\n",
       "  </tbody>\n",
       "</table>\n",
       "<p>220 rows × 10 columns</p>\n",
       "</div>"
      ],
      "text/plain": [
       "              ct  svi_ptile  transit_ptile  asthmavalue  PTRAF_bycensus  \\\n",
       "0    24510010100   0.045690       0.029276        0.087      685.684371   \n",
       "3    24510010200   0.015230       0.124807        0.082      686.778083   \n",
       "7    24510010300   0.005076       0.036980        0.082     1074.000000   \n",
       "9    24510010400   0.076140       0.033898        0.081     1072.952243   \n",
       "11   24510010500   0.081220       0.101695        0.083     1487.000000   \n",
       "..           ...        ...            ...          ...             ...   \n",
       "635  24510280401   0.208100       0.805855        0.114     1104.810421   \n",
       "640  24510280402   0.360400       0.998459        0.119      731.266859   \n",
       "642  24510280403   0.213200       0.257319        0.114      649.600265   \n",
       "647  24510280404   0.832500       0.445300        0.124     1527.100404   \n",
       "649  24510280500   0.979700       0.231125        0.136     3385.685542   \n",
       "\n",
       "     No_of_Stops  PTover45m_pct  lungCAvalue  CADvalue  LBWvalue  \n",
       "0             10          24.51           13     0.472     0.131  \n",
       "3              8          54.24            6     0.443     0.462  \n",
       "7              6          15.38            1     0.313     0.106  \n",
       "9             15          57.58            7     0.587     0.127  \n",
       "11             2          50.77            1     0.384     0.176  \n",
       "..           ...            ...          ...       ...       ...  \n",
       "635            8         100.00           19     0.386     0.536  \n",
       "640            1          73.56            1     0.083     0.825  \n",
       "642           20          52.26           17     0.590     0.830  \n",
       "647           10          52.66           12     0.321     0.853  \n",
       "649           25          65.99           24     0.710     0.375  \n",
       "\n",
       "[220 rows x 10 columns]"
      ]
     },
     "execution_count": 2,
     "metadata": {},
     "output_type": "execute_result"
    }
   ],
   "source": [
    "df = pd.read_csv(\"https://raw.githubusercontent.com/nfriedb1/DS4PH-Capstone-Neta-Xiang/main/DSPH_Capstone_Data.csv\")\n",
    "df = df.drop(df.loc[:, 'Unnamed: 12':'Unnamed: 23'].columns, axis = 1)\n",
    "df = df.drop([\"GEOID\", \"PTRAF\"], axis = 1)\n",
    "df = df.drop_duplicates(subset=None, keep='first', inplace=False, ignore_index=False)\n",
    "df = df.drop(labels=[120, 403, 575], axis=0) #deleted rows with NA \n",
    "df"
   ]
  },
  {
   "cell_type": "code",
   "execution_count": 3,
   "id": "73c48e3f-3177-49a0-9d8b-991ac5a6c27d",
   "metadata": {},
   "outputs": [],
   "source": [
    "## LINEAR REGRESSION (MODEL 1) WITH COLLINEARITY ##\n",
    "# variables: svi_ptile , transit_ptile , PTRAF_bycensus \n",
    "# collinearity present (transit_ptile and PTRAF_bycensus are collinear) "
   ]
  },
  {
   "cell_type": "code",
   "execution_count": 54,
   "id": "4856276a-ef63-4ebb-a0c5-465b07c3c9fe",
   "metadata": {},
   "outputs": [
    {
     "data": {
      "text/plain": [
       "[0.08819197913089867,\n",
       " array([ 4.84609339e-02,  7.47132629e-03, -9.52324789e-07])]"
      ]
     },
     "execution_count": 54,
     "metadata": {},
     "output_type": "execute_result"
    }
   ],
   "source": [
    "y_model1 = df['asthmavalue']\n",
    "x_model1 = df.drop(['ct', 'asthmavalue', 'lungCAvalue', 'CADvalue', 'LBWvalue', 'No_of_Stops', 'PTover45m_pct'], axis=1)\n",
    "fit1 = LinearRegression().fit(x_model1, y_model1)\n",
    "yhat1 = fit1.predict(x_model1)\n",
    "[fit1.intercept_,fit1.coef_]"
   ]
  },
  {
   "cell_type": "code",
   "execution_count": 55,
   "id": "14c781d2-ea77-479b-830a-79b783177614",
   "metadata": {},
   "outputs": [
    {
     "data": {
      "text/html": [
       "<div>\n",
       "<style scoped>\n",
       "    .dataframe tbody tr th:only-of-type {\n",
       "        vertical-align: middle;\n",
       "    }\n",
       "\n",
       "    .dataframe tbody tr th {\n",
       "        vertical-align: top;\n",
       "    }\n",
       "\n",
       "    .dataframe thead th {\n",
       "        text-align: right;\n",
       "    }\n",
       "</style>\n",
       "<table border=\"1\" class=\"dataframe\">\n",
       "  <thead>\n",
       "    <tr style=\"text-align: right;\">\n",
       "      <th></th>\n",
       "      <th>svi_ptile</th>\n",
       "      <th>transit_ptile</th>\n",
       "      <th>PTRAF_bycensus</th>\n",
       "    </tr>\n",
       "  </thead>\n",
       "  <tbody>\n",
       "    <tr>\n",
       "      <th>0</th>\n",
       "      <td>0.045690</td>\n",
       "      <td>0.029276</td>\n",
       "      <td>685.684371</td>\n",
       "    </tr>\n",
       "    <tr>\n",
       "      <th>3</th>\n",
       "      <td>0.015230</td>\n",
       "      <td>0.124807</td>\n",
       "      <td>686.778083</td>\n",
       "    </tr>\n",
       "    <tr>\n",
       "      <th>7</th>\n",
       "      <td>0.005076</td>\n",
       "      <td>0.036980</td>\n",
       "      <td>1074.000000</td>\n",
       "    </tr>\n",
       "    <tr>\n",
       "      <th>9</th>\n",
       "      <td>0.076140</td>\n",
       "      <td>0.033898</td>\n",
       "      <td>1072.952243</td>\n",
       "    </tr>\n",
       "    <tr>\n",
       "      <th>11</th>\n",
       "      <td>0.081220</td>\n",
       "      <td>0.101695</td>\n",
       "      <td>1487.000000</td>\n",
       "    </tr>\n",
       "    <tr>\n",
       "      <th>...</th>\n",
       "      <td>...</td>\n",
       "      <td>...</td>\n",
       "      <td>...</td>\n",
       "    </tr>\n",
       "    <tr>\n",
       "      <th>635</th>\n",
       "      <td>0.208100</td>\n",
       "      <td>0.805855</td>\n",
       "      <td>1104.810421</td>\n",
       "    </tr>\n",
       "    <tr>\n",
       "      <th>640</th>\n",
       "      <td>0.360400</td>\n",
       "      <td>0.998459</td>\n",
       "      <td>731.266859</td>\n",
       "    </tr>\n",
       "    <tr>\n",
       "      <th>642</th>\n",
       "      <td>0.213200</td>\n",
       "      <td>0.257319</td>\n",
       "      <td>649.600265</td>\n",
       "    </tr>\n",
       "    <tr>\n",
       "      <th>647</th>\n",
       "      <td>0.832500</td>\n",
       "      <td>0.445300</td>\n",
       "      <td>1527.100404</td>\n",
       "    </tr>\n",
       "    <tr>\n",
       "      <th>649</th>\n",
       "      <td>0.979700</td>\n",
       "      <td>0.231125</td>\n",
       "      <td>3385.685542</td>\n",
       "    </tr>\n",
       "  </tbody>\n",
       "</table>\n",
       "<p>220 rows × 3 columns</p>\n",
       "</div>"
      ],
      "text/plain": [
       "     svi_ptile  transit_ptile  PTRAF_bycensus\n",
       "0     0.045690       0.029276      685.684371\n",
       "3     0.015230       0.124807      686.778083\n",
       "7     0.005076       0.036980     1074.000000\n",
       "9     0.076140       0.033898     1072.952243\n",
       "11    0.081220       0.101695     1487.000000\n",
       "..         ...            ...             ...\n",
       "635   0.208100       0.805855     1104.810421\n",
       "640   0.360400       0.998459      731.266859\n",
       "642   0.213200       0.257319      649.600265\n",
       "647   0.832500       0.445300     1527.100404\n",
       "649   0.979700       0.231125     3385.685542\n",
       "\n",
       "[220 rows x 3 columns]"
      ]
     },
     "execution_count": 55,
     "metadata": {},
     "output_type": "execute_result"
    }
   ],
   "source": [
    "x_model1"
   ]
  },
  {
   "cell_type": "code",
   "execution_count": 56,
   "id": "4ac352f6-737e-4e65-a6d6-1c11358ba28f",
   "metadata": {},
   "outputs": [
    {
     "name": "stdout",
     "output_type": "stream",
     "text": [
      "0.04846093385797968 0.007471326285174193 -9.523247893545098e-07\n"
     ]
    }
   ],
   "source": [
    "b1_model1 = fit1.coef_[0]\n",
    "b2_model1 = fit1.coef_[1]\n",
    "b3_model1 = fit1.coef_[2]\n",
    "intercept = fit1.intercept_\n",
    "print(b1_model1, b2_model1, b3_model1)"
   ]
  },
  {
   "cell_type": "code",
   "execution_count": 57,
   "id": "14d088b6-24a3-4661-8b93-72d1509a33ed",
   "metadata": {},
   "outputs": [
    {
     "name": "stdout",
     "output_type": "stream",
     "text": [
      "                  Results: Ordinary least squares\n",
      "===================================================================\n",
      "Model:              OLS              Adj. R-squared:     0.721     \n",
      "Dependent Variable: asthmavalue      AIC:                -1429.4716\n",
      "Date:               2022-05-12 15:26 BIC:                -1415.8971\n",
      "No. Observations:   220              Log-Likelihood:     718.74    \n",
      "Df Model:           3                F-statistic:        189.7     \n",
      "Df Residuals:       216              Prob (F-statistic): 2.92e-60  \n",
      "R-squared:          0.725            Scale:              8.6662e-05\n",
      "--------------------------------------------------------------------\n",
      "                  Coef.   Std.Err.     t     P>|t|    [0.025  0.975]\n",
      "--------------------------------------------------------------------\n",
      "Intercept         0.0882    0.0019  46.4092  0.0000   0.0844  0.0919\n",
      "svi_ptile         0.0485    0.0023  20.7433  0.0000   0.0439  0.0531\n",
      "transit_ptile     0.0075    0.0025   3.0300  0.0027   0.0026  0.0123\n",
      "PTRAF_bycensus   -0.0000    0.0000  -1.6704  0.0963  -0.0000  0.0000\n",
      "-------------------------------------------------------------------\n",
      "Omnibus:               0.774         Durbin-Watson:           1.274\n",
      "Prob(Omnibus):         0.679         Jarque-Bera (JB):        0.897\n",
      "Skew:                  -0.107        Prob(JB):                0.638\n",
      "Kurtosis:              2.772         Condition No.:           8640 \n",
      "===================================================================\n",
      "* The condition number is large (9e+03). This might indicate\n",
      "strong multicollinearity or other numerical problems.\n"
     ]
    }
   ],
   "source": [
    "results1 = smf.ols('asthmavalue ~ svi_ptile + transit_ptile + PTRAF_bycensus', data = df).fit()\n",
    "print(results1.summary2())"
   ]
  },
  {
   "cell_type": "code",
   "execution_count": 62,
   "id": "74d5c75c-6988-4fd7-89b0-4533f7c46f02",
   "metadata": {},
   "outputs": [
    {
     "data": {
      "text/plain": [
       "0      0.002972\n",
       "3      0.007208\n",
       "7      0.005691\n",
       "9      0.010113\n",
       "11     0.008472\n",
       "         ...   \n",
       "635   -0.010755\n",
       "640   -0.006579\n",
       "642   -0.014172\n",
       "647    0.006408\n",
       "649   -0.001828\n",
       "Name: asthmavalue, Length: 220, dtype: float64"
      ]
     },
     "execution_count": 62,
     "metadata": {},
     "output_type": "execute_result"
    }
   ],
   "source": [
    "error1 = yhat1 - y_model1\n",
    "error1"
   ]
  },
  {
   "cell_type": "code",
   "execution_count": 63,
   "id": "0bcdca5e-95f2-4dc1-8cd8-31f2979351a3",
   "metadata": {},
   "outputs": [
    {
     "data": {
      "text/plain": [
       "8.508677689764922e-05"
      ]
     },
     "execution_count": 63,
     "metadata": {},
     "output_type": "execute_result"
    }
   ],
   "source": [
    "(error1**2).mean()"
   ]
  },
  {
   "cell_type": "code",
   "execution_count": 64,
   "id": "bacdbc09-b4e7-430e-ba6a-b05de9a34100",
   "metadata": {},
   "outputs": [],
   "source": [
    "asthmavalue = df.asthmavalue"
   ]
  },
  {
   "cell_type": "code",
   "execution_count": 67,
   "id": "e481c8c7-343e-4ea1-86d3-c5b71e59b24e",
   "metadata": {},
   "outputs": [
    {
     "data": {
      "text/plain": [
       "[<matplotlib.lines.Line2D at 0x7fa3a8070ee0>]"
      ]
     },
     "execution_count": 67,
     "metadata": {},
     "output_type": "execute_result"
    },
    {
     "data": {
      "image/png": "[encoded data removed]",
      "text/plain": [
       "<Figure size 432x288 with 1 Axes>"
      ]
     },
     "metadata": {},
     "output_type": "display_data"
    }
   ],
   "source": [
    "plt.plot(asthmavalue, error1, 'o')"
   ]
  },
  {
   "cell_type": "code",
   "execution_count": 34,
   "id": "d6700b0c-bf4e-4bad-9ba4-b102a1f19f02",
   "metadata": {},
   "outputs": [],
   "source": [
    "## NEURAL NETWORK (MODEL 1) ##"
   ]
  },
  {
   "cell_type": "code",
   "execution_count": 35,
   "id": "8f145dc5-dbce-444c-a6e9-312f095b9600",
   "metadata": {},
   "outputs": [],
   "source": [
    "trainFraction = 0.75\n",
    "sample1 = np.random.uniform(size = 220) < trainFraction\n",
    "trainingDat1 = x_model1[sample1]\n",
    "testingDat1 = x_model1[~sample1]"
   ]
  },
  {
   "cell_type": "code",
   "execution_count": 36,
   "id": "dc8a200e-bec7-43e3-b495-ad5081cfe9a2",
   "metadata": {},
   "outputs": [],
   "source": [
    "x_model1 = torch.from_numpy(x_model1.values)\n",
    "y_model1 = torch.from_numpy(y_model1.values)"
   ]
  },
  {
   "cell_type": "code",
   "execution_count": 37,
   "id": "25b7ff9f-f5bd-455b-a47f-f59ecda41f2f",
   "metadata": {},
   "outputs": [],
   "source": [
    "x_model1 = x_model1.float()\n",
    "y_model1 = y_model1.float()"
   ]
  },
  {
   "cell_type": "code",
   "execution_count": 38,
   "id": "1f48f814-a780-4fcf-bd48-5d698c6eca7d",
   "metadata": {},
   "outputs": [],
   "source": [
    "x1train = x_model1[sample1]\n",
    "x1test = x_model1[~sample1]\n",
    "y1train = y_model1[sample1]\n",
    "y1test = y_model1[~sample1]"
   ]
  },
  {
   "cell_type": "code",
   "execution_count": 39,
   "id": "49a136ed-1632-478e-88b4-0545f35d8a79",
   "metadata": {},
   "outputs": [
    {
     "data": {
      "text/plain": [
       "torch.Size([161, 2])"
      ]
     },
     "execution_count": 39,
     "metadata": {},
     "output_type": "execute_result"
    }
   ],
   "source": [
    "x2train.shape"
   ]
  },
  {
   "cell_type": "code",
   "execution_count": 40,
   "id": "84d93da4-cddc-4037-9642-cce20d7e1c13",
   "metadata": {},
   "outputs": [
    {
     "name": "stderr",
     "output_type": "stream",
     "text": [
      "/Users/xiang/opt/anaconda3/lib/python3.9/site-packages/torch/nn/modules/loss.py:529: UserWarning: Using a target size (torch.Size([171])) that is different to the input size (torch.Size([171, 1])). This will likely lead to incorrect results due to broadcasting. Please ensure they have the same size.\n",
      "  return F.mse_loss(input, target, reduction=self.reduction)\n"
     ]
    },
    {
     "name": "stdout",
     "output_type": "stream",
     "text": [
      "0 0.028968187049031258\n",
      "100 0.02896806225180626\n",
      "200 0.02896793559193611\n",
      "300 0.028967812657356262\n",
      "400 0.028967684134840965\n",
      "500 0.028967557474970818\n",
      "600 0.02896743267774582\n",
      "700 0.028967304155230522\n",
      "800 0.028967179358005524\n",
      "900 0.028967056423425674\n"
     ]
    }
   ],
   "source": [
    "# 2 hidden nodes\n",
    "\n",
    "neural_model1 = torch.nn.Sequential(\n",
    "    torch.nn.Linear(3, 2),\n",
    "    torch.nn.ReLU(),\n",
    "    torch.nn.Linear(2, 1),\n",
    ")\n",
    "\n",
    "loss_fn1 = torch.nn.MSELoss(reduction='mean')\n",
    "optimizer1 = torch.optim.SGD(neural_model1.parameters(), lr=1e-8)\n",
    "\n",
    "learning_rate = 1e-12\n",
    "for t in range(1000):\n",
    "    y_pred1 = neural_model1(x1train)\n",
    "    loss1 = loss_fn1(y_pred1, y1train)\n",
    "    if t % 100 == 0:\n",
    "        print(t, loss1.item())\n",
    "    neural_model1.zero_grad()\n",
    "    loss1.backward()\n",
    "    optimizer1.step()"
   ]
  },
  {
   "cell_type": "code",
   "execution_count": 41,
   "id": "a2a7e14a-4d58-4ba6-97e0-f621c8f9a2c1",
   "metadata": {},
   "outputs": [
    {
     "name": "stdout",
     "output_type": "stream",
     "text": [
      "0.029023442417383194\n"
     ]
    },
    {
     "name": "stderr",
     "output_type": "stream",
     "text": [
      "/Users/xiang/opt/anaconda3/lib/python3.9/site-packages/torch/nn/modules/loss.py:529: UserWarning: Using a target size (torch.Size([49])) that is different to the input size (torch.Size([49, 1])). This will likely lead to incorrect results due to broadcasting. Please ensure they have the same size.\n",
      "  return F.mse_loss(input, target, reduction=self.reduction)\n"
     ]
    }
   ],
   "source": [
    "y_pred1_test = neural_model1(x1test)\n",
    "loss_test1 = loss_fn1(y_pred1_test, y1test)\n",
    "print(loss_test1.item())"
   ]
  },
  {
   "cell_type": "code",
   "execution_count": 11,
   "id": "8e2106ea-6091-4af5-b7d9-5c3e8754f67d",
   "metadata": {},
   "outputs": [],
   "source": [
    "## LINEAR REGRESSION (MODEL 2) WITHOUT COLLINEARITY ##\n",
    "# variables: svi_ptile , transit_ptile "
   ]
  },
  {
   "cell_type": "code",
   "execution_count": 12,
   "id": "bbc1428e-03ca-46ad-8984-8d2ccd06ed25",
   "metadata": {},
   "outputs": [
    {
     "data": {
      "text/plain": [
       "[0.08615421688143492, array([0.04810285, 0.00918508])]"
      ]
     },
     "execution_count": 12,
     "metadata": {},
     "output_type": "execute_result"
    }
   ],
   "source": [
    "y_model2 = df['asthmavalue']\n",
    "x_model2 = df.drop(['ct', 'asthmavalue', 'lungCAvalue', 'CADvalue', 'LBWvalue', 'No_of_Stops', 'PTover45m_pct', 'PTRAF_bycensus'], axis=1)\n",
    "fit2 = LinearRegression().fit(x_model2, y_model2)\n",
    "yhat2 = fit2.predict(x_model2)\n",
    "[fit2.intercept_,fit2.coef_]"
   ]
  },
  {
   "cell_type": "code",
   "execution_count": 13,
   "id": "bc72e839-4219-4c1d-a60f-c982b38071e8",
   "metadata": {
    "tags": []
   },
   "outputs": [
    {
     "data": {
      "text/html": [
       "<div>\n",
       "<style scoped>\n",
       "    .dataframe tbody tr th:only-of-type {\n",
       "        vertical-align: middle;\n",
       "    }\n",
       "\n",
       "    .dataframe tbody tr th {\n",
       "        vertical-align: top;\n",
       "    }\n",
       "\n",
       "    .dataframe thead th {\n",
       "        text-align: right;\n",
       "    }\n",
       "</style>\n",
       "<table border=\"1\" class=\"dataframe\">\n",
       "  <thead>\n",
       "    <tr style=\"text-align: right;\">\n",
       "      <th></th>\n",
       "      <th>svi_ptile</th>\n",
       "      <th>transit_ptile</th>\n",
       "    </tr>\n",
       "  </thead>\n",
       "  <tbody>\n",
       "    <tr>\n",
       "      <th>0</th>\n",
       "      <td>0.045690</td>\n",
       "      <td>0.029276</td>\n",
       "    </tr>\n",
       "    <tr>\n",
       "      <th>3</th>\n",
       "      <td>0.015230</td>\n",
       "      <td>0.124807</td>\n",
       "    </tr>\n",
       "    <tr>\n",
       "      <th>7</th>\n",
       "      <td>0.005076</td>\n",
       "      <td>0.036980</td>\n",
       "    </tr>\n",
       "    <tr>\n",
       "      <th>9</th>\n",
       "      <td>0.076140</td>\n",
       "      <td>0.033898</td>\n",
       "    </tr>\n",
       "    <tr>\n",
       "      <th>11</th>\n",
       "      <td>0.081220</td>\n",
       "      <td>0.101695</td>\n",
       "    </tr>\n",
       "    <tr>\n",
       "      <th>...</th>\n",
       "      <td>...</td>\n",
       "      <td>...</td>\n",
       "    </tr>\n",
       "    <tr>\n",
       "      <th>635</th>\n",
       "      <td>0.208100</td>\n",
       "      <td>0.805855</td>\n",
       "    </tr>\n",
       "    <tr>\n",
       "      <th>640</th>\n",
       "      <td>0.360400</td>\n",
       "      <td>0.998459</td>\n",
       "    </tr>\n",
       "    <tr>\n",
       "      <th>642</th>\n",
       "      <td>0.213200</td>\n",
       "      <td>0.257319</td>\n",
       "    </tr>\n",
       "    <tr>\n",
       "      <th>647</th>\n",
       "      <td>0.832500</td>\n",
       "      <td>0.445300</td>\n",
       "    </tr>\n",
       "    <tr>\n",
       "      <th>649</th>\n",
       "      <td>0.979700</td>\n",
       "      <td>0.231125</td>\n",
       "    </tr>\n",
       "  </tbody>\n",
       "</table>\n",
       "<p>220 rows × 2 columns</p>\n",
       "</div>"
      ],
      "text/plain": [
       "     svi_ptile  transit_ptile\n",
       "0     0.045690       0.029276\n",
       "3     0.015230       0.124807\n",
       "7     0.005076       0.036980\n",
       "9     0.076140       0.033898\n",
       "11    0.081220       0.101695\n",
       "..         ...            ...\n",
       "635   0.208100       0.805855\n",
       "640   0.360400       0.998459\n",
       "642   0.213200       0.257319\n",
       "647   0.832500       0.445300\n",
       "649   0.979700       0.231125\n",
       "\n",
       "[220 rows x 2 columns]"
      ]
     },
     "execution_count": 13,
     "metadata": {},
     "output_type": "execute_result"
    }
   ],
   "source": [
    "x_model2"
   ]
  },
  {
   "cell_type": "code",
   "execution_count": 14,
   "id": "be5194ec-8a04-4b9c-9f77-90826755874d",
   "metadata": {},
   "outputs": [
    {
     "name": "stdout",
     "output_type": "stream",
     "text": [
      "0.04846093385797968 0.007471326285174193\n"
     ]
    }
   ],
   "source": [
    "b1_model2 = fit1.coef_[0]\n",
    "b2_model2 = fit1.coef_[1]\n",
    "intercept2 = fit2.intercept_\n",
    "print(b1_model2, b2_model2)"
   ]
  },
  {
   "cell_type": "code",
   "execution_count": 15,
   "id": "e98d9fa6-47cf-4be4-9ad0-bae950092f5e",
   "metadata": {
    "tags": []
   },
   "outputs": [
    {
     "name": "stdout",
     "output_type": "stream",
     "text": [
      "                  Results: Ordinary least squares\n",
      "===================================================================\n",
      "Model:              OLS              Adj. R-squared:     0.719     \n",
      "Dependent Variable: asthmavalue      AIC:                -1428.6480\n",
      "Date:               2022-05-12 15:03 BIC:                -1418.4671\n",
      "No. Observations:   220              Log-Likelihood:     717.32    \n",
      "Df Model:           2                F-statistic:        280.9     \n",
      "Df Residuals:       217              Prob (F-statistic): 6.15e-61  \n",
      "R-squared:          0.721            Scale:              8.7377e-05\n",
      "--------------------------------------------------------------------\n",
      "                   Coef.   Std.Err.     t     P>|t|   [0.025  0.975]\n",
      "--------------------------------------------------------------------\n",
      "Intercept          0.0862    0.0015  58.8876  0.0000  0.0833  0.0890\n",
      "svi_ptile          0.0481    0.0023  20.5925  0.0000  0.0435  0.0527\n",
      "transit_ptile      0.0092    0.0023   4.0796  0.0001  0.0047  0.0136\n",
      "-------------------------------------------------------------------\n",
      "Omnibus:               0.667         Durbin-Watson:           1.259\n",
      "Prob(Omnibus):         0.716         Jarque-Bera (JB):        0.796\n",
      "Skew:                  -0.091        Prob(JB):                0.672\n",
      "Kurtosis:              2.768         Condition No.:           5    \n",
      "===================================================================\n",
      "\n"
     ]
    }
   ],
   "source": [
    "results2 = smf.ols('asthmavalue ~ svi_ptile + transit_ptile', data = df).fit()\n",
    "print(results2.summary2())"
   ]
  },
  {
   "cell_type": "code",
   "execution_count": 16,
   "id": "19b02e61-1263-494a-9893-78014e5c4ddf",
   "metadata": {
    "tags": []
   },
   "outputs": [
    {
     "data": {
      "text/plain": [
       "0      0.001621\n",
       "3      0.006033\n",
       "7      0.004738\n",
       "9      0.009128\n",
       "11     0.007995\n",
       "         ...   \n",
       "635   -0.010434\n",
       "640   -0.006339\n",
       "642   -0.015227\n",
       "647    0.006290\n",
       "649   -0.000597\n",
       "Name: asthmavalue, Length: 220, dtype: float64"
      ]
     },
     "execution_count": 16,
     "metadata": {},
     "output_type": "execute_result"
    }
   ],
   "source": [
    "error2 = yhat2 - y_model2\n",
    "error2"
   ]
  },
  {
   "cell_type": "code",
   "execution_count": 43,
   "id": "eaef7ee3-c10d-4b4c-9fab-60245301324d",
   "metadata": {},
   "outputs": [
    {
     "data": {
      "text/plain": [
       "8.618587951120237e-05"
      ]
     },
     "execution_count": 43,
     "metadata": {},
     "output_type": "execute_result"
    }
   ],
   "source": [
    "(error2**2).mean()"
   ]
  },
  {
   "cell_type": "code",
   "execution_count": 18,
   "id": "e2b3748f-9ebb-487a-ab55-958e96511efc",
   "metadata": {},
   "outputs": [],
   "source": [
    "## NEURAL NETWORK (MODEL 2) ##"
   ]
  },
  {
   "cell_type": "code",
   "execution_count": 19,
   "id": "be6abafc-28a1-4ae1-890e-78f06d5a1fa1",
   "metadata": {},
   "outputs": [],
   "source": [
    "trainFraction = 0.75\n",
    "sample2 = np.random.uniform(size = 220) < trainFraction\n",
    "trainingDat2 = x_model2[sample2]\n",
    "testingDat2 = x_model2[~sample2]"
   ]
  },
  {
   "cell_type": "code",
   "execution_count": 20,
   "id": "f3069158-9e75-42a9-a313-5eb7b8071c1d",
   "metadata": {},
   "outputs": [],
   "source": [
    "x_model2 = torch.from_numpy(x_model2.values)\n",
    "y_model2 = torch.from_numpy(y_model2.values)"
   ]
  },
  {
   "cell_type": "code",
   "execution_count": 21,
   "id": "9add1e2c-b385-4749-b4a3-eeffdce997b8",
   "metadata": {},
   "outputs": [],
   "source": [
    "x_model2 = x_model2.float()\n",
    "y_model2 = y_model2.float()"
   ]
  },
  {
   "cell_type": "code",
   "execution_count": 22,
   "id": "1a912875-df78-411e-a1dd-485ee060331c",
   "metadata": {},
   "outputs": [],
   "source": [
    "x2train = x_model2[sample2]\n",
    "x2test = x_model2[~sample2]\n",
    "y2train = y_model2[sample2]\n",
    "y2test = y_model2[~sample2]"
   ]
  },
  {
   "cell_type": "code",
   "execution_count": 25,
   "id": "64e3abca-fe96-463c-957b-8cbd7672bd42",
   "metadata": {},
   "outputs": [
    {
     "data": {
      "text/plain": [
       "torch.Size([161, 2])"
      ]
     },
     "execution_count": 25,
     "metadata": {},
     "output_type": "execute_result"
    }
   ],
   "source": [
    "x2train.shape"
   ]
  },
  {
   "cell_type": "code",
   "execution_count": 49,
   "id": "c75621bc-cb3d-41dd-9c65-8d8ad9c8b9ab",
   "metadata": {
    "tags": []
   },
   "outputs": [
    {
     "name": "stdout",
     "output_type": "stream",
     "text": [
      "0 0.005017189309000969\n",
      "100 0.005017189309000969\n",
      "200 0.005017188377678394\n",
      "300 0.005017189309000969\n",
      "400 0.005017188377678394\n",
      "500 0.005017188377678394\n",
      "600 0.005017188377678394\n",
      "700 0.005017188377678394\n",
      "800 0.005017188377678394\n",
      "900 0.005017187912017107\n"
     ]
    }
   ],
   "source": [
    "# 2 hidden nodes\n",
    "\n",
    "neural_model2 = torch.nn.Sequential(\n",
    "    torch.nn.Linear(2, 2),\n",
    "    torch.nn.ReLU(),\n",
    "    torch.nn.Linear(2, 1),\n",
    ")\n",
    "\n",
    "loss_fn2 = torch.nn.MSELoss(reduction='mean')\n",
    "optimizer2 = torch.optim.SGD(neural_model2.parameters(), lr=1e-8)\n",
    "\n",
    "learning_rate = 1e-10\n",
    "for t in range(1000):\n",
    "    y_pred2 = neural_model2(x2train)\n",
    "    loss2 = loss_fn2(y_pred2, y2train)\n",
    "    if t % 100 == 0:\n",
    "        print(t, loss2.item())\n",
    "    neural_model2.zero_grad()\n",
    "    loss2.backward()\n",
    "    optimizer2.step()"
   ]
  },
  {
   "cell_type": "code",
   "execution_count": 29,
   "id": "0aa2f4a5-2483-4ae8-a169-a4d396aed0c1",
   "metadata": {},
   "outputs": [],
   "source": [
    "# loss is slowly decreasing"
   ]
  },
  {
   "cell_type": "code",
   "execution_count": 44,
   "id": "262fbef3-2657-4465-b7f5-e69f52655337",
   "metadata": {},
   "outputs": [
    {
     "name": "stdout",
     "output_type": "stream",
     "text": [
      "0.46264031529426575\n"
     ]
    }
   ],
   "source": [
    "y_pred2_test = neural_model2(x2test)\n",
    "loss_test2 = loss_fn2(y_pred2_test, y2test)\n",
    "print(loss_test2.item())"
   ]
  },
  {
   "cell_type": "code",
   "execution_count": 45,
   "id": "a078a776-9bbf-42cf-9b82-505d8457c88a",
   "metadata": {},
   "outputs": [],
   "source": [
    "## Error Rates Comparison\n",
    "\n",
    "### Model 1 LR: 8.508677689764922e-05\n",
    "### Model 1 NN (2 nodes):0.029023442417383194\n",
    "\n",
    "### Model 2 LR: 8.618587951120237e-05\n",
    "### Model 2 NN (2 nodes): 0.46264031529426575"
   ]
  },
  {
   "cell_type": "code",
   "execution_count": null,
   "id": "e5eca742-34bf-41b0-a2be-7f965451328c",
   "metadata": {},
   "outputs": [],
   "source": [
    "def getRow(ct):\n",
    "    row = df.loc[ct]\n",
    "    return row\n",
    "\n",
    "def getOutcome(row):\n",
    "    # get inputs from df depending on ct\n",
    "    X1 = \n",
    "    X2 = \n",
    "    X3 = \n",
    "    y_output = intercept + b1(X1) + b2(X2) + b3(X3)\n",
    "    return y_output"
   ]
  },
  {
   "cell_type": "code",
   "execution_count": 86,
   "id": "a9499f99-428f-4e1a-9819-5a57572e099c",
   "metadata": {},
   "outputs": [
    {
     "name": "stdout",
     "output_type": "stream",
     "text": [
      "                  Results: Ordinary least squares\n",
      "===================================================================\n",
      "Model:              OLS              Adj. R-squared:     0.719     \n",
      "Dependent Variable: asthmavalue      AIC:                -1428.6480\n",
      "Date:               2022-05-06 14:35 BIC:                -1418.4671\n",
      "No. Observations:   220              Log-Likelihood:     717.32    \n",
      "Df Model:           2                F-statistic:        280.9     \n",
      "Df Residuals:       217              Prob (F-statistic): 6.15e-61  \n",
      "R-squared:          0.721            Scale:              8.7377e-05\n",
      "--------------------------------------------------------------------\n",
      "                   Coef.   Std.Err.     t     P>|t|   [0.025  0.975]\n",
      "--------------------------------------------------------------------\n",
      "Intercept          0.0862    0.0015  58.8876  0.0000  0.0833  0.0890\n",
      "svi_ptile          0.0481    0.0023  20.5925  0.0000  0.0435  0.0527\n",
      "transit_ptile      0.0092    0.0023   4.0796  0.0001  0.0047  0.0136\n",
      "-------------------------------------------------------------------\n",
      "Omnibus:               0.667         Durbin-Watson:           1.259\n",
      "Prob(Omnibus):         0.716         Jarque-Bera (JB):        0.796\n",
      "Skew:                  -0.091        Prob(JB):                0.672\n",
      "Kurtosis:              2.768         Condition No.:           5    \n",
      "===================================================================\n",
      "\n"
     ]
    },
    {
     "data": {
      "text/plain": [
       "[0.08615421688143492, array([0.04810285, 0.00918508])]"
      ]
     },
     "execution_count": 86,
     "metadata": {},
     "output_type": "execute_result"
    }
   ],
   "source": [
    "x_model_test_collinearity = df.drop(['ct', 'asthmavalue', 'lungCAvalue', 'CADvalue', 'LBWvalue', 'No_of_Stops', 'PTover45m_pct', 'PTRAF_bycensus'], axis=1)\n",
    "fit_testcoll = LinearRegression().fit(x_model_test_collinearity, y)\n",
    "yhat_testcoll = fit_testcoll.predict(x_model_test_collinearity)\n",
    "\n",
    "results_testcoll = smf.ols('asthmavalue ~ svi_ptile + transit_ptile', data = df).fit()\n",
    "print(results_testcoll.summary2())\n",
    "[fit_testcoll.intercept_,fit_testcoll.coef_]"
   ]
  },
  {
   "cell_type": "code",
   "execution_count": null,
   "id": "56d39275-ca7f-4fc2-9c04-6ca261246e24",
   "metadata": {},
   "outputs": [],
   "source": []
  }
 ],
 "metadata": {
  "kernelspec": {
   "display_name": "Python 3 (ipykernel)",
   "language": "python",
   "name": "python3"
  },
  "language_info": {
   "codemirror_mode": {
    "name": "ipython",
    "version": 3
   },
   "file_extension": ".py",
   "mimetype": "text/x-python",
   "name": "python",
   "nbconvert_exporter": "python",
   "pygments_lexer": "ipython3",
   "version": "3.9.7"
  }
 },
 "nbformat": 4,
 "nbformat_minor": 5
}
