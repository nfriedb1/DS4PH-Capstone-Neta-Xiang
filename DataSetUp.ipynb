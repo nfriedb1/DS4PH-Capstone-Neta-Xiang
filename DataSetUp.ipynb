{
 "cells": [
  {
   "cell_type": "code",
   "execution_count": 1,
   "id": "626d2d6a-7fd6-4290-996e-05789fda351d",
   "metadata": {
    "tags": []
   },
   "outputs": [],
   "source": [
    "## In this DataSetUp notebook, 2 models were tested\n",
    "## Model 1 includes variables svi_ptile , transit_ptile , and PTRAF_bycensus\n",
    "## Model 2 includes variables svi_ptile and transit_ptile\n",
    "### Linear regression and a neural network approach was tested for both models to determine the model with the best prediction"
   ]
  },
  {
   "cell_type": "code",
   "execution_count": 3,
   "id": "1722c89a-2aa8-4f30-be66-699834e0833b",
   "metadata": {},
   "outputs": [],
   "source": [
    "import pandas as pd\n",
    "import numpy as np\n",
    "import matplotlib.pyplot as plt\n",
    "import seaborn as sns\n",
    "from scipy import stats as st\n",
    "sns.set()\n",
    "from sklearn.metrics import accuracy_score, roc_curve, auc\n",
    "import sklearn\n",
    "from sklearn import linear_model\n",
    "import sklearn.linear_model as lm\n",
    "from sklearn.linear_model import LinearRegression\n",
    "import seaborn as sns\n",
    "import sklearn as skl\n",
    "import statsmodels.formula.api as smf\n",
    "import torch"
   ]
  },
  {
   "cell_type": "code",
   "execution_count": 4,
   "id": "928c59c8-8148-47fe-90b6-4c78bc8062d9",
   "metadata": {},
   "outputs": [
    {
     "data": {
      "text/html": [
       "<div>\n",
       "<style scoped>\n",
       "    .dataframe tbody tr th:only-of-type {\n",
       "        vertical-align: middle;\n",
       "    }\n",
       "\n",
       "    .dataframe tbody tr th {\n",
       "        vertical-align: top;\n",
       "    }\n",
       "\n",
       "    .dataframe thead th {\n",
       "        text-align: right;\n",
       "    }\n",
       "</style>\n",
       "<table border=\"1\" class=\"dataframe\">\n",
       "  <thead>\n",
       "    <tr style=\"text-align: right;\">\n",
       "      <th></th>\n",
       "      <th>ct</th>\n",
       "      <th>svi_ptile</th>\n",
       "      <th>transit_ptile</th>\n",
       "      <th>asthmavalue</th>\n",
       "      <th>PTRAF_bycensus</th>\n",
       "      <th>No_of_Stops</th>\n",
       "      <th>PTover45m_pct</th>\n",
       "      <th>lungCAvalue</th>\n",
       "      <th>CADvalue</th>\n",
       "      <th>LBWvalue</th>\n",
       "    </tr>\n",
       "  </thead>\n",
       "  <tbody>\n",
       "    <tr>\n",
       "      <th>0</th>\n",
       "      <td>24510010100</td>\n",
       "      <td>0.045690</td>\n",
       "      <td>0.029276</td>\n",
       "      <td>0.087</td>\n",
       "      <td>685.684371</td>\n",
       "      <td>10</td>\n",
       "      <td>24.51</td>\n",
       "      <td>13</td>\n",
       "      <td>0.472</td>\n",
       "      <td>0.131</td>\n",
       "    </tr>\n",
       "    <tr>\n",
       "      <th>3</th>\n",
       "      <td>24510010200</td>\n",
       "      <td>0.015230</td>\n",
       "      <td>0.124807</td>\n",
       "      <td>0.082</td>\n",
       "      <td>686.778083</td>\n",
       "      <td>8</td>\n",
       "      <td>54.24</td>\n",
       "      <td>6</td>\n",
       "      <td>0.443</td>\n",
       "      <td>0.462</td>\n",
       "    </tr>\n",
       "    <tr>\n",
       "      <th>7</th>\n",
       "      <td>24510010300</td>\n",
       "      <td>0.005076</td>\n",
       "      <td>0.036980</td>\n",
       "      <td>0.082</td>\n",
       "      <td>1074.000000</td>\n",
       "      <td>6</td>\n",
       "      <td>15.38</td>\n",
       "      <td>1</td>\n",
       "      <td>0.313</td>\n",
       "      <td>0.106</td>\n",
       "    </tr>\n",
       "    <tr>\n",
       "      <th>9</th>\n",
       "      <td>24510010400</td>\n",
       "      <td>0.076140</td>\n",
       "      <td>0.033898</td>\n",
       "      <td>0.081</td>\n",
       "      <td>1072.952243</td>\n",
       "      <td>15</td>\n",
       "      <td>57.58</td>\n",
       "      <td>7</td>\n",
       "      <td>0.587</td>\n",
       "      <td>0.127</td>\n",
       "    </tr>\n",
       "    <tr>\n",
       "      <th>11</th>\n",
       "      <td>24510010500</td>\n",
       "      <td>0.081220</td>\n",
       "      <td>0.101695</td>\n",
       "      <td>0.083</td>\n",
       "      <td>1487.000000</td>\n",
       "      <td>2</td>\n",
       "      <td>50.77</td>\n",
       "      <td>1</td>\n",
       "      <td>0.384</td>\n",
       "      <td>0.176</td>\n",
       "    </tr>\n",
       "    <tr>\n",
       "      <th>...</th>\n",
       "      <td>...</td>\n",
       "      <td>...</td>\n",
       "      <td>...</td>\n",
       "      <td>...</td>\n",
       "      <td>...</td>\n",
       "      <td>...</td>\n",
       "      <td>...</td>\n",
       "      <td>...</td>\n",
       "      <td>...</td>\n",
       "      <td>...</td>\n",
       "    </tr>\n",
       "    <tr>\n",
       "      <th>635</th>\n",
       "      <td>24510280401</td>\n",
       "      <td>0.208100</td>\n",
       "      <td>0.805855</td>\n",
       "      <td>0.114</td>\n",
       "      <td>1104.810421</td>\n",
       "      <td>8</td>\n",
       "      <td>100.00</td>\n",
       "      <td>19</td>\n",
       "      <td>0.386</td>\n",
       "      <td>0.536</td>\n",
       "    </tr>\n",
       "    <tr>\n",
       "      <th>640</th>\n",
       "      <td>24510280402</td>\n",
       "      <td>0.360400</td>\n",
       "      <td>0.998459</td>\n",
       "      <td>0.119</td>\n",
       "      <td>731.266859</td>\n",
       "      <td>1</td>\n",
       "      <td>73.56</td>\n",
       "      <td>1</td>\n",
       "      <td>0.083</td>\n",
       "      <td>0.825</td>\n",
       "    </tr>\n",
       "    <tr>\n",
       "      <th>642</th>\n",
       "      <td>24510280403</td>\n",
       "      <td>0.213200</td>\n",
       "      <td>0.257319</td>\n",
       "      <td>0.114</td>\n",
       "      <td>649.600265</td>\n",
       "      <td>20</td>\n",
       "      <td>52.26</td>\n",
       "      <td>17</td>\n",
       "      <td>0.590</td>\n",
       "      <td>0.830</td>\n",
       "    </tr>\n",
       "    <tr>\n",
       "      <th>647</th>\n",
       "      <td>24510280404</td>\n",
       "      <td>0.832500</td>\n",
       "      <td>0.445300</td>\n",
       "      <td>0.124</td>\n",
       "      <td>1527.100404</td>\n",
       "      <td>10</td>\n",
       "      <td>52.66</td>\n",
       "      <td>12</td>\n",
       "      <td>0.321</td>\n",
       "      <td>0.853</td>\n",
       "    </tr>\n",
       "    <tr>\n",
       "      <th>649</th>\n",
       "      <td>24510280500</td>\n",
       "      <td>0.979700</td>\n",
       "      <td>0.231125</td>\n",
       "      <td>0.136</td>\n",
       "      <td>3385.685542</td>\n",
       "      <td>25</td>\n",
       "      <td>65.99</td>\n",
       "      <td>24</td>\n",
       "      <td>0.710</td>\n",
       "      <td>0.375</td>\n",
       "    </tr>\n",
       "  </tbody>\n",
       "</table>\n",
       "<p>220 rows × 10 columns</p>\n",
       "</div>"
      ],
      "text/plain": [
       "              ct  svi_ptile  transit_ptile  asthmavalue  PTRAF_bycensus  \\\n",
       "0    24510010100   0.045690       0.029276        0.087      685.684371   \n",
       "3    24510010200   0.015230       0.124807        0.082      686.778083   \n",
       "7    24510010300   0.005076       0.036980        0.082     1074.000000   \n",
       "9    24510010400   0.076140       0.033898        0.081     1072.952243   \n",
       "11   24510010500   0.081220       0.101695        0.083     1487.000000   \n",
       "..           ...        ...            ...          ...             ...   \n",
       "635  24510280401   0.208100       0.805855        0.114     1104.810421   \n",
       "640  24510280402   0.360400       0.998459        0.119      731.266859   \n",
       "642  24510280403   0.213200       0.257319        0.114      649.600265   \n",
       "647  24510280404   0.832500       0.445300        0.124     1527.100404   \n",
       "649  24510280500   0.979700       0.231125        0.136     3385.685542   \n",
       "\n",
       "     No_of_Stops  PTover45m_pct  lungCAvalue  CADvalue  LBWvalue  \n",
       "0             10          24.51           13     0.472     0.131  \n",
       "3              8          54.24            6     0.443     0.462  \n",
       "7              6          15.38            1     0.313     0.106  \n",
       "9             15          57.58            7     0.587     0.127  \n",
       "11             2          50.77            1     0.384     0.176  \n",
       "..           ...            ...          ...       ...       ...  \n",
       "635            8         100.00           19     0.386     0.536  \n",
       "640            1          73.56            1     0.083     0.825  \n",
       "642           20          52.26           17     0.590     0.830  \n",
       "647           10          52.66           12     0.321     0.853  \n",
       "649           25          65.99           24     0.710     0.375  \n",
       "\n",
       "[220 rows x 10 columns]"
      ]
     },
     "execution_count": 4,
     "metadata": {},
     "output_type": "execute_result"
    }
   ],
   "source": [
    "# Imported and cleaned data set \n",
    "\n",
    "df = pd.read_csv(\"https://raw.githubusercontent.com/nfriedb1/DS4PH-Capstone-Neta-Xiang/main/DSPH_Capstone_Data.csv\")\n",
    "df = df.drop(df.loc[:, 'Unnamed: 12':'Unnamed: 23'].columns, axis = 1)\n",
    "df = df.drop([\"GEOID\", \"PTRAF\"], axis = 1)\n",
    "df = df.drop_duplicates(subset=None, keep='first', inplace=False, ignore_index=False)\n",
    "df = df.drop(labels=[120, 403, 575], axis=0) #deleted rows with NA \n",
    "df"
   ]
  },
  {
   "cell_type": "markdown",
   "id": "c4c8bab0-7bac-4816-bf7b-9f64384722e5",
   "metadata": {},
   "source": [
    "## **Linear Regression Model 1**\n",
    "\n",
    "### **Variables**: svi_ptile , transit_ptile , PTRAF_bycensus "
   ]
  },
  {
   "cell_type": "code",
   "execution_count": 5,
   "id": "4856276a-ef63-4ebb-a0c5-465b07c3c9fe",
   "metadata": {},
   "outputs": [
    {
     "data": {
      "text/plain": [
       "[0.08819197913089867,\n",
       " array([ 4.84609339e-02,  7.47132629e-03, -9.52324789e-07])]"
      ]
     },
     "execution_count": 5,
     "metadata": {},
     "output_type": "execute_result"
    }
   ],
   "source": [
    "y_model1 = df['asthmavalue'] \n",
    "x_model1 = df.drop(['ct', 'asthmavalue', 'lungCAvalue', 'CADvalue', 'LBWvalue', 'No_of_Stops', 'PTover45m_pct'], axis=1)\n",
    "fit1 = LinearRegression().fit(x_model1, y_model1)\n",
    "yhat1 = fit1.predict(x_model1)\n",
    "[fit1.intercept_,fit1.coef_]"
   ]
  },
  {
   "cell_type": "code",
   "execution_count": 6,
   "id": "14c781d2-ea77-479b-830a-79b783177614",
   "metadata": {},
   "outputs": [
    {
     "data": {
      "text/html": [
       "<div>\n",
       "<style scoped>\n",
       "    .dataframe tbody tr th:only-of-type {\n",
       "        vertical-align: middle;\n",
       "    }\n",
       "\n",
       "    .dataframe tbody tr th {\n",
       "        vertical-align: top;\n",
       "    }\n",
       "\n",
       "    .dataframe thead th {\n",
       "        text-align: right;\n",
       "    }\n",
       "</style>\n",
       "<table border=\"1\" class=\"dataframe\">\n",
       "  <thead>\n",
       "    <tr style=\"text-align: right;\">\n",
       "      <th></th>\n",
       "      <th>svi_ptile</th>\n",
       "      <th>transit_ptile</th>\n",
       "      <th>PTRAF_bycensus</th>\n",
       "    </tr>\n",
       "  </thead>\n",
       "  <tbody>\n",
       "    <tr>\n",
       "      <th>0</th>\n",
       "      <td>0.045690</td>\n",
       "      <td>0.029276</td>\n",
       "      <td>685.684371</td>\n",
       "    </tr>\n",
       "    <tr>\n",
       "      <th>3</th>\n",
       "      <td>0.015230</td>\n",
       "      <td>0.124807</td>\n",
       "      <td>686.778083</td>\n",
       "    </tr>\n",
       "    <tr>\n",
       "      <th>7</th>\n",
       "      <td>0.005076</td>\n",
       "      <td>0.036980</td>\n",
       "      <td>1074.000000</td>\n",
       "    </tr>\n",
       "    <tr>\n",
       "      <th>9</th>\n",
       "      <td>0.076140</td>\n",
       "      <td>0.033898</td>\n",
       "      <td>1072.952243</td>\n",
       "    </tr>\n",
       "    <tr>\n",
       "      <th>11</th>\n",
       "      <td>0.081220</td>\n",
       "      <td>0.101695</td>\n",
       "      <td>1487.000000</td>\n",
       "    </tr>\n",
       "    <tr>\n",
       "      <th>...</th>\n",
       "      <td>...</td>\n",
       "      <td>...</td>\n",
       "      <td>...</td>\n",
       "    </tr>\n",
       "    <tr>\n",
       "      <th>635</th>\n",
       "      <td>0.208100</td>\n",
       "      <td>0.805855</td>\n",
       "      <td>1104.810421</td>\n",
       "    </tr>\n",
       "    <tr>\n",
       "      <th>640</th>\n",
       "      <td>0.360400</td>\n",
       "      <td>0.998459</td>\n",
       "      <td>731.266859</td>\n",
       "    </tr>\n",
       "    <tr>\n",
       "      <th>642</th>\n",
       "      <td>0.213200</td>\n",
       "      <td>0.257319</td>\n",
       "      <td>649.600265</td>\n",
       "    </tr>\n",
       "    <tr>\n",
       "      <th>647</th>\n",
       "      <td>0.832500</td>\n",
       "      <td>0.445300</td>\n",
       "      <td>1527.100404</td>\n",
       "    </tr>\n",
       "    <tr>\n",
       "      <th>649</th>\n",
       "      <td>0.979700</td>\n",
       "      <td>0.231125</td>\n",
       "      <td>3385.685542</td>\n",
       "    </tr>\n",
       "  </tbody>\n",
       "</table>\n",
       "<p>220 rows × 3 columns</p>\n",
       "</div>"
      ],
      "text/plain": [
       "     svi_ptile  transit_ptile  PTRAF_bycensus\n",
       "0     0.045690       0.029276      685.684371\n",
       "3     0.015230       0.124807      686.778083\n",
       "7     0.005076       0.036980     1074.000000\n",
       "9     0.076140       0.033898     1072.952243\n",
       "11    0.081220       0.101695     1487.000000\n",
       "..         ...            ...             ...\n",
       "635   0.208100       0.805855     1104.810421\n",
       "640   0.360400       0.998459      731.266859\n",
       "642   0.213200       0.257319      649.600265\n",
       "647   0.832500       0.445300     1527.100404\n",
       "649   0.979700       0.231125     3385.685542\n",
       "\n",
       "[220 rows x 3 columns]"
      ]
     },
     "execution_count": 6,
     "metadata": {},
     "output_type": "execute_result"
    }
   ],
   "source": [
    "x_model1"
   ]
  },
  {
   "cell_type": "code",
   "execution_count": 7,
   "id": "4ac352f6-737e-4e65-a6d6-1c11358ba28f",
   "metadata": {},
   "outputs": [
    {
     "name": "stdout",
     "output_type": "stream",
     "text": [
      "0.04846093385797968 0.007471326285174193 -9.523247893545098e-07\n"
     ]
    }
   ],
   "source": [
    "b1_model1 = fit1.coef_[0]\n",
    "b2_model1 = fit1.coef_[1]\n",
    "b3_model1 = fit1.coef_[2]\n",
    "intercept = fit1.intercept_\n",
    "print(b1_model1, b2_model1, b3_model1)"
   ]
  },
  {
   "cell_type": "code",
   "execution_count": 13,
   "id": "14d088b6-24a3-4661-8b93-72d1509a33ed",
   "metadata": {},
   "outputs": [
    {
     "name": "stdout",
     "output_type": "stream",
     "text": [
      "                  Results: Ordinary least squares\n",
      "===================================================================\n",
      "Model:              OLS              Adj. R-squared:     0.721     \n",
      "Dependent Variable: asthmavalue      AIC:                -1429.4716\n",
      "Date:               2022-05-17 16:55 BIC:                -1415.8971\n",
      "No. Observations:   220              Log-Likelihood:     718.74    \n",
      "Df Model:           3                F-statistic:        189.7     \n",
      "Df Residuals:       216              Prob (F-statistic): 2.92e-60  \n",
      "R-squared:          0.725            Scale:              8.6662e-05\n",
      "--------------------------------------------------------------------\n",
      "                  Coef.   Std.Err.     t     P>|t|    [0.025  0.975]\n",
      "--------------------------------------------------------------------\n",
      "Intercept         0.0882    0.0019  46.4092  0.0000   0.0844  0.0919\n",
      "svi_ptile         0.0485    0.0023  20.7433  0.0000   0.0439  0.0531\n",
      "transit_ptile     0.0075    0.0025   3.0300  0.0027   0.0026  0.0123\n",
      "PTRAF_bycensus   -0.0000    0.0000  -1.6704  0.0963  -0.0000  0.0000\n",
      "-------------------------------------------------------------------\n",
      "Omnibus:               0.774         Durbin-Watson:           1.274\n",
      "Prob(Omnibus):         0.679         Jarque-Bera (JB):        0.897\n",
      "Skew:                  -0.107        Prob(JB):                0.638\n",
      "Kurtosis:              2.772         Condition No.:           8640 \n",
      "===================================================================\n",
      "* The condition number is large (9e+03). This might indicate\n",
      "strong multicollinearity or other numerical problems.\n"
     ]
    }
   ],
   "source": [
    "results1 = smf.ols('asthmavalue ~ svi_ptile + transit_ptile + PTRAF_bycensus', data = df).fit()\n",
    "print(results1.summary2())"
   ]
  },
  {
   "cell_type": "markdown",
   "id": "bdfd82c7-5836-4cc6-bebf-99a79945f60e",
   "metadata": {},
   "source": [
    "### Here we found collinearity present for variables transit_ptile and PTRAF_bycensus"
   ]
  },
  {
   "cell_type": "code",
   "execution_count": 183,
   "id": "74d5c75c-6988-4fd7-89b0-4533f7c46f02",
   "metadata": {},
   "outputs": [
    {
     "data": {
      "text/plain": [
       "0      0.002972\n",
       "3      0.007208\n",
       "7      0.005691\n",
       "9      0.010113\n",
       "11     0.008472\n",
       "         ...   \n",
       "635   -0.010755\n",
       "640   -0.006579\n",
       "642   -0.014172\n",
       "647    0.006408\n",
       "649   -0.001828\n",
       "Name: asthmavalue, Length: 220, dtype: float64"
      ]
     },
     "execution_count": 183,
     "metadata": {},
     "output_type": "execute_result"
    }
   ],
   "source": [
    "error1 = yhat1 - y_model1 # Calculating error of LR model\n",
    "error1"
   ]
  },
  {
   "cell_type": "code",
   "execution_count": 184,
   "id": "0bcdca5e-95f2-4dc1-8cd8-31f2979351a3",
   "metadata": {},
   "outputs": [
    {
     "data": {
      "text/plain": [
       "8.508677689764922e-05"
      ]
     },
     "execution_count": 184,
     "metadata": {},
     "output_type": "execute_result"
    }
   ],
   "source": [
    "(error1**2).mean()"
   ]
  },
  {
   "cell_type": "code",
   "execution_count": 187,
   "id": "0c319ac1-bdcf-409e-8217-13a80e0154fb",
   "metadata": {},
   "outputs": [
    {
     "name": "stdout",
     "output_type": "stream",
     "text": [
      "                            OLS Regression Results                            \n",
      "==============================================================================\n",
      "Dep. Variable:            asthmavalue   R-squared:                       0.725\n",
      "Model:                            OLS   Adj. R-squared:                  0.721\n",
      "Method:                 Least Squares   F-statistic:                     189.7\n",
      "Date:                Sun, 15 May 2022   Prob (F-statistic):           2.92e-60\n",
      "Time:                        15:12:15   Log-Likelihood:                 718.74\n",
      "No. Observations:                 220   AIC:                            -1429.\n",
      "Df Residuals:                     216   BIC:                            -1416.\n",
      "Df Model:                           3                                         \n",
      "Covariance Type:            nonrobust                                         \n",
      "==================================================================================\n",
      "                     coef    std err          t      P>|t|      [0.025      0.975]\n",
      "----------------------------------------------------------------------------------\n",
      "Intercept          0.0882      0.002     46.409      0.000       0.084       0.092\n",
      "svi_ptile          0.0485      0.002     20.743      0.000       0.044       0.053\n",
      "transit_ptile      0.0075      0.002      3.030      0.003       0.003       0.012\n",
      "PTRAF_bycensus -9.523e-07    5.7e-07     -1.670      0.096   -2.08e-06    1.71e-07\n",
      "==============================================================================\n",
      "Omnibus:                        0.774   Durbin-Watson:                   1.274\n",
      "Prob(Omnibus):                  0.679   Jarque-Bera (JB):                0.897\n",
      "Skew:                          -0.107   Prob(JB):                        0.638\n",
      "Kurtosis:                       2.772   Cond. No.                     8.64e+03\n",
      "==============================================================================\n",
      "\n",
      "Notes:\n",
      "[1] Standard Errors assume that the covariance matrix of the errors is correctly specified.\n",
      "[2] The condition number is large, 8.64e+03. This might indicate that there are\n",
      "strong multicollinearity or other numerical problems.\n"
     ]
    },
    {
     "data": {
      "image/png": "[encoded data removed]",
      "text/plain": [
       "<Figure size 1008x576 with 4 Axes>"
      ]
     },
     "metadata": {},
     "output_type": "display_data"
    }
   ],
   "source": [
    "import numpy as np\n",
    "import pandas as pd\n",
    "import matplotlib.pyplot as plt\n",
    "import statsmodels.api as sm\n",
    "from statsmodels.formula.api import ols\n",
    "\n",
    "results1 = smf.ols('asthmavalue ~ svi_ptile + transit_ptile + PTRAF_bycensus', data = df).fit()\n",
    "\n",
    "# fit simple linear regression model\n",
    "linear_model = results1\n",
    "\n",
    "# display model summary\n",
    "print(linear_model.summary())\n",
    "\n",
    "# modify figure size\n",
    "fig = plt.figure(figsize=(14, 8))\n",
    "\n",
    "# creating regression plots\n",
    "fig = sm.graphics.plot_regress_exog(linear_model,'PTRAF_bycensus',fig=fig) \n",
    "\n",
    "# checked residuals of predictors "
   ]
  },
  {
   "cell_type": "markdown",
   "id": "108245a3-bae4-4efa-a11e-e4b100c6e7fe",
   "metadata": {},
   "source": [
    "## **Neural Network Model 1**\n",
    "\n",
    "### **Variables**: svi_ptile , transit_ptile , PTRAF_bycensus "
   ]
  },
  {
   "cell_type": "code",
   "execution_count": 189,
   "id": "8f145dc5-dbce-444c-a6e9-312f095b9600",
   "metadata": {},
   "outputs": [],
   "source": [
    "## testing NN on asthma as a prediction ## \n",
    "# asthma is our default predection for model 1, x_model1 = df['asthma']\n",
    "trainFraction = 0.75\n",
    "sample1 = np.random.uniform(size = 220) < trainFraction\n",
    "trainingDat1 = x_model1[sample1] \n",
    "testingDat1 = x_model1[~sample1]"
   ]
  },
  {
   "cell_type": "code",
   "execution_count": 190,
   "id": "dc8a200e-bec7-43e3-b495-ad5081cfe9a2",
   "metadata": {},
   "outputs": [],
   "source": [
    "x_model1 = torch.from_numpy(x_model1.values)\n",
    "y_model1 = torch.from_numpy(y_model1.values)"
   ]
  },
  {
   "cell_type": "code",
   "execution_count": 191,
   "id": "25b7ff9f-f5bd-455b-a47f-f59ecda41f2f",
   "metadata": {},
   "outputs": [],
   "source": [
    "x_model1 = x_model1.float()\n",
    "y_model1 = y_model1.float()"
   ]
  },
  {
   "cell_type": "code",
   "execution_count": 192,
   "id": "1f48f814-a780-4fcf-bd48-5d698c6eca7d",
   "metadata": {},
   "outputs": [],
   "source": [
    "x1train = x_model1[sample1]\n",
    "x1test = x_model1[~sample1]\n",
    "y1train = y_model1[sample1]\n",
    "y1test = y_model1[~sample1]"
   ]
  },
  {
   "cell_type": "code",
   "execution_count": 193,
   "id": "49a136ed-1632-478e-88b4-0545f35d8a79",
   "metadata": {},
   "outputs": [
    {
     "data": {
      "text/plain": [
       "torch.Size([165, 3])"
      ]
     },
     "execution_count": 193,
     "metadata": {},
     "output_type": "execute_result"
    }
   ],
   "source": [
    "x1train.shape"
   ]
  },
  {
   "cell_type": "code",
   "execution_count": 196,
   "id": "84d93da4-cddc-4037-9642-cce20d7e1c13",
   "metadata": {},
   "outputs": [
    {
     "name": "stdout",
     "output_type": "stream",
     "text": [
      "0 15296.9345703125\n",
      "100 471.76666259765625\n",
      "200 16.436382293701172\n",
      "300 0.6698185205459595\n",
      "400 0.32515475153923035\n",
      "500 0.32450810074806213\n",
      "600 0.32450810074806213\n",
      "700 0.32450810074806213\n",
      "800 0.32450810074806213\n",
      "900 0.32450810074806213\n"
     ]
    }
   ],
   "source": [
    "neural_model1 = torch.nn.Sequential(\n",
    "    torch.nn.Linear(3, 2),\n",
    "    torch.nn.ReLU(),\n",
    "    torch.nn.Linear(2, 1),\n",
    ")\n",
    "\n",
    "loss_fn1 = torch.nn.MSELoss(reduction='mean')\n",
    "optimizer1 = torch.optim.SGD(neural_model1.parameters(), lr=1e-8)\n",
    "\n",
    "learning_rate = 1e-18\n",
    "for t in range(1000):\n",
    "    y_pred1 = neural_model1(x1train)\n",
    "    loss1 = loss_fn1(y_pred1, y1train)\n",
    "    if t % 100 == 0:\n",
    "        print(t, loss1.item())\n",
    "    neural_model1.zero_grad()\n",
    "    loss1.backward()\n",
    "    optimizer1.step()"
   ]
  },
  {
   "cell_type": "code",
   "execution_count": 197,
   "id": "a2a7e14a-4d58-4ba6-97e0-f621c8f9a2c1",
   "metadata": {},
   "outputs": [
    {
     "name": "stdout",
     "output_type": "stream",
     "text": [
      "0.32586854696273804\n"
     ]
    },
    {
     "name": "stderr",
     "output_type": "stream",
     "text": [
      "/Users/xiang/opt/anaconda3/lib/python3.9/site-packages/torch/nn/modules/loss.py:529: UserWarning: Using a target size (torch.Size([55])) that is different to the input size (torch.Size([55, 1])). This will likely lead to incorrect results due to broadcasting. Please ensure they have the same size.\n",
      "  return F.mse_loss(input, target, reduction=self.reduction)\n"
     ]
    }
   ],
   "source": [
    "y_pred1_test = neural_model1(x1test)\n",
    "loss_test1 = loss_fn1(y_pred1_test, y1test)\n",
    "print(loss_test1.item())"
   ]
  },
  {
   "cell_type": "code",
   "execution_count": 198,
   "id": "9e5dc5e2-35e1-41c8-a79a-938bda545b87",
   "metadata": {},
   "outputs": [],
   "source": [
    "## testing NN on CAD as a prediction ##\n",
    "y_model1_lung = df['lungCAvalue']\n",
    "y_model1_lung = torch.from_numpy(y_model1_lung.values)\n",
    "y_model1_lung = y_model1_lung.float()\n",
    "y1train_lung = y_model1_lung[sample1]\n",
    "y1test_lung = y_model1_lung[~sample1]"
   ]
  },
  {
   "cell_type": "code",
   "execution_count": 211,
   "id": "aded369a-84d8-4d61-98de-4ebca6a57394",
   "metadata": {},
   "outputs": [
    {
     "name": "stdout",
     "output_type": "stream",
     "text": [
      "0 38691.86328125\n",
      "100 3903.741455078125\n",
      "200 815.0667114257812\n",
      "300 269.5316162109375\n",
      "400 159.32440185546875\n",
      "500 136.2719268798828\n",
      "600 131.39776611328125\n",
      "700 130.36305236816406\n",
      "800 130.14295959472656\n",
      "900 130.09600830078125\n"
     ]
    }
   ],
   "source": [
    "neural_model1 = torch.nn.Sequential(\n",
    "    torch.nn.Linear(3, 2),\n",
    "    torch.nn.ReLU(),\n",
    "    torch.nn.Linear(2, 1),\n",
    ")\n",
    "\n",
    "loss_fn1_lung = torch.nn.MSELoss(reduction='mean')\n",
    "optimizer1_lung = torch.optim.SGD(neural_model1.parameters(), lr=1e-8)\n",
    "\n",
    "learning_rate = 1e-18\n",
    "for t in range(1000):\n",
    "    y_pred1_lung = neural_model1(x1train)\n",
    "    loss1_lung = loss_fn1_lung(y_pred1_lung, y1train_lung)\n",
    "    if t % 100 == 0:\n",
    "        print(t, loss1_lung.item())\n",
    "    neural_model1.zero_grad()\n",
    "    loss1_lung.backward()\n",
    "    optimizer1_lung.step()"
   ]
  },
  {
   "cell_type": "code",
   "execution_count": 212,
   "id": "02cb6bd9-6142-43ca-80ef-29b3318e8f15",
   "metadata": {},
   "outputs": [
    {
     "name": "stdout",
     "output_type": "stream",
     "text": [
      "135.91049194335938\n"
     ]
    }
   ],
   "source": [
    "y_pred1_test_lung = neural_model1(x1test)\n",
    "loss_test1_lung = loss_fn1_lung(y_pred1_test_lung, y1test_lung)\n",
    "print(loss_test1_lung.item()) \n",
    "# Loss is large for lung cancer, NN doesn't perform too well"
   ]
  },
  {
   "cell_type": "code",
   "execution_count": 213,
   "id": "1f8f555e-10fa-4632-979f-76cc4698661f",
   "metadata": {},
   "outputs": [],
   "source": [
    "## testing NN on coronary artery disease as a prediction ##\n",
    "y_model1_CAD = df['CADvalue']\n",
    "y_model1_CAD = torch.from_numpy(y_model1_CAD.values)\n",
    "y_model1_CAD = y_model1_CAD.float()\n",
    "y1train_CAD = y_model1_CAD[sample1]\n",
    "y1test_CAD = y_model1_CAD[~sample1]"
   ]
  },
  {
   "cell_type": "code",
   "execution_count": 215,
   "id": "24df7f80-57bc-408c-949f-6a87807ed875",
   "metadata": {},
   "outputs": [
    {
     "name": "stdout",
     "output_type": "stream",
     "text": [
      "0 0.3657435476779938\n",
      "100 0.36574187874794006\n",
      "200 0.36574018001556396\n",
      "300 0.36573848128318787\n",
      "400 0.36573681235313416\n",
      "500 0.36573511362075806\n",
      "600 0.36573347449302673\n",
      "700 0.36573177576065063\n",
      "800 0.36573007702827454\n",
      "900 0.36572837829589844\n"
     ]
    }
   ],
   "source": [
    "neural_model1 = torch.nn.Sequential(\n",
    "    torch.nn.Linear(3, 2),\n",
    "    torch.nn.ReLU(),\n",
    "    torch.nn.Linear(2, 1),\n",
    ")\n",
    "\n",
    "loss_fn1_CAD = torch.nn.MSELoss(reduction='mean')\n",
    "optimizer1_CAD = torch.optim.SGD(neural_model1.parameters(), lr=1e-8)\n",
    "\n",
    "learning_rate = 1e-16\n",
    "for t in range(1000):\n",
    "    y_pred1_CAD = neural_model1(x1train)\n",
    "    loss1_CAD = loss_fn1_CAD(y_pred1_CAD, y1train_CAD)\n",
    "    if t % 100 == 0:\n",
    "        print(t, loss1_CAD.item())\n",
    "    neural_model1.zero_grad()\n",
    "    loss1_CAD.backward()\n",
    "    optimizer1_CAD.step()"
   ]
  },
  {
   "cell_type": "code",
   "execution_count": 216,
   "id": "b949e4a3-77ae-4405-b401-9513a38c070d",
   "metadata": {},
   "outputs": [
    {
     "name": "stdout",
     "output_type": "stream",
     "text": [
      "0.35630443692207336\n"
     ]
    }
   ],
   "source": [
    "y_pred1_test_CAD = neural_model1(x1test)\n",
    "loss_test1_CAD = loss_fn1_CAD(y_pred1_test_CAD, y1test_CAD)\n",
    "print(loss_test1_CAD.item()) \n",
    "# NN performs decently well for CAD "
   ]
  },
  {
   "cell_type": "code",
   "execution_count": 217,
   "id": "bd200bc5-0b44-425a-a721-e3edc3efa4aa",
   "metadata": {},
   "outputs": [],
   "source": [
    "## testing NN on LBW as a prediction ##\n",
    "y_model1_LBW = df['LBWvalue']\n",
    "y_model1_LBW = torch.from_numpy(y_model1_LBW.values)\n",
    "y_model1_LBW = y_model1_LBW.float()\n",
    "y1train_LBW = y_model1_LBW[sample1]\n",
    "y1test_LBW = y_model1_LBW[~sample1]"
   ]
  },
  {
   "cell_type": "code",
   "execution_count": 218,
   "id": "5ce550c4-192e-4a0f-b29d-15214b5dd40a",
   "metadata": {},
   "outputs": [
    {
     "name": "stdout",
     "output_type": "stream",
     "text": [
      "0 1236.49365234375\n",
      "100 328.5020751953125\n",
      "200 90.77620697021484\n",
      "300 25.538095474243164\n",
      "400 7.408098220825195\n",
      "500 2.3529410362243652\n",
      "600 0.9422592520713806\n",
      "700 0.5485275387763977\n",
      "800 0.43863147497177124\n",
      "900 0.4079574644565582\n"
     ]
    }
   ],
   "source": [
    "neural_model1 = torch.nn.Sequential(\n",
    "    torch.nn.Linear(3, 2),\n",
    "    torch.nn.ReLU(),\n",
    "    torch.nn.Linear(2, 1),\n",
    ")\n",
    "\n",
    "loss_fn1_LBW = torch.nn.MSELoss(reduction='mean')\n",
    "optimizer1_LBW = torch.optim.SGD(neural_model1.parameters(), lr=1e-8)\n",
    "\n",
    "learning_rate = 1e-17\n",
    "for t in range(1000):\n",
    "    y_pred1_LBW = neural_model1(x1train)\n",
    "    loss1_LBW = loss_fn1_LBW(y_pred1_LBW, y1train_LBW)\n",
    "    if t % 100 == 0:\n",
    "        print(t, loss1_LBW.item())\n",
    "    neural_model1.zero_grad()\n",
    "    loss1_LBW.backward()\n",
    "    optimizer1_LBW.step()"
   ]
  },
  {
   "cell_type": "code",
   "execution_count": 219,
   "id": "37dbb1f0-7a16-47a6-8839-1ff6e885abe5",
   "metadata": {},
   "outputs": [
    {
     "name": "stdout",
     "output_type": "stream",
     "text": [
      "0.3535512089729309\n"
     ]
    }
   ],
   "source": [
    "y_pred1_test_LBW = neural_model1(x1test)\n",
    "loss_test1_LBW = loss_fn1_CAD(y_pred1_test_LBW, y1test_LBW)\n",
    "print(loss_test1_LBW.item()) \n",
    "# NN performs decently well for LBW "
   ]
  },
  {
   "cell_type": "markdown",
   "id": "75958509-84e3-43ad-aade-04bdd6f555a7",
   "metadata": {},
   "source": [
    "## **Linear Regression Model 2**\n",
    "\n",
    "### **Variables**: svi_ptile , transit_ptile"
   ]
  },
  {
   "cell_type": "code",
   "execution_count": 220,
   "id": "bbc1428e-03ca-46ad-8984-8d2ccd06ed25",
   "metadata": {},
   "outputs": [
    {
     "data": {
      "text/plain": [
       "[0.08615421688143492, array([0.04810285, 0.00918508])]"
      ]
     },
     "execution_count": 220,
     "metadata": {},
     "output_type": "execute_result"
    }
   ],
   "source": [
    "y_model2 = df['asthmavalue']\n",
    "x_model2 = df.drop(['ct', 'asthmavalue', 'lungCAvalue', 'CADvalue', 'LBWvalue', 'No_of_Stops', 'PTover45m_pct', 'PTRAF_bycensus'], axis=1)\n",
    "fit2 = LinearRegression().fit(x_model2, y_model2)\n",
    "yhat2 = fit2.predict(x_model2)\n",
    "[fit2.intercept_,fit2.coef_]"
   ]
  },
  {
   "cell_type": "code",
   "execution_count": 221,
   "id": "bc72e839-4219-4c1d-a60f-c982b38071e8",
   "metadata": {
    "tags": []
   },
   "outputs": [
    {
     "data": {
      "text/html": [
       "<div>\n",
       "<style scoped>\n",
       "    .dataframe tbody tr th:only-of-type {\n",
       "        vertical-align: middle;\n",
       "    }\n",
       "\n",
       "    .dataframe tbody tr th {\n",
       "        vertical-align: top;\n",
       "    }\n",
       "\n",
       "    .dataframe thead th {\n",
       "        text-align: right;\n",
       "    }\n",
       "</style>\n",
       "<table border=\"1\" class=\"dataframe\">\n",
       "  <thead>\n",
       "    <tr style=\"text-align: right;\">\n",
       "      <th></th>\n",
       "      <th>svi_ptile</th>\n",
       "      <th>transit_ptile</th>\n",
       "    </tr>\n",
       "  </thead>\n",
       "  <tbody>\n",
       "    <tr>\n",
       "      <th>0</th>\n",
       "      <td>0.045690</td>\n",
       "      <td>0.029276</td>\n",
       "    </tr>\n",
       "    <tr>\n",
       "      <th>3</th>\n",
       "      <td>0.015230</td>\n",
       "      <td>0.124807</td>\n",
       "    </tr>\n",
       "    <tr>\n",
       "      <th>7</th>\n",
       "      <td>0.005076</td>\n",
       "      <td>0.036980</td>\n",
       "    </tr>\n",
       "    <tr>\n",
       "      <th>9</th>\n",
       "      <td>0.076140</td>\n",
       "      <td>0.033898</td>\n",
       "    </tr>\n",
       "    <tr>\n",
       "      <th>11</th>\n",
       "      <td>0.081220</td>\n",
       "      <td>0.101695</td>\n",
       "    </tr>\n",
       "    <tr>\n",
       "      <th>...</th>\n",
       "      <td>...</td>\n",
       "      <td>...</td>\n",
       "    </tr>\n",
       "    <tr>\n",
       "      <th>635</th>\n",
       "      <td>0.208100</td>\n",
       "      <td>0.805855</td>\n",
       "    </tr>\n",
       "    <tr>\n",
       "      <th>640</th>\n",
       "      <td>0.360400</td>\n",
       "      <td>0.998459</td>\n",
       "    </tr>\n",
       "    <tr>\n",
       "      <th>642</th>\n",
       "      <td>0.213200</td>\n",
       "      <td>0.257319</td>\n",
       "    </tr>\n",
       "    <tr>\n",
       "      <th>647</th>\n",
       "      <td>0.832500</td>\n",
       "      <td>0.445300</td>\n",
       "    </tr>\n",
       "    <tr>\n",
       "      <th>649</th>\n",
       "      <td>0.979700</td>\n",
       "      <td>0.231125</td>\n",
       "    </tr>\n",
       "  </tbody>\n",
       "</table>\n",
       "<p>220 rows × 2 columns</p>\n",
       "</div>"
      ],
      "text/plain": [
       "     svi_ptile  transit_ptile\n",
       "0     0.045690       0.029276\n",
       "3     0.015230       0.124807\n",
       "7     0.005076       0.036980\n",
       "9     0.076140       0.033898\n",
       "11    0.081220       0.101695\n",
       "..         ...            ...\n",
       "635   0.208100       0.805855\n",
       "640   0.360400       0.998459\n",
       "642   0.213200       0.257319\n",
       "647   0.832500       0.445300\n",
       "649   0.979700       0.231125\n",
       "\n",
       "[220 rows x 2 columns]"
      ]
     },
     "execution_count": 221,
     "metadata": {},
     "output_type": "execute_result"
    }
   ],
   "source": [
    "x_model2"
   ]
  },
  {
   "cell_type": "code",
   "execution_count": 222,
   "id": "be5194ec-8a04-4b9c-9f77-90826755874d",
   "metadata": {},
   "outputs": [
    {
     "name": "stdout",
     "output_type": "stream",
     "text": [
      "0.04846093385797968 0.007471326285174193\n"
     ]
    }
   ],
   "source": [
    "b1_model2 = fit1.coef_[0]\n",
    "b2_model2 = fit1.coef_[1]\n",
    "intercept2 = fit2.intercept_\n",
    "print(b1_model2, b2_model2)"
   ]
  },
  {
   "cell_type": "code",
   "execution_count": 223,
   "id": "e98d9fa6-47cf-4be4-9ad0-bae950092f5e",
   "metadata": {
    "tags": []
   },
   "outputs": [
    {
     "name": "stdout",
     "output_type": "stream",
     "text": [
      "                  Results: Ordinary least squares\n",
      "===================================================================\n",
      "Model:              OLS              Adj. R-squared:     0.719     \n",
      "Dependent Variable: asthmavalue      AIC:                -1428.6480\n",
      "Date:               2022-05-15 15:18 BIC:                -1418.4671\n",
      "No. Observations:   220              Log-Likelihood:     717.32    \n",
      "Df Model:           2                F-statistic:        280.9     \n",
      "Df Residuals:       217              Prob (F-statistic): 6.15e-61  \n",
      "R-squared:          0.721            Scale:              8.7377e-05\n",
      "--------------------------------------------------------------------\n",
      "                   Coef.   Std.Err.     t     P>|t|   [0.025  0.975]\n",
      "--------------------------------------------------------------------\n",
      "Intercept          0.0862    0.0015  58.8876  0.0000  0.0833  0.0890\n",
      "svi_ptile          0.0481    0.0023  20.5925  0.0000  0.0435  0.0527\n",
      "transit_ptile      0.0092    0.0023   4.0796  0.0001  0.0047  0.0136\n",
      "-------------------------------------------------------------------\n",
      "Omnibus:               0.667         Durbin-Watson:           1.259\n",
      "Prob(Omnibus):         0.716         Jarque-Bera (JB):        0.796\n",
      "Skew:                  -0.091        Prob(JB):                0.672\n",
      "Kurtosis:              2.768         Condition No.:           5    \n",
      "===================================================================\n",
      "\n"
     ]
    }
   ],
   "source": [
    "results2 = smf.ols('asthmavalue ~ svi_ptile + transit_ptile', data = df).fit()\n",
    "print(results2.summary2())"
   ]
  },
  {
   "cell_type": "code",
   "execution_count": 224,
   "id": "19b02e61-1263-494a-9893-78014e5c4ddf",
   "metadata": {
    "tags": []
   },
   "outputs": [
    {
     "data": {
      "text/plain": [
       "0      0.001621\n",
       "3      0.006033\n",
       "7      0.004738\n",
       "9      0.009128\n",
       "11     0.007995\n",
       "         ...   \n",
       "635   -0.010434\n",
       "640   -0.006339\n",
       "642   -0.015227\n",
       "647    0.006290\n",
       "649   -0.000597\n",
       "Name: asthmavalue, Length: 220, dtype: float64"
      ]
     },
     "execution_count": 224,
     "metadata": {},
     "output_type": "execute_result"
    }
   ],
   "source": [
    "error2 = yhat2 - y_model2\n",
    "error2"
   ]
  },
  {
   "cell_type": "code",
   "execution_count": 225,
   "id": "eaef7ee3-c10d-4b4c-9fab-60245301324d",
   "metadata": {},
   "outputs": [
    {
     "data": {
      "text/plain": [
       "8.618587951120237e-05"
      ]
     },
     "execution_count": 225,
     "metadata": {},
     "output_type": "execute_result"
    }
   ],
   "source": [
    "(error2**2).mean()"
   ]
  },
  {
   "cell_type": "code",
   "execution_count": 226,
   "id": "88fc5c54-397b-4582-8243-cdeeeac2c86e",
   "metadata": {},
   "outputs": [
    {
     "data": {
      "text/plain": [
       "[<matplotlib.lines.Line2D at 0x7f9261a93a30>]"
      ]
     },
     "execution_count": 226,
     "metadata": {},
     "output_type": "execute_result"
    },
    {
     "data": {
      "image/png": "[encoded data removed]",
      "text/plain": [
       "<Figure size 432x288 with 1 Axes>"
      ]
     },
     "metadata": {},
     "output_type": "display_data"
    }
   ],
   "source": [
    "plt.plot(asthmavalue, error2, 'o')"
   ]
  },
  {
   "cell_type": "markdown",
   "id": "128d8b0f-8207-4635-b068-ae910181f6cd",
   "metadata": {},
   "source": [
    "## **Neural Network Model 2**\n",
    "\n",
    "### **Variables**: svi_ptile , transit_ptile"
   ]
  },
  {
   "cell_type": "code",
   "execution_count": 228,
   "id": "be6abafc-28a1-4ae1-890e-78f06d5a1fa1",
   "metadata": {},
   "outputs": [],
   "source": [
    "trainFraction = 0.75\n",
    "sample2 = np.random.uniform(size = 220) < trainFraction\n",
    "trainingDat2 = x_model2[sample2]\n",
    "testingDat2 = x_model2[~sample2]"
   ]
  },
  {
   "cell_type": "code",
   "execution_count": 229,
   "id": "f3069158-9e75-42a9-a313-5eb7b8071c1d",
   "metadata": {},
   "outputs": [],
   "source": [
    "x_model2 = torch.from_numpy(x_model2.values)\n",
    "y_model2 = torch.from_numpy(y_model2.values)"
   ]
  },
  {
   "cell_type": "code",
   "execution_count": 230,
   "id": "9add1e2c-b385-4749-b4a3-eeffdce997b8",
   "metadata": {},
   "outputs": [],
   "source": [
    "x_model2 = x_model2.float()\n",
    "y_model2 = y_model2.float()"
   ]
  },
  {
   "cell_type": "code",
   "execution_count": 231,
   "id": "1a912875-df78-411e-a1dd-485ee060331c",
   "metadata": {},
   "outputs": [],
   "source": [
    "x2train = x_model2[sample2]\n",
    "x2test = x_model2[~sample2]\n",
    "y2train = y_model2[sample2]\n",
    "y2test = y_model2[~sample2]"
   ]
  },
  {
   "cell_type": "code",
   "execution_count": 232,
   "id": "64e3abca-fe96-463c-957b-8cbd7672bd42",
   "metadata": {},
   "outputs": [
    {
     "data": {
      "text/plain": [
       "torch.Size([164, 2])"
      ]
     },
     "execution_count": 232,
     "metadata": {},
     "output_type": "execute_result"
    }
   ],
   "source": [
    "x2train.shape"
   ]
  },
  {
   "cell_type": "code",
   "execution_count": 248,
   "id": "c75621bc-cb3d-41dd-9c65-8d8ad9c8b9ab",
   "metadata": {
    "tags": []
   },
   "outputs": [
    {
     "name": "stdout",
     "output_type": "stream",
     "text": [
      "0 0.0030981567688286304\n",
      "100 0.0030981567688286304\n",
      "200 0.0030981567688286304\n",
      "300 0.0030981567688286304\n",
      "400 0.0030981567688286304\n",
      "500 0.0030981567688286304\n",
      "600 0.0030981567688286304\n",
      "700 0.0030981567688286304\n",
      "800 0.0030981567688286304\n",
      "900 0.0030981567688286304\n"
     ]
    }
   ],
   "source": [
    "# 2 hidden nodes\n",
    "\n",
    "neural_model2 = torch.nn.Sequential(\n",
    "    torch.nn.Linear(2, 2),\n",
    "    torch.nn.ReLU(),\n",
    "    torch.nn.Linear(2, 1),\n",
    ")\n",
    "\n",
    "loss_fn2 = torch.nn.MSELoss(reduction='mean')\n",
    "optimizer2 = torch.optim.SGD(neural_model2.parameters(), lr=1e-8)\n",
    "\n",
    "learning_rate = 1e-7\n",
    "for t in range(1000):\n",
    "    y_pred2 = neural_model2(x2train)\n",
    "    loss2 = loss_fn2(y_pred2, y2train)\n",
    "    if t % 100 == 0:\n",
    "        print(t, loss2.item())\n",
    "    neural_model2.zero_grad()\n",
    "    loss2.backward()\n",
    "    optimizer2.step()"
   ]
  },
  {
   "cell_type": "code",
   "execution_count": 249,
   "id": "0aa2f4a5-2483-4ae8-a169-a4d396aed0c1",
   "metadata": {},
   "outputs": [],
   "source": [
    "# loss is slowly decreasing"
   ]
  },
  {
   "cell_type": "code",
   "execution_count": 250,
   "id": "262fbef3-2657-4465-b7f5-e69f52655337",
   "metadata": {},
   "outputs": [
    {
     "name": "stdout",
     "output_type": "stream",
     "text": [
      "0.0030830688774585724\n"
     ]
    }
   ],
   "source": [
    "y_pred2_test = neural_model2(x2test)\n",
    "loss_test2 = loss_fn2(y_pred2_test, y2test)\n",
    "print(loss_test2.item())"
   ]
  },
  {
   "cell_type": "code",
   "execution_count": 251,
   "id": "5673b042-93a7-4f91-8920-223f60b54b60",
   "metadata": {},
   "outputs": [],
   "source": [
    "## testing NN on lung cancer as a prediction ##\n",
    "y_model2_lung = df['lungCAvalue']\n",
    "y_model2_lung = torch.from_numpy(y_model2_lung.values)\n",
    "y_model2_lung = y_model2_lung.float()\n",
    "y2train_lung = y_model2_lung[sample2]\n",
    "y2test_lung = y_model2_lung[~sample2]"
   ]
  },
  {
   "cell_type": "code",
   "execution_count": 269,
   "id": "b00191c7-1fd0-4978-80bf-9c769f23dc6f",
   "metadata": {},
   "outputs": [
    {
     "name": "stdout",
     "output_type": "stream",
     "text": [
      "0 256.27191162109375\n",
      "100 256.2706298828125\n",
      "200 256.2693786621094\n",
      "300 256.2680969238281\n",
      "400 256.2668151855469\n",
      "500 256.2655334472656\n",
      "600 256.2642822265625\n",
      "700 256.26300048828125\n",
      "800 256.26171875\n",
      "900 256.26043701171875\n"
     ]
    }
   ],
   "source": [
    "neural_model2 = torch.nn.Sequential(\n",
    "    torch.nn.Linear(2, 2),\n",
    "    torch.nn.ReLU(),\n",
    "    torch.nn.Linear(2, 1),\n",
    ")\n",
    "\n",
    "loss_fn2_lung = torch.nn.MSELoss(reduction='mean')\n",
    "optimizer2_lung = torch.optim.SGD(neural_model2.parameters(), lr=1e-8)\n",
    "\n",
    "learning_rate = 1e-12\n",
    "for t in range(1000):\n",
    "    y_pred2_lung = neural_model2(x2train)\n",
    "    loss2_lung = loss_fn2_lung(y_pred2_lung, y2train_lung)\n",
    "    if t % 100 == 0:\n",
    "        print(t, loss2_lung.item())\n",
    "    neural_model2.zero_grad()\n",
    "    loss2_lung.backward()\n",
    "    optimizer2_lung.step()"
   ]
  },
  {
   "cell_type": "code",
   "execution_count": 270,
   "id": "6730504b-28b0-4a26-b5b2-4436732e702a",
   "metadata": {},
   "outputs": [
    {
     "name": "stdout",
     "output_type": "stream",
     "text": [
      "230.52488708496094\n"
     ]
    }
   ],
   "source": [
    "y_pred2_test_lung = neural_model2(x2test)\n",
    "loss_test2_lung = loss_fn2_lung(y_pred2_test_lung, y2test_lung)\n",
    "print(loss_test2_lung.item())"
   ]
  },
  {
   "cell_type": "code",
   "execution_count": 266,
   "id": "eceb9aab-b405-4b34-b149-d5eed06a8a74",
   "metadata": {},
   "outputs": [],
   "source": [
    "## testing NN on coronary artery disease as a prediction ##\n",
    "y_model2_CAD = df['CADvalue']\n",
    "y_model2_CAD = torch.from_numpy(y_model2_CAD.values)\n",
    "y_model2_CAD = y_model2_CAD.float()\n",
    "y2train_CAD = y_model2_CAD[sample2]\n",
    "y2test_CAD = y_model2_CAD[~sample2]"
   ]
  },
  {
   "cell_type": "code",
   "execution_count": 274,
   "id": "ca3fe1c6-022a-450a-b3b2-e25815d53b6d",
   "metadata": {},
   "outputs": [
    {
     "name": "stdout",
     "output_type": "stream",
     "text": [
      "0 0.05205787345767021\n",
      "100 0.05205787345767021\n",
      "200 0.05205787345767021\n",
      "300 0.05205787345767021\n",
      "400 0.05205787345767021\n",
      "500 0.05205787345767021\n",
      "600 0.05205787345767021\n",
      "700 0.05205787345767021\n",
      "800 0.05205787345767021\n",
      "900 0.05205787345767021\n"
     ]
    }
   ],
   "source": [
    "neural_model2 = torch.nn.Sequential(\n",
    "    torch.nn.Linear(2, 2),\n",
    "    torch.nn.ReLU(),\n",
    "    torch.nn.Linear(2, 1),\n",
    ")\n",
    "\n",
    "loss_fn2_CAD = torch.nn.MSELoss(reduction='mean')\n",
    "optimizer2_CAD = torch.optim.SGD(neural_model2.parameters(), lr=1e-8)\n",
    "\n",
    "learning_rate = 1e-13\n",
    "for t in range(1000):\n",
    "    y_pred2_CAD = neural_model2(x2train)\n",
    "    loss2_CAD = loss_fn2_CAD(y_pred2_CAD, y2train_CAD)\n",
    "    if t % 100 == 0:\n",
    "        print(t, loss2_CAD.item())\n",
    "    neural_model2.zero_grad()\n",
    "    loss2_CAD.backward()\n",
    "    optimizer2_CAD.step()"
   ]
  },
  {
   "cell_type": "code",
   "execution_count": 275,
   "id": "50307218-2cf4-465b-b675-c2f2084d7054",
   "metadata": {},
   "outputs": [
    {
     "name": "stdout",
     "output_type": "stream",
     "text": [
      "0.04854520410299301\n"
     ]
    }
   ],
   "source": [
    "y_pred2_test_CAD = neural_model2(x2test)\n",
    "loss_test2_CAD = loss_fn2_CAD(y_pred2_test_CAD, y2test_CAD)\n",
    "print(loss_test2_CAD.item())"
   ]
  },
  {
   "cell_type": "code",
   "execution_count": 277,
   "id": "a25d3165-7c08-4ad2-9243-da017aa1a0cc",
   "metadata": {},
   "outputs": [],
   "source": [
    "## testing NN on LBW as a prediction ##\n",
    "y_model2_LBW = df['LBWvalue']\n",
    "y_model2_LBW = torch.from_numpy(y_model2_LBW.values)\n",
    "y_model2_LBW = y_model2_LBW.float()\n",
    "y2train_LBW = y_model2_LBW[sample2]\n",
    "y2test_LBW = y_model2_LBW[~sample2]"
   ]
  },
  {
   "cell_type": "code",
   "execution_count": 285,
   "id": "d4eb7365-cb37-482d-aabd-9eefc91f9e82",
   "metadata": {},
   "outputs": [
    {
     "name": "stdout",
     "output_type": "stream",
     "text": [
      "0 0.09652438759803772\n",
      "100 0.09652438759803772\n",
      "200 0.09652438759803772\n",
      "300 0.09652438759803772\n",
      "400 0.09652438759803772\n",
      "500 0.09652438759803772\n",
      "600 0.09652438759803772\n",
      "700 0.09652438759803772\n",
      "800 0.09652438759803772\n",
      "900 0.09652438759803772\n"
     ]
    }
   ],
   "source": [
    "neural_model2 = torch.nn.Sequential(\n",
    "    torch.nn.Linear(2, 2),\n",
    "    torch.nn.ReLU(),\n",
    "    torch.nn.Linear(2, 1),\n",
    ")\n",
    "\n",
    "loss_fn2_LBW = torch.nn.MSELoss(reduction='mean')\n",
    "optimizer2_LBW = torch.optim.SGD(neural_model2.parameters(), lr=1e-8)\n",
    "\n",
    "learning_rate = 1e-9\n",
    "for t in range(1000):\n",
    "    y_pred2_LBW = neural_model2(x2train)\n",
    "    loss2_LBW = loss_fn2_LBW(y_pred2_LBW, y2train_LBW)\n",
    "    if t % 100 == 0:\n",
    "        print(t, loss2_LBW.item())\n",
    "    neural_model2.zero_grad()\n",
    "    loss2_LBW.backward()\n",
    "    optimizer2_LBW.step()"
   ]
  },
  {
   "cell_type": "code",
   "execution_count": 286,
   "id": "1eabe440-ee22-473d-b0e1-f5ee2253c815",
   "metadata": {},
   "outputs": [
    {
     "name": "stdout",
     "output_type": "stream",
     "text": [
      "0.12121649086475372\n"
     ]
    }
   ],
   "source": [
    "y_pred2_test_LBW = neural_model2(x2test)\n",
    "loss_test2_LBW = loss_fn2_LBW(y_pred2_test_LBW, y2test_LBW)\n",
    "print(loss_test2_LBW.item())"
   ]
  },
  {
   "cell_type": "markdown",
   "id": "af7c8d72-c8be-42be-9eda-12a7a20b5513",
   "metadata": {},
   "source": [
    "### **Error & Loss Rates Comparison** \n",
    "\n",
    "**Model 1 LR (asthma):** 8.508677689764922e-05\n",
    "\n",
    "**Model 1 NN (2 nodes, asthma):** 0.32586854696273804\n",
    "\n",
    "**Model 1 NN (2 nodes, lung cancer):** 135.91049194335938\n",
    "\n",
    "**Model 1 NN (2 nodes, CAD):** 0.35630443692207336\n",
    "\n",
    "**Model 1 NN (2 nodes, LBW):** 0.3535512089729309\n",
    "\n",
    "\n",
    "\n",
    "**Model 2 LR (asthma):** 8.618587951120237e-05\n",
    "\n",
    "**Model 2 NN (2 nodes, asthma):** 0.0030830688774585724\n",
    "\n",
    "**Model 2 NN (2 nodes, lung):** 230.52488708496094\n",
    "\n",
    "**Model 2 NN (2 nodes, CAD):**  0.04854520410299301\n",
    "\n",
    "**Model 2 NN (2 nodes, LBW):** 0.12121649086475372"
   ]
  },
  {
   "cell_type": "code",
   "execution_count": 39,
   "id": "56d39275-ca7f-4fc2-9c04-6ca261246e24",
   "metadata": {},
   "outputs": [
    {
     "ename": "AttributeError",
     "evalue": "'OLSResults' object has no attribute 'PoissonRegressor'",
     "output_type": "error",
     "traceback": [
      "\u001b[0;31m---------------------------------------------------------------------------\u001b[0m",
      "\u001b[0;31mAttributeError\u001b[0m                            Traceback (most recent call last)",
      "\u001b[0;32m/var/folders/8x/824kqf3n1jl6v18tdn0qm1lc0000gn/T/ipykernel_63667/3370108636.py\u001b[0m in \u001b[0;36m<module>\u001b[0;34m\u001b[0m\n\u001b[1;32m      1\u001b[0m \u001b[0;31m#### POISSON REGRESSION FOR LUNG CANCER CASES (discrete count data)\u001b[0m\u001b[0;34m\u001b[0m\u001b[0;34m\u001b[0m\u001b[0m\n\u001b[1;32m      2\u001b[0m \u001b[0;34m\u001b[0m\u001b[0m\n\u001b[0;32m----> 3\u001b[0;31m \u001b[0mpois\u001b[0m \u001b[0;34m=\u001b[0m \u001b[0mlinear_model\u001b[0m\u001b[0;34m.\u001b[0m\u001b[0mPoissonRegressor\u001b[0m\u001b[0;34m(\u001b[0m\u001b[0;34m)\u001b[0m\u001b[0;34m\u001b[0m\u001b[0;34m\u001b[0m\u001b[0m\n\u001b[0m\u001b[1;32m      4\u001b[0m \u001b[0;34m\u001b[0m\u001b[0m\n\u001b[1;32m      5\u001b[0m \u001b[0my_model3\u001b[0m \u001b[0;34m=\u001b[0m \u001b[0mdf\u001b[0m\u001b[0;34m[\u001b[0m\u001b[0;34m'lungCAvalue'\u001b[0m\u001b[0;34m]\u001b[0m\u001b[0;34m\u001b[0m\u001b[0;34m\u001b[0m\u001b[0m\n",
      "\u001b[0;32m~/opt/anaconda3/lib/python3.9/site-packages/statsmodels/base/wrapper.py\u001b[0m in \u001b[0;36m__getattribute__\u001b[0;34m(self, attr)\u001b[0m\n\u001b[1;32m     32\u001b[0m             \u001b[0;32mpass\u001b[0m\u001b[0;34m\u001b[0m\u001b[0;34m\u001b[0m\u001b[0m\n\u001b[1;32m     33\u001b[0m \u001b[0;34m\u001b[0m\u001b[0m\n\u001b[0;32m---> 34\u001b[0;31m         \u001b[0mobj\u001b[0m \u001b[0;34m=\u001b[0m \u001b[0mgetattr\u001b[0m\u001b[0;34m(\u001b[0m\u001b[0mresults\u001b[0m\u001b[0;34m,\u001b[0m \u001b[0mattr\u001b[0m\u001b[0;34m)\u001b[0m\u001b[0;34m\u001b[0m\u001b[0;34m\u001b[0m\u001b[0m\n\u001b[0m\u001b[1;32m     35\u001b[0m         \u001b[0mdata\u001b[0m \u001b[0;34m=\u001b[0m \u001b[0mresults\u001b[0m\u001b[0;34m.\u001b[0m\u001b[0mmodel\u001b[0m\u001b[0;34m.\u001b[0m\u001b[0mdata\u001b[0m\u001b[0;34m\u001b[0m\u001b[0;34m\u001b[0m\u001b[0m\n\u001b[1;32m     36\u001b[0m         \u001b[0mhow\u001b[0m \u001b[0;34m=\u001b[0m \u001b[0mself\u001b[0m\u001b[0;34m.\u001b[0m\u001b[0m_wrap_attrs\u001b[0m\u001b[0;34m.\u001b[0m\u001b[0mget\u001b[0m\u001b[0;34m(\u001b[0m\u001b[0mattr\u001b[0m\u001b[0;34m)\u001b[0m\u001b[0;34m\u001b[0m\u001b[0;34m\u001b[0m\u001b[0m\n",
      "\u001b[0;31mAttributeError\u001b[0m: 'OLSResults' object has no attribute 'PoissonRegressor'"
     ]
    }
   ],
   "source": [
    "#### POISSON REGRESSION FOR LUNG CANCER CASES (discrete count data)\n",
    "\n",
    "pois = linear_model.PoissonRegressor()\n",
    "\n",
    "y_model3 = df['lungCAvalue']\n",
    "x_model3 = df.drop(['ct', 'asthmavalue', 'lungCAvalue', 'CADvalue', 'LBWvalue', 'No_of_Stops', 'PTover45m_pct', 'PTRAF_bycensus'], axis=1)\n",
    "fit3 = pois.fit(x_model3, y_model3)\n",
    "yhat3 = fit3.predict(x_model3)\n",
    "[fit3.intercept_,fit3.coef_]\n",
    "\n",
    "pois.score(x_model3, y_model3) # this is WORSE than the linear regression model!\n"
   ]
  },
  {
   "cell_type": "code",
   "execution_count": 22,
   "id": "937a4f1c-c3f6-4516-9be1-04b7ab447fa3",
   "metadata": {},
   "outputs": [],
   "source": [
    "########## ALL THE FINAL MODELS WE ARE USING\n",
    "########## ASTHMA IS WELL PREDICTED, THE OTHERS ARE NOT\n",
    "\n",
    "y1 = df['asthmavalue']\n",
    "y2 = df['CADvalue']\n",
    "y3 = df['lungCAvalue']\n",
    "y4 = df['LBWvalue']\n",
    "xval = df.drop(['ct', 'asthmavalue', 'lungCAvalue', 'CADvalue', 'LBWvalue', 'No_of_Stops', 'PTover45m_pct', 'PTRAF_bycensus'], axis=1)\n"
   ]
  },
  {
   "cell_type": "code",
   "execution_count": 23,
   "id": "d4554fb1-389a-440f-9e9e-258f8568d78a",
   "metadata": {},
   "outputs": [
    {
     "data": {
      "text/html": [
       "<table class=\"simpletable\">\n",
       "<tr>\n",
       "        <td>Model:</td>               <td>OLS</td>         <td>Adj. R-squared:</td>      <td>0.719</td>  \n",
       "</tr>\n",
       "<tr>\n",
       "  <td>Dependent Variable:</td>    <td>asthmavalue</td>          <td>AIC:</td>         <td>-1428.6480</td>\n",
       "</tr>\n",
       "<tr>\n",
       "         <td>Date:</td>        <td>2022-05-15 11:18</td>        <td>BIC:</td>         <td>-1418.4671</td>\n",
       "</tr>\n",
       "<tr>\n",
       "   <td>No. Observations:</td>         <td>220</td>         <td>Log-Likelihood:</td>     <td>717.32</td>  \n",
       "</tr>\n",
       "<tr>\n",
       "       <td>Df Model:</td>              <td>2</td>           <td>F-statistic:</td>        <td>280.9</td>  \n",
       "</tr>\n",
       "<tr>\n",
       "     <td>Df Residuals:</td>           <td>217</td>       <td>Prob (F-statistic):</td>  <td>6.15e-61</td> \n",
       "</tr>\n",
       "<tr>\n",
       "      <td>R-squared:</td>            <td>0.721</td>            <td>Scale:</td>        <td>8.7377e-05</td>\n",
       "</tr>\n",
       "</table>\n",
       "<table class=\"simpletable\">\n",
       "<tr>\n",
       "        <td></td>         <th>Coef.</th> <th>Std.Err.</th>    <th>t</th>     <th>P>|t|</th> <th>[0.025</th> <th>0.975]</th>\n",
       "</tr>\n",
       "<tr>\n",
       "  <th>Intercept</th>     <td>0.0862</td>  <td>0.0015</td>  <td>58.8876</td> <td>0.0000</td> <td>0.0833</td> <td>0.0890</td>\n",
       "</tr>\n",
       "<tr>\n",
       "  <th>svi_ptile</th>     <td>0.0481</td>  <td>0.0023</td>  <td>20.5925</td> <td>0.0000</td> <td>0.0435</td> <td>0.0527</td>\n",
       "</tr>\n",
       "<tr>\n",
       "  <th>transit_ptile</th> <td>0.0092</td>  <td>0.0023</td>  <td>4.0796</td>  <td>0.0001</td> <td>0.0047</td> <td>0.0136</td>\n",
       "</tr>\n",
       "</table>\n",
       "<table class=\"simpletable\">\n",
       "<tr>\n",
       "     <td>Omnibus:</td>     <td>0.667</td>  <td>Durbin-Watson:</td>   <td>1.259</td>\n",
       "</tr>\n",
       "<tr>\n",
       "  <td>Prob(Omnibus):</td>  <td>0.716</td> <td>Jarque-Bera (JB):</td> <td>0.796</td>\n",
       "</tr>\n",
       "<tr>\n",
       "       <td>Skew:</td>     <td>-0.091</td>     <td>Prob(JB):</td>     <td>0.672</td>\n",
       "</tr>\n",
       "<tr>\n",
       "     <td>Kurtosis:</td>    <td>2.768</td>  <td>Condition No.:</td>     <td>5</td>  \n",
       "</tr>\n",
       "</table>"
      ],
      "text/plain": [
       "<class 'statsmodels.iolib.summary2.Summary'>\n",
       "\"\"\"\n",
       "                  Results: Ordinary least squares\n",
       "===================================================================\n",
       "Model:              OLS              Adj. R-squared:     0.719     \n",
       "Dependent Variable: asthmavalue      AIC:                -1428.6480\n",
       "Date:               2022-05-15 11:18 BIC:                -1418.4671\n",
       "No. Observations:   220              Log-Likelihood:     717.32    \n",
       "Df Model:           2                F-statistic:        280.9     \n",
       "Df Residuals:       217              Prob (F-statistic): 6.15e-61  \n",
       "R-squared:          0.721            Scale:              8.7377e-05\n",
       "--------------------------------------------------------------------\n",
       "                   Coef.   Std.Err.     t     P>|t|   [0.025  0.975]\n",
       "--------------------------------------------------------------------\n",
       "Intercept          0.0862    0.0015  58.8876  0.0000  0.0833  0.0890\n",
       "svi_ptile          0.0481    0.0023  20.5925  0.0000  0.0435  0.0527\n",
       "transit_ptile      0.0092    0.0023   4.0796  0.0001  0.0047  0.0136\n",
       "-------------------------------------------------------------------\n",
       "Omnibus:               0.667         Durbin-Watson:           1.259\n",
       "Prob(Omnibus):         0.716         Jarque-Bera (JB):        0.796\n",
       "Skew:                  -0.091        Prob(JB):                0.672\n",
       "Kurtosis:              2.768         Condition No.:           5    \n",
       "===================================================================\n",
       "\n",
       "\"\"\""
      ]
     },
     "execution_count": 23,
     "metadata": {},
     "output_type": "execute_result"
    }
   ],
   "source": [
    "finalfit1 = smf.ols('asthmavalue ~ svi_ptile + transit_ptile', data = df).fit()\n",
    "finalfit1.summary2()"
   ]
  },
  {
   "cell_type": "code",
   "execution_count": 24,
   "id": "f0fa5d74-51ad-4984-ad32-d2fbae366364",
   "metadata": {},
   "outputs": [
    {
     "data": {
      "text/html": [
       "<table class=\"simpletable\">\n",
       "<tr>\n",
       "        <td>Model:</td>               <td>OLS</td>         <td>Adj. R-squared:</td>     <td>0.039</td> \n",
       "</tr>\n",
       "<tr>\n",
       "  <td>Dependent Variable:</td>     <td>CADvalue</td>            <td>AIC:</td>         <td>-84.7571</td>\n",
       "</tr>\n",
       "<tr>\n",
       "         <td>Date:</td>        <td>2022-05-15 11:18</td>        <td>BIC:</td>         <td>-74.5762</td>\n",
       "</tr>\n",
       "<tr>\n",
       "   <td>No. Observations:</td>         <td>220</td>         <td>Log-Likelihood:</td>    <td>45.379</td> \n",
       "</tr>\n",
       "<tr>\n",
       "       <td>Df Model:</td>              <td>2</td>           <td>F-statistic:</td>       <td>5.388</td> \n",
       "</tr>\n",
       "<tr>\n",
       "     <td>Df Residuals:</td>           <td>217</td>       <td>Prob (F-statistic):</td>  <td>0.00520</td>\n",
       "</tr>\n",
       "<tr>\n",
       "      <td>R-squared:</td>            <td>0.047</td>            <td>Scale:</td>        <td>0.039294</td>\n",
       "</tr>\n",
       "</table>\n",
       "<table class=\"simpletable\">\n",
       "<tr>\n",
       "        <td></td>         <th>Coef.</th>  <th>Std.Err.</th>    <th>t</th>     <th>P>|t|</th> <th>[0.025</th>  <th>0.975]</th> \n",
       "</tr>\n",
       "<tr>\n",
       "  <th>Intercept</th>     <td>0.5227</td>   <td>0.0310</td>  <td>16.8482</td> <td>0.0000</td> <td>0.4616</td>  <td>0.5839</td> \n",
       "</tr>\n",
       "<tr>\n",
       "  <th>svi_ptile</th>     <td>-0.0151</td>  <td>0.0495</td>  <td>-0.3044</td> <td>0.7611</td> <td>-0.1127</td> <td>0.0826</td> \n",
       "</tr>\n",
       "<tr>\n",
       "  <th>transit_ptile</th> <td>-0.1420</td>  <td>0.0477</td>  <td>-2.9732</td> <td>0.0033</td> <td>-0.2361</td> <td>-0.0479</td>\n",
       "</tr>\n",
       "</table>\n",
       "<table class=\"simpletable\">\n",
       "<tr>\n",
       "     <td>Omnibus:</td>    <td>7.243</td>  <td>Durbin-Watson:</td>   <td>1.462</td>\n",
       "</tr>\n",
       "<tr>\n",
       "  <td>Prob(Omnibus):</td> <td>0.027</td> <td>Jarque-Bera (JB):</td> <td>4.586</td>\n",
       "</tr>\n",
       "<tr>\n",
       "       <td>Skew:</td>     <td>0.186</td>     <td>Prob(JB):</td>     <td>0.101</td>\n",
       "</tr>\n",
       "<tr>\n",
       "     <td>Kurtosis:</td>   <td>2.399</td>  <td>Condition No.:</td>     <td>5</td>  \n",
       "</tr>\n",
       "</table>"
      ],
      "text/plain": [
       "<class 'statsmodels.iolib.summary2.Summary'>\n",
       "\"\"\"\n",
       "                 Results: Ordinary least squares\n",
       "=================================================================\n",
       "Model:              OLS              Adj. R-squared:     0.039   \n",
       "Dependent Variable: CADvalue         AIC:                -84.7571\n",
       "Date:               2022-05-15 11:18 BIC:                -74.5762\n",
       "No. Observations:   220              Log-Likelihood:     45.379  \n",
       "Df Model:           2                F-statistic:        5.388   \n",
       "Df Residuals:       217              Prob (F-statistic): 0.00520 \n",
       "R-squared:          0.047            Scale:              0.039294\n",
       "-----------------------------------------------------------------\n",
       "                   Coef.  Std.Err.    t    P>|t|   [0.025  0.975]\n",
       "-----------------------------------------------------------------\n",
       "Intercept          0.5227   0.0310 16.8482 0.0000  0.4616  0.5839\n",
       "svi_ptile         -0.0151   0.0495 -0.3044 0.7611 -0.1127  0.0826\n",
       "transit_ptile     -0.1420   0.0477 -2.9732 0.0033 -0.2361 -0.0479\n",
       "-----------------------------------------------------------------\n",
       "Omnibus:              7.243        Durbin-Watson:           1.462\n",
       "Prob(Omnibus):        0.027        Jarque-Bera (JB):        4.586\n",
       "Skew:                 0.186        Prob(JB):                0.101\n",
       "Kurtosis:             2.399        Condition No.:           5    \n",
       "=================================================================\n",
       "\n",
       "\"\"\""
      ]
     },
     "execution_count": 24,
     "metadata": {},
     "output_type": "execute_result"
    }
   ],
   "source": [
    "finalfit2 = smf.ols('CADvalue ~ svi_ptile + transit_ptile', data = df).fit()\n",
    "finalfit2.summary2()"
   ]
  },
  {
   "cell_type": "code",
   "execution_count": 25,
   "id": "9be2b0a9-5955-45d9-b54b-563b06eff2f7",
   "metadata": {},
   "outputs": [
    {
     "data": {
      "text/html": [
       "<table class=\"simpletable\">\n",
       "<tr>\n",
       "        <td>Model:</td>               <td>OLS</td>         <td>Adj. R-squared:</td>     <td>0.075</td>  \n",
       "</tr>\n",
       "<tr>\n",
       "  <td>Dependent Variable:</td>    <td>lungCAvalue</td>          <td>AIC:</td>         <td>1530.8488</td>\n",
       "</tr>\n",
       "<tr>\n",
       "         <td>Date:</td>        <td>2022-05-15 11:19</td>        <td>BIC:</td>         <td>1541.0297</td>\n",
       "</tr>\n",
       "<tr>\n",
       "   <td>No. Observations:</td>         <td>220</td>         <td>Log-Likelihood:</td>    <td>-762.42</td> \n",
       "</tr>\n",
       "<tr>\n",
       "       <td>Df Model:</td>              <td>2</td>           <td>F-statistic:</td>       <td>9.824</td>  \n",
       "</tr>\n",
       "<tr>\n",
       "     <td>Df Residuals:</td>           <td>217</td>       <td>Prob (F-statistic):</td> <td>8.24e-05</td> \n",
       "</tr>\n",
       "<tr>\n",
       "      <td>R-squared:</td>            <td>0.083</td>            <td>Scale:</td>         <td>60.763</td>  \n",
       "</tr>\n",
       "</table>\n",
       "<table class=\"simpletable\">\n",
       "<tr>\n",
       "        <td></td>         <th>Coef.</th> <th>Std.Err.</th>    <th>t</th>    <th>P>|t|</th> <th>[0.025</th>  <th>0.975]</th> \n",
       "</tr>\n",
       "<tr>\n",
       "  <th>Intercept</th>     <td>8.4849</td>  <td>1.2200</td>  <td>6.9547</td> <td>0.0000</td> <td>6.0803</td>  <td>10.8896</td>\n",
       "</tr>\n",
       "<tr>\n",
       "  <th>svi_ptile</th>     <td>7.0510</td>  <td>1.9480</td>  <td>3.6197</td> <td>0.0004</td> <td>3.2117</td>  <td>10.8904</td>\n",
       "</tr>\n",
       "<tr>\n",
       "  <th>transit_ptile</th> <td>2.2222</td>  <td>1.8775</td>  <td>1.1836</td> <td>0.2379</td> <td>-1.4783</td> <td>5.9227</td> \n",
       "</tr>\n",
       "</table>\n",
       "<table class=\"simpletable\">\n",
       "<tr>\n",
       "     <td>Omnibus:</td>    <td>8.438</td>  <td>Durbin-Watson:</td>   <td>1.694</td>\n",
       "</tr>\n",
       "<tr>\n",
       "  <td>Prob(Omnibus):</td> <td>0.015</td> <td>Jarque-Bera (JB):</td> <td>8.475</td>\n",
       "</tr>\n",
       "<tr>\n",
       "       <td>Skew:</td>     <td>0.477</td>     <td>Prob(JB):</td>     <td>0.014</td>\n",
       "</tr>\n",
       "<tr>\n",
       "     <td>Kurtosis:</td>   <td>3.120</td>  <td>Condition No.:</td>     <td>5</td>  \n",
       "</tr>\n",
       "</table>"
      ],
      "text/plain": [
       "<class 'statsmodels.iolib.summary2.Summary'>\n",
       "\"\"\"\n",
       "                 Results: Ordinary least squares\n",
       "==================================================================\n",
       "Model:              OLS              Adj. R-squared:     0.075    \n",
       "Dependent Variable: lungCAvalue      AIC:                1530.8488\n",
       "Date:               2022-05-15 11:19 BIC:                1541.0297\n",
       "No. Observations:   220              Log-Likelihood:     -762.42  \n",
       "Df Model:           2                F-statistic:        9.824    \n",
       "Df Residuals:       217              Prob (F-statistic): 8.24e-05 \n",
       "R-squared:          0.083            Scale:              60.763   \n",
       "-------------------------------------------------------------------\n",
       "                 Coef.   Std.Err.    t     P>|t|    [0.025   0.975]\n",
       "-------------------------------------------------------------------\n",
       "Intercept        8.4849    1.2200  6.9547  0.0000   6.0803  10.8896\n",
       "svi_ptile        7.0510    1.9480  3.6197  0.0004   3.2117  10.8904\n",
       "transit_ptile    2.2222    1.8775  1.1836  0.2379  -1.4783   5.9227\n",
       "------------------------------------------------------------------\n",
       "Omnibus:               8.438        Durbin-Watson:           1.694\n",
       "Prob(Omnibus):         0.015        Jarque-Bera (JB):        8.475\n",
       "Skew:                  0.477        Prob(JB):                0.014\n",
       "Kurtosis:              3.120        Condition No.:           5    \n",
       "==================================================================\n",
       "\n",
       "\"\"\""
      ]
     },
     "execution_count": 25,
     "metadata": {},
     "output_type": "execute_result"
    }
   ],
   "source": [
    "finalfit3 = smf.ols('lungCAvalue ~ svi_ptile + transit_ptile', data = df).fit()\n",
    "finalfit3.summary2()"
   ]
  },
  {
   "cell_type": "code",
   "execution_count": 26,
   "id": "a3b1995d-266c-4603-b61c-631caf46613b",
   "metadata": {},
   "outputs": [
    {
     "data": {
      "text/html": [
       "<table class=\"simpletable\">\n",
       "<tr>\n",
       "        <td>Model:</td>               <td>OLS</td>         <td>Adj. R-squared:</td>     <td>0.104</td> \n",
       "</tr>\n",
       "<tr>\n",
       "  <td>Dependent Variable:</td>     <td>LBWvalue</td>            <td>AIC:</td>          <td>83.0132</td>\n",
       "</tr>\n",
       "<tr>\n",
       "         <td>Date:</td>        <td>2022-05-15 11:19</td>        <td>BIC:</td>          <td>93.1941</td>\n",
       "</tr>\n",
       "<tr>\n",
       "   <td>No. Observations:</td>         <td>220</td>         <td>Log-Likelihood:</td>    <td>-38.507</td>\n",
       "</tr>\n",
       "<tr>\n",
       "       <td>Df Model:</td>              <td>2</td>           <td>F-statistic:</td>       <td>13.73</td> \n",
       "</tr>\n",
       "<tr>\n",
       "     <td>Df Residuals:</td>           <td>217</td>       <td>Prob (F-statistic):</td> <td>2.42e-06</td>\n",
       "</tr>\n",
       "<tr>\n",
       "      <td>R-squared:</td>            <td>0.112</td>            <td>Scale:</td>        <td>0.084240</td>\n",
       "</tr>\n",
       "</table>\n",
       "<table class=\"simpletable\">\n",
       "<tr>\n",
       "        <td></td>         <th>Coef.</th> <th>Std.Err.</th>    <th>t</th>    <th>P>|t|</th> <th>[0.025</th>  <th>0.975]</th>\n",
       "</tr>\n",
       "<tr>\n",
       "  <th>Intercept</th>     <td>0.4243</td>  <td>0.0454</td>  <td>9.3397</td> <td>0.0000</td> <td>0.3347</td>  <td>0.5138</td>\n",
       "</tr>\n",
       "<tr>\n",
       "  <th>svi_ptile</th>     <td>0.3018</td>  <td>0.0725</td>  <td>4.1606</td> <td>0.0000</td> <td>0.1588</td>  <td>0.4447</td>\n",
       "</tr>\n",
       "<tr>\n",
       "  <th>transit_ptile</th> <td>0.1113</td>  <td>0.0699</td>  <td>1.5917</td> <td>0.1129</td> <td>-0.0265</td> <td>0.2491</td>\n",
       "</tr>\n",
       "</table>\n",
       "<table class=\"simpletable\">\n",
       "<tr>\n",
       "     <td>Omnibus:</td>    <td>19.037</td>  <td>Durbin-Watson:</td>    <td>1.890</td>\n",
       "</tr>\n",
       "<tr>\n",
       "  <td>Prob(Omnibus):</td>  <td>0.000</td> <td>Jarque-Bera (JB):</td> <td>17.230</td>\n",
       "</tr>\n",
       "<tr>\n",
       "       <td>Skew:</td>     <td>-0.612</td>     <td>Prob(JB):</td>      <td>0.000</td>\n",
       "</tr>\n",
       "<tr>\n",
       "     <td>Kurtosis:</td>    <td>2.384</td>  <td>Condition No.:</td>      <td>5</td>  \n",
       "</tr>\n",
       "</table>"
      ],
      "text/plain": [
       "<class 'statsmodels.iolib.summary2.Summary'>\n",
       "\"\"\"\n",
       "                 Results: Ordinary least squares\n",
       "=================================================================\n",
       "Model:              OLS              Adj. R-squared:     0.104   \n",
       "Dependent Variable: LBWvalue         AIC:                83.0132 \n",
       "Date:               2022-05-15 11:19 BIC:                93.1941 \n",
       "No. Observations:   220              Log-Likelihood:     -38.507 \n",
       "Df Model:           2                F-statistic:        13.73   \n",
       "Df Residuals:       217              Prob (F-statistic): 2.42e-06\n",
       "R-squared:          0.112            Scale:              0.084240\n",
       "------------------------------------------------------------------\n",
       "                 Coef.   Std.Err.    t     P>|t|    [0.025  0.975]\n",
       "------------------------------------------------------------------\n",
       "Intercept        0.4243    0.0454  9.3397  0.0000   0.3347  0.5138\n",
       "svi_ptile        0.3018    0.0725  4.1606  0.0000   0.1588  0.4447\n",
       "transit_ptile    0.1113    0.0699  1.5917  0.1129  -0.0265  0.2491\n",
       "-----------------------------------------------------------------\n",
       "Omnibus:              19.037       Durbin-Watson:          1.890 \n",
       "Prob(Omnibus):        0.000        Jarque-Bera (JB):       17.230\n",
       "Skew:                 -0.612       Prob(JB):               0.000 \n",
       "Kurtosis:             2.384        Condition No.:          5     \n",
       "=================================================================\n",
       "\n",
       "\"\"\""
      ]
     },
     "execution_count": 26,
     "metadata": {},
     "output_type": "execute_result"
    }
   ],
   "source": [
    "finalfit4 = smf.ols('LBWvalue ~ svi_ptile + transit_ptile', data = df).fit()\n",
    "finalfit4.summary2()"
   ]
  },
  {
   "cell_type": "markdown",
   "id": "1e44b6aa-2ebf-4a10-b38a-bc152ea176fb",
   "metadata": {},
   "source": [
    "In conclusion, we used linear regression model 1 for all 4 health outcomes, but it was only a good predictor for asthma values. In addition, LR model 1 showed the smallest error/loss for asthma. After comparing r^2 values for other health outcomes of model 1 and 2, "
   ]
  }
 ],
 "metadata": {
  "kernelspec": {
   "display_name": "Python 3 (ipykernel)",
   "language": "python",
   "name": "python3"
  },
  "language_info": {
   "codemirror_mode": {
    "name": "ipython",
    "version": 3
   },
   "file_extension": ".py",
   "mimetype": "text/x-python",
   "name": "python",
   "nbconvert_exporter": "python",
   "pygments_lexer": "ipython3",
   "version": "3.9.7"
  }
 },
 "nbformat": 4,
 "nbformat_minor": 5
}
