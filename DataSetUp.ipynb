{
 "cells": [
  {
   "cell_type": "code",
   "execution_count": null,
   "id": "502b2a95-4d6c-49fe-b8d5-6e0d29e914b4",
   "metadata": {},
   "outputs": [],
   "source": [
    "# 2 versions of model: 1 where we have transit_ptile, 1 where we have No_of_stops and PTover45min_pct"
   ]
  },
  {
   "cell_type": "code",
   "execution_count": 87,
   "id": "1722c89a-2aa8-4f30-be66-699834e0833b",
   "metadata": {},
   "outputs": [],
   "source": [
    "import pandas as pd\n",
    "import numpy as np\n",
    "import matplotlib.pyplot as plt\n",
    "import seaborn as sns\n",
    "from scipy import stats as st\n",
    "sns.set()\n",
    "from sklearn.metrics import accuracy_score, roc_curve, auc\n",
    "import sklearn\n",
    "from sklearn import linear_model\n",
    "import sklearn.linear_model as lm\n",
    "from sklearn.linear_model import LinearRegression\n",
    "import seaborn as sns\n",
    "import sklearn as skl\n",
    "import statsmodels.formula.api as smf\n",
    "sns.set()"
   ]
  },
  {
   "cell_type": "code",
   "execution_count": 46,
   "id": "928c59c8-8148-47fe-90b6-4c78bc8062d9",
   "metadata": {},
   "outputs": [
    {
     "data": {
      "text/html": [
       "<div>\n",
       "<style scoped>\n",
       "    .dataframe tbody tr th:only-of-type {\n",
       "        vertical-align: middle;\n",
       "    }\n",
       "\n",
       "    .dataframe tbody tr th {\n",
       "        vertical-align: top;\n",
       "    }\n",
       "\n",
       "    .dataframe thead th {\n",
       "        text-align: right;\n",
       "    }\n",
       "</style>\n",
       "<table border=\"1\" class=\"dataframe\">\n",
       "  <thead>\n",
       "    <tr style=\"text-align: right;\">\n",
       "      <th></th>\n",
       "      <th>ct</th>\n",
       "      <th>svi_ptile</th>\n",
       "      <th>transit_ptile</th>\n",
       "      <th>asthmavalue</th>\n",
       "      <th>PTRAF_bycensus</th>\n",
       "      <th>No_of_Stops</th>\n",
       "      <th>PTover45m_pct</th>\n",
       "      <th>lungCAvalue</th>\n",
       "      <th>CADvalue</th>\n",
       "      <th>LBWvalue</th>\n",
       "    </tr>\n",
       "  </thead>\n",
       "  <tbody>\n",
       "    <tr>\n",
       "      <th>0</th>\n",
       "      <td>24510010100</td>\n",
       "      <td>0.045690</td>\n",
       "      <td>0.029276</td>\n",
       "      <td>0.087</td>\n",
       "      <td>685.684371</td>\n",
       "      <td>10</td>\n",
       "      <td>24.51</td>\n",
       "      <td>13</td>\n",
       "      <td>0.472</td>\n",
       "      <td>0.131</td>\n",
       "    </tr>\n",
       "    <tr>\n",
       "      <th>3</th>\n",
       "      <td>24510010200</td>\n",
       "      <td>0.015230</td>\n",
       "      <td>0.124807</td>\n",
       "      <td>0.082</td>\n",
       "      <td>686.778083</td>\n",
       "      <td>8</td>\n",
       "      <td>54.24</td>\n",
       "      <td>6</td>\n",
       "      <td>0.443</td>\n",
       "      <td>0.462</td>\n",
       "    </tr>\n",
       "    <tr>\n",
       "      <th>7</th>\n",
       "      <td>24510010300</td>\n",
       "      <td>0.005076</td>\n",
       "      <td>0.036980</td>\n",
       "      <td>0.082</td>\n",
       "      <td>1074.000000</td>\n",
       "      <td>6</td>\n",
       "      <td>15.38</td>\n",
       "      <td>1</td>\n",
       "      <td>0.313</td>\n",
       "      <td>0.106</td>\n",
       "    </tr>\n",
       "    <tr>\n",
       "      <th>9</th>\n",
       "      <td>24510010400</td>\n",
       "      <td>0.076140</td>\n",
       "      <td>0.033898</td>\n",
       "      <td>0.081</td>\n",
       "      <td>1072.952243</td>\n",
       "      <td>15</td>\n",
       "      <td>57.58</td>\n",
       "      <td>7</td>\n",
       "      <td>0.587</td>\n",
       "      <td>0.127</td>\n",
       "    </tr>\n",
       "    <tr>\n",
       "      <th>11</th>\n",
       "      <td>24510010500</td>\n",
       "      <td>0.081220</td>\n",
       "      <td>0.101695</td>\n",
       "      <td>0.083</td>\n",
       "      <td>1487.000000</td>\n",
       "      <td>2</td>\n",
       "      <td>50.77</td>\n",
       "      <td>1</td>\n",
       "      <td>0.384</td>\n",
       "      <td>0.176</td>\n",
       "    </tr>\n",
       "    <tr>\n",
       "      <th>...</th>\n",
       "      <td>...</td>\n",
       "      <td>...</td>\n",
       "      <td>...</td>\n",
       "      <td>...</td>\n",
       "      <td>...</td>\n",
       "      <td>...</td>\n",
       "      <td>...</td>\n",
       "      <td>...</td>\n",
       "      <td>...</td>\n",
       "      <td>...</td>\n",
       "    </tr>\n",
       "    <tr>\n",
       "      <th>635</th>\n",
       "      <td>24510280401</td>\n",
       "      <td>0.208100</td>\n",
       "      <td>0.805855</td>\n",
       "      <td>0.114</td>\n",
       "      <td>1104.810421</td>\n",
       "      <td>8</td>\n",
       "      <td>100.00</td>\n",
       "      <td>19</td>\n",
       "      <td>0.386</td>\n",
       "      <td>0.536</td>\n",
       "    </tr>\n",
       "    <tr>\n",
       "      <th>640</th>\n",
       "      <td>24510280402</td>\n",
       "      <td>0.360400</td>\n",
       "      <td>0.998459</td>\n",
       "      <td>0.119</td>\n",
       "      <td>731.266859</td>\n",
       "      <td>1</td>\n",
       "      <td>73.56</td>\n",
       "      <td>1</td>\n",
       "      <td>0.083</td>\n",
       "      <td>0.825</td>\n",
       "    </tr>\n",
       "    <tr>\n",
       "      <th>642</th>\n",
       "      <td>24510280403</td>\n",
       "      <td>0.213200</td>\n",
       "      <td>0.257319</td>\n",
       "      <td>0.114</td>\n",
       "      <td>649.600265</td>\n",
       "      <td>20</td>\n",
       "      <td>52.26</td>\n",
       "      <td>17</td>\n",
       "      <td>0.590</td>\n",
       "      <td>0.830</td>\n",
       "    </tr>\n",
       "    <tr>\n",
       "      <th>647</th>\n",
       "      <td>24510280404</td>\n",
       "      <td>0.832500</td>\n",
       "      <td>0.445300</td>\n",
       "      <td>0.124</td>\n",
       "      <td>1527.100404</td>\n",
       "      <td>10</td>\n",
       "      <td>52.66</td>\n",
       "      <td>12</td>\n",
       "      <td>0.321</td>\n",
       "      <td>0.853</td>\n",
       "    </tr>\n",
       "    <tr>\n",
       "      <th>649</th>\n",
       "      <td>24510280500</td>\n",
       "      <td>0.979700</td>\n",
       "      <td>0.231125</td>\n",
       "      <td>0.136</td>\n",
       "      <td>3385.685542</td>\n",
       "      <td>25</td>\n",
       "      <td>65.99</td>\n",
       "      <td>24</td>\n",
       "      <td>0.710</td>\n",
       "      <td>0.375</td>\n",
       "    </tr>\n",
       "  </tbody>\n",
       "</table>\n",
       "<p>220 rows × 10 columns</p>\n",
       "</div>"
      ],
      "text/plain": [
       "              ct  svi_ptile  transit_ptile  asthmavalue  PTRAF_bycensus  \\\n",
       "0    24510010100   0.045690       0.029276        0.087      685.684371   \n",
       "3    24510010200   0.015230       0.124807        0.082      686.778083   \n",
       "7    24510010300   0.005076       0.036980        0.082     1074.000000   \n",
       "9    24510010400   0.076140       0.033898        0.081     1072.952243   \n",
       "11   24510010500   0.081220       0.101695        0.083     1487.000000   \n",
       "..           ...        ...            ...          ...             ...   \n",
       "635  24510280401   0.208100       0.805855        0.114     1104.810421   \n",
       "640  24510280402   0.360400       0.998459        0.119      731.266859   \n",
       "642  24510280403   0.213200       0.257319        0.114      649.600265   \n",
       "647  24510280404   0.832500       0.445300        0.124     1527.100404   \n",
       "649  24510280500   0.979700       0.231125        0.136     3385.685542   \n",
       "\n",
       "     No_of_Stops  PTover45m_pct  lungCAvalue  CADvalue  LBWvalue  \n",
       "0             10          24.51           13     0.472     0.131  \n",
       "3              8          54.24            6     0.443     0.462  \n",
       "7              6          15.38            1     0.313     0.106  \n",
       "9             15          57.58            7     0.587     0.127  \n",
       "11             2          50.77            1     0.384     0.176  \n",
       "..           ...            ...          ...       ...       ...  \n",
       "635            8         100.00           19     0.386     0.536  \n",
       "640            1          73.56            1     0.083     0.825  \n",
       "642           20          52.26           17     0.590     0.830  \n",
       "647           10          52.66           12     0.321     0.853  \n",
       "649           25          65.99           24     0.710     0.375  \n",
       "\n",
       "[220 rows x 10 columns]"
      ]
     },
     "execution_count": 46,
     "metadata": {},
     "output_type": "execute_result"
    }
   ],
   "source": [
    "df = pd.read_csv(\"https://raw.githubusercontent.com/nfriedb1/DS4PH-Capstone-Neta-Xiang/main/DSPH_Capstone_Data.csv\")\n",
    "df = df.drop(df.loc[:, 'Unnamed: 12':'Unnamed: 23'].columns, axis = 1)\n",
    "df = df.drop([\"GEOID\", \"PTRAF\"], axis = 1)\n",
    "df = df.drop_duplicates(subset=None, keep='first', inplace=False, ignore_index=False)\n",
    "df = df.drop(labels=[120, 403, 575], axis=0) #deleted rows with NA \n",
    "df"
   ]
  },
  {
   "cell_type": "code",
   "execution_count": 88,
   "id": "73c48e3f-3177-49a0-9d8b-991ac5a6c27d",
   "metadata": {},
   "outputs": [],
   "source": [
    "## MODEL 1 ## \n",
    "# excludes No_of_Stops, PTover45m_pct\n",
    "# variables: svi_ptile , transit_ptile , PTRAF_bycensus"
   ]
  },
  {
   "cell_type": "code",
   "execution_count": 89,
   "id": "4856276a-ef63-4ebb-a0c5-465b07c3c9fe",
   "metadata": {},
   "outputs": [
    {
     "data": {
      "text/plain": [
       "[0.08819197913089867,\n",
       " array([ 4.84609339e-02,  7.47132629e-03, -9.52324789e-07])]"
      ]
     },
     "execution_count": 89,
     "metadata": {},
     "output_type": "execute_result"
    }
   ],
   "source": [
    "y = df['asthmavalue']\n",
    "x_model1 = df.drop(['ct', 'asthmavalue', 'lungCAvalue', 'CADvalue', 'LBWvalue', 'No_of_Stops', 'PTover45m_pct'], axis=1)\n",
    "fit1 = LinearRegression().fit(x_model1, y)\n",
    "yhat = fit1.predict(x_model1)\n",
    "[fit1.intercept_,fit1.coef_]"
   ]
  },
  {
   "cell_type": "code",
   "execution_count": 90,
   "id": "14c781d2-ea77-479b-830a-79b783177614",
   "metadata": {},
   "outputs": [
    {
     "data": {
      "text/html": [
       "<div>\n",
       "<style scoped>\n",
       "    .dataframe tbody tr th:only-of-type {\n",
       "        vertical-align: middle;\n",
       "    }\n",
       "\n",
       "    .dataframe tbody tr th {\n",
       "        vertical-align: top;\n",
       "    }\n",
       "\n",
       "    .dataframe thead th {\n",
       "        text-align: right;\n",
       "    }\n",
       "</style>\n",
       "<table border=\"1\" class=\"dataframe\">\n",
       "  <thead>\n",
       "    <tr style=\"text-align: right;\">\n",
       "      <th></th>\n",
       "      <th>svi_ptile</th>\n",
       "      <th>transit_ptile</th>\n",
       "      <th>PTRAF_bycensus</th>\n",
       "    </tr>\n",
       "  </thead>\n",
       "  <tbody>\n",
       "    <tr>\n",
       "      <th>0</th>\n",
       "      <td>0.045690</td>\n",
       "      <td>0.029276</td>\n",
       "      <td>685.684371</td>\n",
       "    </tr>\n",
       "    <tr>\n",
       "      <th>3</th>\n",
       "      <td>0.015230</td>\n",
       "      <td>0.124807</td>\n",
       "      <td>686.778083</td>\n",
       "    </tr>\n",
       "    <tr>\n",
       "      <th>7</th>\n",
       "      <td>0.005076</td>\n",
       "      <td>0.036980</td>\n",
       "      <td>1074.000000</td>\n",
       "    </tr>\n",
       "    <tr>\n",
       "      <th>9</th>\n",
       "      <td>0.076140</td>\n",
       "      <td>0.033898</td>\n",
       "      <td>1072.952243</td>\n",
       "    </tr>\n",
       "    <tr>\n",
       "      <th>11</th>\n",
       "      <td>0.081220</td>\n",
       "      <td>0.101695</td>\n",
       "      <td>1487.000000</td>\n",
       "    </tr>\n",
       "    <tr>\n",
       "      <th>...</th>\n",
       "      <td>...</td>\n",
       "      <td>...</td>\n",
       "      <td>...</td>\n",
       "    </tr>\n",
       "    <tr>\n",
       "      <th>635</th>\n",
       "      <td>0.208100</td>\n",
       "      <td>0.805855</td>\n",
       "      <td>1104.810421</td>\n",
       "    </tr>\n",
       "    <tr>\n",
       "      <th>640</th>\n",
       "      <td>0.360400</td>\n",
       "      <td>0.998459</td>\n",
       "      <td>731.266859</td>\n",
       "    </tr>\n",
       "    <tr>\n",
       "      <th>642</th>\n",
       "      <td>0.213200</td>\n",
       "      <td>0.257319</td>\n",
       "      <td>649.600265</td>\n",
       "    </tr>\n",
       "    <tr>\n",
       "      <th>647</th>\n",
       "      <td>0.832500</td>\n",
       "      <td>0.445300</td>\n",
       "      <td>1527.100404</td>\n",
       "    </tr>\n",
       "    <tr>\n",
       "      <th>649</th>\n",
       "      <td>0.979700</td>\n",
       "      <td>0.231125</td>\n",
       "      <td>3385.685542</td>\n",
       "    </tr>\n",
       "  </tbody>\n",
       "</table>\n",
       "<p>220 rows × 3 columns</p>\n",
       "</div>"
      ],
      "text/plain": [
       "     svi_ptile  transit_ptile  PTRAF_bycensus\n",
       "0     0.045690       0.029276      685.684371\n",
       "3     0.015230       0.124807      686.778083\n",
       "7     0.005076       0.036980     1074.000000\n",
       "9     0.076140       0.033898     1072.952243\n",
       "11    0.081220       0.101695     1487.000000\n",
       "..         ...            ...             ...\n",
       "635   0.208100       0.805855     1104.810421\n",
       "640   0.360400       0.998459      731.266859\n",
       "642   0.213200       0.257319      649.600265\n",
       "647   0.832500       0.445300     1527.100404\n",
       "649   0.979700       0.231125     3385.685542\n",
       "\n",
       "[220 rows x 3 columns]"
      ]
     },
     "execution_count": 90,
     "metadata": {},
     "output_type": "execute_result"
    }
   ],
   "source": [
    "x_model1"
   ]
  },
  {
   "cell_type": "code",
   "execution_count": 120,
   "id": "4ac352f6-737e-4e65-a6d6-1c11358ba28f",
   "metadata": {},
   "outputs": [
    {
     "name": "stdout",
     "output_type": "stream",
     "text": [
      "0.0505568934981832 -1.4385469453733321e-06 -9.843720023020165e-05\n"
     ]
    }
   ],
   "source": [
    "b1 = fit1.coef_[0]\n",
    "b2 = fit1.coef_[1]\n",
    "b3 = fit1.coef_[2]\n",
    "intercept = fit1.intercept_\n",
    "print(b1, b2, b3)"
   ]
  },
  {
   "cell_type": "code",
   "execution_count": 119,
   "id": "4c2af8c8-37e9-4128-b2a1-ed0b6922db56",
   "metadata": {},
   "outputs": [
    {
     "data": {
      "text/plain": [
       "[<matplotlib.lines.Line2D at 0x7ff469cfc700>]"
      ]
     },
     "execution_count": 119,
     "metadata": {},
     "output_type": "execute_result"
    },
    {
     "data": {
      "image/png": "[encoded data removed]",
      "text/plain": [
       "<Figure size 432x288 with 1 Axes>"
      ]
     },
     "metadata": {},
     "output_type": "display_data"
    }
   ],
   "source": [
    "plt.plot(df['PTRAF_bycensus'], df['svi_ptile'], 'o')"
   ]
  },
  {
   "cell_type": "code",
   "execution_count": 109,
   "id": "7c8b16a4-c07c-408a-ae7b-01c51954da3b",
   "metadata": {},
   "outputs": [
    {
     "name": "stdout",
     "output_type": "stream",
     "text": [
      "                  Results: Ordinary least squares\n",
      "===================================================================\n",
      "Model:              OLS              Adj. R-squared:     0.721     \n",
      "Dependent Variable: asthmavalue      AIC:                -1429.4716\n",
      "Date:               2022-05-06 15:16 BIC:                -1415.8971\n",
      "No. Observations:   220              Log-Likelihood:     718.74    \n",
      "Df Model:           3                F-statistic:        189.7     \n",
      "Df Residuals:       216              Prob (F-statistic): 2.92e-60  \n",
      "R-squared:          0.725            Scale:              8.6662e-05\n",
      "--------------------------------------------------------------------\n",
      "                  Coef.   Std.Err.     t     P>|t|    [0.025  0.975]\n",
      "--------------------------------------------------------------------\n",
      "Intercept         0.0882    0.0019  46.4092  0.0000   0.0844  0.0919\n",
      "svi_ptile         0.0485    0.0023  20.7433  0.0000   0.0439  0.0531\n",
      "transit_ptile     0.0075    0.0025   3.0300  0.0027   0.0026  0.0123\n",
      "PTRAF_bycensus   -0.0000    0.0000  -1.6704  0.0963  -0.0000  0.0000\n",
      "-------------------------------------------------------------------\n",
      "Omnibus:               0.774         Durbin-Watson:           1.274\n",
      "Prob(Omnibus):         0.679         Jarque-Bera (JB):        0.897\n",
      "Skew:                  -0.107        Prob(JB):                0.638\n",
      "Kurtosis:              2.772         Condition No.:           8640 \n",
      "===================================================================\n",
      "* The condition number is large (9e+03). This might indicate\n",
      "strong multicollinearity or other numerical problems.\n"
     ]
    }
   ],
   "source": [
    "results_model1 = smf.ols('asthmavalue ~ svi_ptile + transit_ptile + PTRAF_bycensus', data = df).fit()\n",
    "print(results_model1.summary2())"
   ]
  },
  {
   "cell_type": "code",
   "execution_count": null,
   "id": "e5eca742-34bf-41b0-a2be-7f965451328c",
   "metadata": {},
   "outputs": [],
   "source": [
    "def getRow(ct):\n",
    "    row = df.loc[ct]\n",
    "    return row\n",
    "\n",
    "def getOutcome(row):\n",
    "    # get inputs from df depending on ct\n",
    "    X1 = \n",
    "    X2 = \n",
    "    X3 = \n",
    "    y_output = intercept + b1(X1) + b2(X2) + b3(X3)\n",
    "    return y_output"
   ]
  },
  {
   "cell_type": "code",
   "execution_count": 86,
   "id": "a9499f99-428f-4e1a-9819-5a57572e099c",
   "metadata": {},
   "outputs": [
    {
     "name": "stdout",
     "output_type": "stream",
     "text": [
      "                  Results: Ordinary least squares\n",
      "===================================================================\n",
      "Model:              OLS              Adj. R-squared:     0.719     \n",
      "Dependent Variable: asthmavalue      AIC:                -1428.6480\n",
      "Date:               2022-05-06 14:35 BIC:                -1418.4671\n",
      "No. Observations:   220              Log-Likelihood:     717.32    \n",
      "Df Model:           2                F-statistic:        280.9     \n",
      "Df Residuals:       217              Prob (F-statistic): 6.15e-61  \n",
      "R-squared:          0.721            Scale:              8.7377e-05\n",
      "--------------------------------------------------------------------\n",
      "                   Coef.   Std.Err.     t     P>|t|   [0.025  0.975]\n",
      "--------------------------------------------------------------------\n",
      "Intercept          0.0862    0.0015  58.8876  0.0000  0.0833  0.0890\n",
      "svi_ptile          0.0481    0.0023  20.5925  0.0000  0.0435  0.0527\n",
      "transit_ptile      0.0092    0.0023   4.0796  0.0001  0.0047  0.0136\n",
      "-------------------------------------------------------------------\n",
      "Omnibus:               0.667         Durbin-Watson:           1.259\n",
      "Prob(Omnibus):         0.716         Jarque-Bera (JB):        0.796\n",
      "Skew:                  -0.091        Prob(JB):                0.672\n",
      "Kurtosis:              2.768         Condition No.:           5    \n",
      "===================================================================\n",
      "\n"
     ]
    },
    {
     "data": {
      "text/plain": [
       "[0.08615421688143492, array([0.04810285, 0.00918508])]"
      ]
     },
     "execution_count": 86,
     "metadata": {},
     "output_type": "execute_result"
    }
   ],
   "source": [
    "x_model_test_collinearity = df.drop(['ct', 'asthmavalue', 'lungCAvalue', 'CADvalue', 'LBWvalue', 'No_of_Stops', 'PTover45m_pct', 'PTRAF_bycensus'], axis=1)\n",
    "fit_testcoll = LinearRegression().fit(x_model_test_collinearity, y)\n",
    "yhat_testcoll = fit_testcoll.predict(x_model_test_collinearity)\n",
    "\n",
    "results_testcoll = smf.ols('asthmavalue ~ svi_ptile + transit_ptile', data = df).fit()\n",
    "print(results_testcoll.summary2())\n",
    "[fit_testcoll.intercept_,fit_testcoll.coef_]"
   ]
  },
  {
   "cell_type": "code",
   "execution_count": null,
   "id": "50558cc9-d9ce-4983-9b8a-d5baab5583c5",
   "metadata": {},
   "outputs": [],
   "source": [
    "## MODEL 2 ## \n",
    "# Excludes transit_ptile\n",
    "# variables: "
   ]
  },
  {
   "cell_type": "code",
   "execution_count": 100,
   "id": "b01f7fac-919b-44af-8f93-13b40c576a07",
   "metadata": {},
   "outputs": [
    {
     "data": {
      "text/plain": [
       "[0.08957361172499091,\n",
       " array([ 5.05568935e-02, -1.43854695e-06, -9.84372002e-05,  6.15321917e-05])]"
      ]
     },
     "execution_count": 100,
     "metadata": {},
     "output_type": "execute_result"
    }
   ],
   "source": [
    "y = df['asthmavalue']\n",
    "x_model2 = df.drop(['ct', 'asthmavalue', 'lungCAvalue', 'CADvalue', 'LBWvalue', 'transit_ptile'], axis=1)\n",
    "fit2 = LinearRegression().fit(x_model2, y)\n",
    "yhat = fit2.predict(x_model2)\n",
    "[fit2.intercept_,fit2.coef_]"
   ]
  },
  {
   "cell_type": "code",
   "execution_count": 101,
   "id": "876cde60-2c90-4c6f-8b96-3959f2350e90",
   "metadata": {},
   "outputs": [
    {
     "data": {
      "text/html": [
       "<div>\n",
       "<style scoped>\n",
       "    .dataframe tbody tr th:only-of-type {\n",
       "        vertical-align: middle;\n",
       "    }\n",
       "\n",
       "    .dataframe tbody tr th {\n",
       "        vertical-align: top;\n",
       "    }\n",
       "\n",
       "    .dataframe thead th {\n",
       "        text-align: right;\n",
       "    }\n",
       "</style>\n",
       "<table border=\"1\" class=\"dataframe\">\n",
       "  <thead>\n",
       "    <tr style=\"text-align: right;\">\n",
       "      <th></th>\n",
       "      <th>svi_ptile</th>\n",
       "      <th>PTRAF_bycensus</th>\n",
       "      <th>No_of_Stops</th>\n",
       "      <th>PTover45m_pct</th>\n",
       "    </tr>\n",
       "  </thead>\n",
       "  <tbody>\n",
       "    <tr>\n",
       "      <th>0</th>\n",
       "      <td>0.045690</td>\n",
       "      <td>685.684371</td>\n",
       "      <td>10</td>\n",
       "      <td>24.51</td>\n",
       "    </tr>\n",
       "    <tr>\n",
       "      <th>3</th>\n",
       "      <td>0.015230</td>\n",
       "      <td>686.778083</td>\n",
       "      <td>8</td>\n",
       "      <td>54.24</td>\n",
       "    </tr>\n",
       "    <tr>\n",
       "      <th>7</th>\n",
       "      <td>0.005076</td>\n",
       "      <td>1074.000000</td>\n",
       "      <td>6</td>\n",
       "      <td>15.38</td>\n",
       "    </tr>\n",
       "    <tr>\n",
       "      <th>9</th>\n",
       "      <td>0.076140</td>\n",
       "      <td>1072.952243</td>\n",
       "      <td>15</td>\n",
       "      <td>57.58</td>\n",
       "    </tr>\n",
       "    <tr>\n",
       "      <th>11</th>\n",
       "      <td>0.081220</td>\n",
       "      <td>1487.000000</td>\n",
       "      <td>2</td>\n",
       "      <td>50.77</td>\n",
       "    </tr>\n",
       "    <tr>\n",
       "      <th>...</th>\n",
       "      <td>...</td>\n",
       "      <td>...</td>\n",
       "      <td>...</td>\n",
       "      <td>...</td>\n",
       "    </tr>\n",
       "    <tr>\n",
       "      <th>635</th>\n",
       "      <td>0.208100</td>\n",
       "      <td>1104.810421</td>\n",
       "      <td>8</td>\n",
       "      <td>100.00</td>\n",
       "    </tr>\n",
       "    <tr>\n",
       "      <th>640</th>\n",
       "      <td>0.360400</td>\n",
       "      <td>731.266859</td>\n",
       "      <td>1</td>\n",
       "      <td>73.56</td>\n",
       "    </tr>\n",
       "    <tr>\n",
       "      <th>642</th>\n",
       "      <td>0.213200</td>\n",
       "      <td>649.600265</td>\n",
       "      <td>20</td>\n",
       "      <td>52.26</td>\n",
       "    </tr>\n",
       "    <tr>\n",
       "      <th>647</th>\n",
       "      <td>0.832500</td>\n",
       "      <td>1527.100404</td>\n",
       "      <td>10</td>\n",
       "      <td>52.66</td>\n",
       "    </tr>\n",
       "    <tr>\n",
       "      <th>649</th>\n",
       "      <td>0.979700</td>\n",
       "      <td>3385.685542</td>\n",
       "      <td>25</td>\n",
       "      <td>65.99</td>\n",
       "    </tr>\n",
       "  </tbody>\n",
       "</table>\n",
       "<p>220 rows × 4 columns</p>\n",
       "</div>"
      ],
      "text/plain": [
       "     svi_ptile  PTRAF_bycensus  No_of_Stops  PTover45m_pct\n",
       "0     0.045690      685.684371           10          24.51\n",
       "3     0.015230      686.778083            8          54.24\n",
       "7     0.005076     1074.000000            6          15.38\n",
       "9     0.076140     1072.952243           15          57.58\n",
       "11    0.081220     1487.000000            2          50.77\n",
       "..         ...             ...          ...            ...\n",
       "635   0.208100     1104.810421            8         100.00\n",
       "640   0.360400      731.266859            1          73.56\n",
       "642   0.213200      649.600265           20          52.26\n",
       "647   0.832500     1527.100404           10          52.66\n",
       "649   0.979700     3385.685542           25          65.99\n",
       "\n",
       "[220 rows x 4 columns]"
      ]
     },
     "execution_count": 101,
     "metadata": {},
     "output_type": "execute_result"
    }
   ],
   "source": [
    "x_model2"
   ]
  },
  {
   "cell_type": "code",
   "execution_count": 105,
   "id": "5b8e78c3-24fc-4a24-a313-f53b23e249ed",
   "metadata": {},
   "outputs": [
    {
     "name": "stdout",
     "output_type": "stream",
     "text": [
      "0.0505568934981832 -1.4385469453733321e-06 -9.843720023020165e-05 6.153219169474933e-05\n"
     ]
    }
   ],
   "source": [
    "b1_model2 = fit2.coef_[0]\n",
    "b2_model2 = fit2.coef_[1]\n",
    "b3_model2 = fit2.coef_[2]\n",
    "b4_model2 = fit2.coef_[3]\n",
    "print(b1_model2, b2_model2, b3_model2, b4_model2)"
   ]
  },
  {
   "cell_type": "code",
   "execution_count": 108,
   "id": "8d97a940-bbfb-4504-bcbf-12acb2d10ade",
   "metadata": {},
   "outputs": [
    {
     "name": "stdout",
     "output_type": "stream",
     "text": [
      "                  Results: Ordinary least squares\n",
      "===================================================================\n",
      "Model:              OLS              Adj. R-squared:     0.716     \n",
      "Dependent Variable: asthmavalue      AIC:                -1424.6504\n",
      "Date:               2022-05-06 14:53 BIC:                -1407.6822\n",
      "No. Observations:   220              Log-Likelihood:     717.33    \n",
      "Df Model:           4                F-statistic:        139.1     \n",
      "Df Residuals:       215              Prob (F-statistic): 1.73e-58  \n",
      "R-squared:          0.721            Scale:              8.8189e-05\n",
      "--------------------------------------------------------------------\n",
      "                 Coef.   Std.Err.     t     P>|t|    [0.025   0.975]\n",
      "--------------------------------------------------------------------\n",
      "Intercept        0.0896    0.0023  38.3127  0.0000   0.0850   0.0942\n",
      "svi_ptile        0.0506    0.0022  22.5892  0.0000   0.0461   0.0550\n",
      "PTRAF_bycensus  -0.0000    0.0000  -2.7071  0.0073  -0.0000  -0.0000\n",
      "No_of_Stops     -0.0001    0.0001  -1.4939  0.1367  -0.0002   0.0000\n",
      "PTover45m_pct    0.0001    0.0000   1.9958  0.0472   0.0000   0.0001\n",
      "-------------------------------------------------------------------\n",
      "Omnibus:               2.329         Durbin-Watson:           1.270\n",
      "Prob(Omnibus):         0.312         Jarque-Bera (JB):        1.908\n",
      "Skew:                  -0.088        Prob(JB):                0.385\n",
      "Kurtosis:              2.579         Condition No.:           8031 \n",
      "===================================================================\n",
      "* The condition number is large (8e+03). This might indicate\n",
      "strong multicollinearity or other numerical problems.\n"
     ]
    }
   ],
   "source": [
    "results_model2 = smf.ols('asthmavalue ~ svi_ptile + PTRAF_bycensus + No_of_Stops + PTover45m_pct', data = df).fit()\n",
    "print(results_model2.summary2())"
   ]
  },
  {
   "cell_type": "code",
   "execution_count": null,
   "id": "27653a72-6231-46b5-af94-66dcff2f50c8",
   "metadata": {},
   "outputs": [],
   "source": [
    "#For Xiang's memory/notes: \n",
    "\n",
    "#x1_svi_ptile\n",
    "#x2_transit_ptile\n",
    "#for i in df:\n",
    "    #if df['ct'][i] == df['ct'][i-1]:\n",
    "        #df.drop(df['ct'][i])"
   ]
  },
  {
   "cell_type": "code",
   "execution_count": null,
   "id": "56d39275-ca7f-4fc2-9c04-6ca261246e24",
   "metadata": {},
   "outputs": [],
   "source": []
  }
 ],
 "metadata": {
  "kernelspec": {
   "display_name": "Python 3 (ipykernel)",
   "language": "python",
   "name": "python3"
  },
  "language_info": {
   "codemirror_mode": {
    "name": "ipython",
    "version": 3
   },
   "file_extension": ".py",
   "mimetype": "text/x-python",
   "name": "python",
   "nbconvert_exporter": "python",
   "pygments_lexer": "ipython3",
   "version": "3.9.7"
  }
 },
 "nbformat": 4,
 "nbformat_minor": 5
}
