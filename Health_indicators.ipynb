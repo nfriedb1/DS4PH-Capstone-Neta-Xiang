{
 "cells": [
  {
   "cell_type": "code",
   "execution_count": null,
   "id": "bc7902e6-01a9-4903-a0f2-8c0057beb1fe",
   "metadata": {},
   "outputs": [],
   "source": [
    "# ASTHMA DESCRIPTION\n",
    "\n",
    "with column2:\n",
    "    st.title('What is Asthma?', anchor=None)\n",
    "    st.markdown(\"\"\" Asthma is a chronic (long-term) condition that affects the airways in the lungs. With asthma, airways are swollen and inflamed,  making it difficult to carry air in and out of the lungs. The most common risk factors for developing asthma are family history, viral respiratory infections during childhood, allergies, smoking, and air pollution. Asthma symptoms vary from person to person. **Common signs and symptoms include:**\n",
    "    \n",
    "- Shortness of breath\n",
    "    \n",
    "- Chest tightness or pain\n",
    "    \n",
    "- Wheezing\n",
    "    \n",
    "- Trouble sleeping due to shortness of breath, coughing or wheezing\n",
    "    \n",
    "Asthma can worsen when certain triggers are present. Asthma attacks have been linked to triggers such as pollen, exercise, viral infections, cold weather, dust, smoke, and pet dander. Asthma cannot be cured but symptoms can be controlled by medications, avoiding triggers, and lifestyle changes. \"\"\")"
   ]
  },
  {
   "cell_type": "code",
   "execution_count": null,
   "id": "1e9ce913-0bb9-4079-913d-8c22ee48bfcc",
   "metadata": {},
   "outputs": [],
   "source": [
    "# LUNG CANCER DESCRIPTION\n",
    "\n",
    "with column2:\n",
    "    st.title('What is Lung Cancer?', anchor=None)\n",
    "    st.markdown(\"\"\" Lung cancer is a cancer that forms in the tissues of the lung. Common risk factors for developing asthma include smoking, family history, radiation exposure, air pollution, and HIV infection.  **Some symptoms of lung cancer include:**\n",
    "\n",
    "- Chest pain or discomfort \n",
    "\n",
    "- Cough that doesn’t go away or gets worse over time \n",
    "\n",
    "- Trouble breathing \n",
    "\n",
    "- Wheezing \n",
    "\n",
    "- Trouble swallowing  \n",
    "\n",
    "- Swelling in face or veins in the neck  \n",
    "\n",
    "Treatment of lung cancer will depend on the type of lung cancer and how far it has spread. Common treatments include surgery, chemotherapy, immunotherapy and laser therapy. \"\"\")"
   ]
  },
  {
   "cell_type": "code",
   "execution_count": null,
   "id": "d21125c9-be67-4e2d-9abe-82033fc242aa",
   "metadata": {},
   "outputs": [],
   "source": [
    "# HEART DISEASE DESCRIPTION \n",
    "\n",
    "with column2:\n",
    "    st.title('What is Lung Cancer?', anchor=None)\n",
    "    st.markdown(\"\"\" "
   ]
  },
  {
   "cell_type": "code",
   "execution_count": null,
   "id": "4c226c62-64e8-4f3f-bc26-84ebe3ed1b7b",
   "metadata": {},
   "outputs": [],
   "source": [
    "st.dataframe(df) #(temporary)"
   ]
  }
 ],
 "metadata": {
  "kernelspec": {
   "display_name": "Python 3 (ipykernel)",
   "language": "python",
   "name": "python3"
  },
  "language_info": {
   "codemirror_mode": {
    "name": "ipython",
    "version": 3
   },
   "file_extension": ".py",
   "mimetype": "text/x-python",
   "name": "python",
   "nbconvert_exporter": "python",
   "pygments_lexer": "ipython3",
   "version": "3.9.7"
  }
 },
 "nbformat": 4,
 "nbformat_minor": 5
}
