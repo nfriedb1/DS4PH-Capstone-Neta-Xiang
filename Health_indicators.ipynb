{
 "cells": [
  {
   "cell_type": "code",
   "execution_count": null,
   "id": "bc7902e6-01a9-4903-a0f2-8c0057beb1fe",
   "metadata": {},
   "outputs": [],
   "source": [
    "# ASTHMA DESCRIPTION\n",
    "\n",
    "with column2:\n",
    "    st.title('What is Asthma?', anchor=None)\n",
    "    st.markdown(\"\"\" Asthma is a chronic (long-term) condition that affects the airways in the lungs. With asthma, airways are swollen and inflamed,  making it difficult to carry air in and out of the lungs. The most common risk factors for developing asthma are family history, viral respiratory infections during childhood, allergies, smoking, and air pollution. Asthma symptoms vary from person to person. **Common signs and symptoms include:**\n",
    "    \n",
    "- Shortness of breath\n",
    "    \n",
    "- Chest tightness or pain\n",
    "    \n",
    "- Wheezing\n",
    "    \n",
    "- Trouble sleeping due to shortness of breath, coughing or wheezing\n",
    "    \n",
    "Asthma can worsen when certain triggers are present. Asthma attacks have been linked to triggers such as pollen, exercise, viral infections, cold weather, dust, smoke, and pet dander. Asthma cannot be cured but symptoms can be controlled by medications, avoiding triggers, and lifestyle changes. \"\"\")"
   ]
  },
  {
   "cell_type": "code",
   "execution_count": null,
   "id": "1e9ce913-0bb9-4079-913d-8c22ee48bfcc",
   "metadata": {},
   "outputs": [],
   "source": [
    "# LUNG CANCER DESCRIPTION\n",
    "\n",
    "with column2:\n",
    "    st.title('What is Lung Cancer?', anchor=None)\n",
    "    st.markdown(\"\"\" Lung cancer is a cancer that forms in the tissues of the lung. Common risk factors for developing asthma include smoking, family history, radiation exposure, air pollution, and HIV infection.  **Some symptoms of lung cancer include:**\n",
    "\n",
    "- Chest pain or discomfort \n",
    "\n",
    "- Cough that doesn’t go away or gets worse over time \n",
    "\n",
    "- Trouble breathing \n",
    "\n",
    "- Wheezing \n",
    "\n",
    "- Trouble swallowing  \n",
    "\n",
    "- Swelling in face or veins in the neck  \n",
    "\n",
    "Treatment of lung cancer will depend on the type of lung cancer and how far it has spread. Common treatments include surgery, chemotherapy, immunotherapy and laser therapy. \"\"\")"
   ]
  },
  {
   "cell_type": "code",
   "execution_count": null,
   "id": "d21125c9-be67-4e2d-9abe-82033fc242aa",
   "metadata": {},
   "outputs": [],
   "source": [
    "# HEART DISEASE DESCRIPTION \n",
    "\n",
    "with column2:\n",
    "    st.title('What is Heart Disease?', anchor=None)\n",
    "    st.markdown(\"\"\" Heart disease is the leading cause of death in the U.S. The most common type of heart disease is coronary artery disease (CAD) which can lead to a heart attack. Risk factors for developing heart disease include diabetes, overweight and obesity, smoking, and environmental factors (air pollution, secondhand smoke).  **Symptoms of heart disease:**\n",
    "\n",
    "- Chest pain, chest tightness, chest pressure \n",
    "\n",
    "- Shortness of breath  \n",
    "\n",
    "- Pain, numbness, weakness or coldness in legs or arms  \n",
    "\n",
    "- Pain in neck, jaw, throat, upper abdomen or back  \n",
    "\n",
    "Treatment for heart disease includes lifestyle changes, medications, or medical procedure/surgery. \"\"\")"
   ]
  },
  {
   "cell_type": "code",
   "execution_count": null,
   "id": "a2b8847d-9604-4ee6-8779-612f3c47da7b",
   "metadata": {},
   "outputs": [],
   "source": [
    "# LOW BIRTH WEIGHT DESCRIPTION\n",
    "\n",
    "with column2: \n",
    "    st.title('What is Low Birth Weight?', anchor=None)\n",
    "    st.markdown(\"\"\"Low birthweight (LBW) is when a baby is born below 5 pounds and 8 ounces. Risk factors for low birth weight include premature birth and intrauterine growth restriction (IUGR) in the baby due to environmental or genetic factors in the womb. Some women are at higher risk for having babies with IUGR.\n",
    "\n",
    "**Risk factors** in the mother include weight of mother < 100 pounds, use of drugs or alcohol, poor nutrition, racial and ethnic factors, and socioeconomic factors.  \n",
    "\n",
    "Common problems of LBW babies includes low oxygen levels at birth, sudden infant death syndrome, infection, respiratory problems, bleeding inside the brain, gastrointestinal problems.\n",
    "\n",
    "Low birthweight can be estimated in different ways during pregnancy. Specific management for LBW will be determined by your baby’s doctor based on factors such as baby’s gestational age and tolerance for specific medications. \"\"\")"
   ]
  },
  {
   "cell_type": "code",
   "execution_count": null,
   "id": "4c226c62-64e8-4f3f-bc26-84ebe3ed1b7b",
   "metadata": {},
   "outputs": [],
   "source": [
    "st.dataframe(df) #(temporary)"
   ]
  }
 ],
 "metadata": {
  "kernelspec": {
   "display_name": "Python 3 (ipykernel)",
   "language": "python",
   "name": "python3"
  },
  "language_info": {
   "codemirror_mode": {
    "name": "ipython",
    "version": 3
   },
   "file_extension": ".py",
   "mimetype": "text/x-python",
   "name": "python",
   "nbconvert_exporter": "python",
   "pygments_lexer": "ipython3",
   "version": "3.9.7"
  }
 },
 "nbformat": 4,
 "nbformat_minor": 5
}
