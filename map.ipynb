{
 "cells": [
  {
   "cell_type": "code",
   "execution_count": 1,
   "id": "721dd4ee-5c3d-4b0a-a589-65437db1a00e",
   "metadata": {},
   "outputs": [],
   "source": [
    "# a file to practice getting map input (click or input address), and getting census tract and GEOID out\n",
    "# will need to run this in another .py file, but easier to see here in .ipynb"
   ]
  },
  {
   "cell_type": "code",
   "execution_count": null,
   "id": "7184daee-7ca1-40c8-ba38-aa0b9f5adee2",
   "metadata": {},
   "outputs": [],
   "source": []
  }
 ],
 "metadata": {
  "kernelspec": {
   "display_name": "Python 3 (ipykernel)",
   "language": "python",
   "name": "python3"
  },
  "language_info": {
   "codemirror_mode": {
    "name": "ipython",
    "version": 3
   },
   "file_extension": ".py",
   "mimetype": "text/x-python",
   "name": "python",
   "nbconvert_exporter": "python",
   "pygments_lexer": "ipython3",
   "version": "3.9.7"
  }
 },
 "nbformat": 4,
 "nbformat_minor": 5
}
