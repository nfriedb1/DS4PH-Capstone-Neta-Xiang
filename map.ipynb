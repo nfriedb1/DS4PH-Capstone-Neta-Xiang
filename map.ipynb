{
 "cells": [
  {
   "cell_type": "code",
   "execution_count": 68,
   "id": "721dd4ee-5c3d-4b0a-a589-65437db1a00e",
   "metadata": {},
   "outputs": [],
   "source": [
    "# READ THIS\n",
    "# THIS FILE IS A MESS OF NETA\"S PRACTICE CODE!! IGNORE!! DO NOT USE!!!!!!!!\n",
    "\n",
    "\n",
    "\n",
    "\n",
    "\n",
    "# a file to practice getting map input (click or input address), and getting census tract and GEOID out\n",
    "# will need to run this in another .py file, but easier to see here in .ipynb"
   ]
  },
  {
   "cell_type": "code",
   "execution_count": 2,
   "id": "7184daee-7ca1-40c8-ba38-aa0b9f5adee2",
   "metadata": {},
   "outputs": [],
   "source": [
    "# can try geocodio\n",
    "# https://www.geocod.io/docs/?python#introduction"
   ]
  },
  {
   "cell_type": "code",
   "execution_count": 34,
   "id": "24b2c54f-bbe8-4c09-9bb2-29d9364582ac",
   "metadata": {},
   "outputs": [
    {
     "data": {
      "text/plain": [
       "'24510060300'"
      ]
     },
     "execution_count": 34,
     "metadata": {},
     "output_type": "execute_result"
    }
   ],
   "source": [
    "# can try censusgeocode\n",
    "# https://pypi.org/project/censusgeocode/\n",
    "\n",
    "import censusgeocode as cg\n",
    "\n",
    "# a function to get the census tract from a coordinate pair\n",
    "def getcensus(lat, long):\n",
    "    geocode_result_fromcoord = cg.coordinates(lat, long)\n",
    "    ct_full = geocode_result_fromcoord.get('Census Tracts')[0]\n",
    "    ct = ct_full.get('GEOID')\n",
    "    return ct\n",
    "\n",
    "getcensus(-76.58542, 39.293507)"
   ]
  },
  {
   "cell_type": "code",
   "execution_count": 66,
   "id": "134f288d-cd60-4211-9c18-c4455c7477dc",
   "metadata": {},
   "outputs": [
    {
     "data": {
      "text/plain": [
       "(39.293507, -76.58542)"
      ]
     },
     "execution_count": 66,
     "metadata": {},
     "output_type": "execute_result"
    }
   ],
   "source": [
    "#cg.onelineaddress('1600 Pennsylvania Avenue, Washington, DC', returntype='locations')\n",
    "#cg.address('1600 Pennsylvania Avenue', city='Washington', state='DC', zipcode = 20003, returntype = 'locations')\n",
    "\n",
    "# a function to get a coordinate pair from an address\n",
    "def getcoord(street, city, state, zipcode):\n",
    "    geocode_result_fromaddress = cg.address(street, city = city, state = state, zipcode = zipcode, returntype = 'locations')[0]\n",
    "    coords_full = geocode_result_fromaddress.get('coordinates') \n",
    "    lat = coords_full.get('y')\n",
    "    long = coords_full.get('x')\n",
    "    return lat, long\n",
    "\n",
    "getcoord('1600 Pennsylvania Avenue', 'Washington', 'DC', '20003')\n",
    "netasplace = getcoord('2225 E Lamley St', 'Baltimore', 'MD', '21231')\n",
    "netasplace"
   ]
  },
  {
   "cell_type": "code",
   "execution_count": 67,
   "id": "8d0f858a-5de9-4acf-9435-432a9f43d90f",
   "metadata": {},
   "outputs": [
    {
     "ename": "TypeError",
     "evalue": "'NoneType' object is not subscriptable",
     "output_type": "error",
     "traceback": [
      "\u001b[0;31m---------------------------------------------------------------------------\u001b[0m",
      "\u001b[0;31mTypeError\u001b[0m                                 Traceback (most recent call last)",
      "\u001b[0;32m/var/folders/mz/lj9qstqn0xx05yz_msfvc01m0000gn/T/ipykernel_12473/662449867.py\u001b[0m in \u001b[0;36m<module>\u001b[0;34m\u001b[0m\n\u001b[0;32m----> 1\u001b[0;31m \u001b[0mgetcensus\u001b[0m\u001b[0;34m(\u001b[0m\u001b[0mnetasplace\u001b[0m\u001b[0;34m[\u001b[0m\u001b[0;36m0\u001b[0m\u001b[0;34m]\u001b[0m\u001b[0;34m,\u001b[0m \u001b[0mnetasplace\u001b[0m\u001b[0;34m[\u001b[0m\u001b[0;36m1\u001b[0m\u001b[0;34m]\u001b[0m\u001b[0;34m)\u001b[0m \u001b[0;31m# to get ct from address\u001b[0m\u001b[0;34m\u001b[0m\u001b[0;34m\u001b[0m\u001b[0m\n\u001b[0m",
      "\u001b[0;32m/var/folders/mz/lj9qstqn0xx05yz_msfvc01m0000gn/T/ipykernel_12473/3721706226.py\u001b[0m in \u001b[0;36mgetcensus\u001b[0;34m(lat, long)\u001b[0m\n\u001b[1;32m      7\u001b[0m \u001b[0;32mdef\u001b[0m \u001b[0mgetcensus\u001b[0m\u001b[0;34m(\u001b[0m\u001b[0mlat\u001b[0m\u001b[0;34m,\u001b[0m \u001b[0mlong\u001b[0m\u001b[0;34m)\u001b[0m\u001b[0;34m:\u001b[0m\u001b[0;34m\u001b[0m\u001b[0;34m\u001b[0m\u001b[0m\n\u001b[1;32m      8\u001b[0m     \u001b[0mgeocode_result_fromcoord\u001b[0m \u001b[0;34m=\u001b[0m \u001b[0mcg\u001b[0m\u001b[0;34m.\u001b[0m\u001b[0mcoordinates\u001b[0m\u001b[0;34m(\u001b[0m\u001b[0mlat\u001b[0m\u001b[0;34m,\u001b[0m \u001b[0mlong\u001b[0m\u001b[0;34m)\u001b[0m\u001b[0;34m\u001b[0m\u001b[0;34m\u001b[0m\u001b[0m\n\u001b[0;32m----> 9\u001b[0;31m     \u001b[0mct_full\u001b[0m \u001b[0;34m=\u001b[0m \u001b[0mgeocode_result_fromcoord\u001b[0m\u001b[0;34m.\u001b[0m\u001b[0mget\u001b[0m\u001b[0;34m(\u001b[0m\u001b[0;34m'Census Tracts'\u001b[0m\u001b[0;34m)\u001b[0m\u001b[0;34m[\u001b[0m\u001b[0;36m0\u001b[0m\u001b[0;34m]\u001b[0m\u001b[0;34m\u001b[0m\u001b[0;34m\u001b[0m\u001b[0m\n\u001b[0m\u001b[1;32m     10\u001b[0m     \u001b[0mct\u001b[0m \u001b[0;34m=\u001b[0m \u001b[0mct_full\u001b[0m\u001b[0;34m.\u001b[0m\u001b[0mget\u001b[0m\u001b[0;34m(\u001b[0m\u001b[0;34m'GEOID'\u001b[0m\u001b[0;34m)\u001b[0m\u001b[0;34m\u001b[0m\u001b[0;34m\u001b[0m\u001b[0m\n\u001b[1;32m     11\u001b[0m     \u001b[0;32mreturn\u001b[0m \u001b[0mct\u001b[0m\u001b[0;34m\u001b[0m\u001b[0;34m\u001b[0m\u001b[0m\n",
      "\u001b[0;31mTypeError\u001b[0m: 'NoneType' object is not subscriptable"
     ]
    }
   ],
   "source": [
    "getcensus(netasplace[0], netasplace[1]) # to get ct from address"
   ]
  },
  {
   "cell_type": "code",
   "execution_count": 50,
   "id": "ae65b1a2-7a99-4659-bc62-a0758a0b57fe",
   "metadata": {},
   "outputs": [
    {
     "data": {
      "text/html": [
       "<div>\n",
       "<style scoped>\n",
       "    .dataframe tbody tr th:only-of-type {\n",
       "        vertical-align: middle;\n",
       "    }\n",
       "\n",
       "    .dataframe tbody tr th {\n",
       "        vertical-align: top;\n",
       "    }\n",
       "\n",
       "    .dataframe thead th {\n",
       "        text-align: right;\n",
       "    }\n",
       "</style>\n",
       "<table border=\"1\" class=\"dataframe\">\n",
       "  <thead>\n",
       "    <tr style=\"text-align: right;\">\n",
       "      <th></th>\n",
       "      <th>0</th>\n",
       "      <th>1</th>\n",
       "    </tr>\n",
       "  </thead>\n",
       "  <tbody>\n",
       "    <tr>\n",
       "      <th>0</th>\n",
       "      <td>-76</td>\n",
       "      <td>34</td>\n",
       "    </tr>\n",
       "  </tbody>\n",
       "</table>\n",
       "</div>"
      ],
      "text/plain": [
       "     0   1\n",
       "0  -76  34"
      ]
     },
     "execution_count": 50,
     "metadata": {},
     "output_type": "execute_result"
    }
   ],
   "source": [
    "# dataframe?\n",
    "\n",
    "import pandas as pd\n",
    "temp = ('-76', '34')\n",
    "temp_df = pd.DataFrame(temp).swapaxes(\"index\", \"columns\")\n",
    "temp_df"
   ]
  },
  {
   "cell_type": "code",
   "execution_count": 62,
   "id": "65a45706-c217-4413-b024-88462c05c003",
   "metadata": {},
   "outputs": [
    {
     "data": {
      "text/html": [
       "<div>\n",
       "<style scoped>\n",
       "    .dataframe tbody tr th:only-of-type {\n",
       "        vertical-align: middle;\n",
       "    }\n",
       "\n",
       "    .dataframe tbody tr th {\n",
       "        vertical-align: top;\n",
       "    }\n",
       "\n",
       "    .dataframe thead th {\n",
       "        text-align: right;\n",
       "    }\n",
       "</style>\n",
       "<table border=\"1\" class=\"dataframe\">\n",
       "  <thead>\n",
       "    <tr style=\"text-align: right;\">\n",
       "      <th></th>\n",
       "      <th>lon</th>\n",
       "      <th>lat</th>\n",
       "    </tr>\n",
       "  </thead>\n",
       "  <tbody>\n",
       "    <tr>\n",
       "      <th>0</th>\n",
       "      <td>-76.98351</td>\n",
       "      <td>38.87963</td>\n",
       "    </tr>\n",
       "  </tbody>\n",
       "</table>\n",
       "</div>"
      ],
      "text/plain": [
       "        lon       lat\n",
       "0 -76.98351  38.87963"
      ]
     },
     "execution_count": 62,
     "metadata": {},
     "output_type": "execute_result"
    }
   ],
   "source": [
    "coord_tuple = getcoord('1600 Pennsylvania Avenue', 'Washington', 'DC', '20003')\n",
    "location_df = pd.DataFrame(coord_tuple, index = ['lon', 'lat']).swapaxes(\"index\", \"columns\")\n",
    "location_df\n"
   ]
  },
  {
   "cell_type": "code",
   "execution_count": 60,
   "id": "0ce13929-52b5-40d0-a4db-08f037d9164f",
   "metadata": {},
   "outputs": [
    {
     "data": {
      "text/html": [
       "<div>\n",
       "<style scoped>\n",
       "    .dataframe tbody tr th:only-of-type {\n",
       "        vertical-align: middle;\n",
       "    }\n",
       "\n",
       "    .dataframe tbody tr th {\n",
       "        vertical-align: top;\n",
       "    }\n",
       "\n",
       "    .dataframe thead th {\n",
       "        text-align: right;\n",
       "    }\n",
       "</style>\n",
       "<table border=\"1\" class=\"dataframe\">\n",
       "  <thead>\n",
       "    <tr style=\"text-align: right;\">\n",
       "      <th></th>\n",
       "      <th>lat</th>\n",
       "      <th>lon</th>\n",
       "    </tr>\n",
       "  </thead>\n",
       "  <tbody>\n",
       "    <tr>\n",
       "      <th>0</th>\n",
       "      <td>37.773914</td>\n",
       "      <td>-122.420562</td>\n",
       "    </tr>\n",
       "    <tr>\n",
       "      <th>1</th>\n",
       "      <td>37.728340</td>\n",
       "      <td>-122.401221</td>\n",
       "    </tr>\n",
       "    <tr>\n",
       "      <th>2</th>\n",
       "      <td>37.775084</td>\n",
       "      <td>-122.414657</td>\n",
       "    </tr>\n",
       "    <tr>\n",
       "      <th>3</th>\n",
       "      <td>37.784085</td>\n",
       "      <td>-122.389620</td>\n",
       "    </tr>\n",
       "    <tr>\n",
       "      <th>4</th>\n",
       "      <td>37.765259</td>\n",
       "      <td>-122.382652</td>\n",
       "    </tr>\n",
       "    <tr>\n",
       "      <th>...</th>\n",
       "      <td>...</td>\n",
       "      <td>...</td>\n",
       "    </tr>\n",
       "    <tr>\n",
       "      <th>995</th>\n",
       "      <td>37.761707</td>\n",
       "      <td>-122.403968</td>\n",
       "    </tr>\n",
       "    <tr>\n",
       "      <th>996</th>\n",
       "      <td>37.789970</td>\n",
       "      <td>-122.417599</td>\n",
       "    </tr>\n",
       "    <tr>\n",
       "      <th>997</th>\n",
       "      <td>37.771805</td>\n",
       "      <td>-122.413795</td>\n",
       "    </tr>\n",
       "    <tr>\n",
       "      <th>998</th>\n",
       "      <td>37.737355</td>\n",
       "      <td>-122.415038</td>\n",
       "    </tr>\n",
       "    <tr>\n",
       "      <th>999</th>\n",
       "      <td>37.763836</td>\n",
       "      <td>-122.377420</td>\n",
       "    </tr>\n",
       "  </tbody>\n",
       "</table>\n",
       "<p>1000 rows × 2 columns</p>\n",
       "</div>"
      ],
      "text/plain": [
       "           lat         lon\n",
       "0    37.773914 -122.420562\n",
       "1    37.728340 -122.401221\n",
       "2    37.775084 -122.414657\n",
       "3    37.784085 -122.389620\n",
       "4    37.765259 -122.382652\n",
       "..         ...         ...\n",
       "995  37.761707 -122.403968\n",
       "996  37.789970 -122.417599\n",
       "997  37.771805 -122.413795\n",
       "998  37.737355 -122.415038\n",
       "999  37.763836 -122.377420\n",
       "\n",
       "[1000 rows x 2 columns]"
      ]
     },
     "execution_count": 60,
     "metadata": {},
     "output_type": "execute_result"
    }
   ],
   "source": [
    "import numpy as np\n",
    "df = pd.DataFrame(\n",
    "     np.random.randn(1000, 2) / [50, 50] + [37.76, -122.4],\n",
    "     columns=['lat', 'lon'])\n",
    "df"
   ]
  },
  {
   "cell_type": "code",
   "execution_count": null,
   "id": "b1d103f5-9659-4357-bc1b-8b1deccedd25",
   "metadata": {},
   "outputs": [],
   "source": []
  }
 ],
 "metadata": {
  "kernelspec": {
   "display_name": "Python 3 (ipykernel)",
   "language": "python",
   "name": "python3"
  },
  "language_info": {
   "codemirror_mode": {
    "name": "ipython",
    "version": 3
   },
   "file_extension": ".py",
   "mimetype": "text/x-python",
   "name": "python",
   "nbconvert_exporter": "python",
   "pygments_lexer": "ipython3",
   "version": "3.9.7"
  }
 },
 "nbformat": 4,
 "nbformat_minor": 5
}
